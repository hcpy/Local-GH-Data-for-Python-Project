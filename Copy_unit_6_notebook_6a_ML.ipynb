{
  "nbformat": 4,
  "nbformat_minor": 0,
  "metadata": {
    "colab": {
      "name": "Copy unit_6_notebook_6a_ML.ipynb",
      "provenance": [],
      "collapsed_sections": [
        "wxbBn9dRqUzJ",
        "2aYrQJ3sqeyY",
        "8jmiJDlcq2wa",
        "Z1Ma26-wrLhL",
        "HK1bZqF5sBSC",
        "5nUnT7QHsox6"
      ],
      "toc_visible": true,
      "include_colab_link": true
    },
    "kernelspec": {
      "name": "python3",
      "display_name": "Python 3"
    }
  },
  "cells": [
    {
      "cell_type": "markdown",
      "metadata": {
        "id": "view-in-github",
        "colab_type": "text"
      },
      "source": [
        "<a href=\"https://colab.research.google.com/github/hcpy/Local-GH-Data-for-Python-Project/blob/main/Copy_unit_6_notebook_6a_ML.ipynb\" target=\"_parent\"><img src=\"https://colab.research.google.com/assets/colab-badge.svg\" alt=\"Open In Colab\"/></a>"
      ]
    },
    {
      "cell_type": "markdown",
      "metadata": {
        "id": "lwuTCUVlJeY6"
      },
      "source": [
        "# Unit 6 - Instructional DEMO 6a and 6b: Applications of Python in biomedical science: Statistics and Machine Learning\n",
        "\n",
        " - **Focus:** Basic statistical analyses and an introduction to machine learning (ML). \n",
        " - **Author(s):** Sara B-C.\n",
        " - **Date Notebook Last Modified:** 08.22.2020\n",
        " - **Quick Description:** Here we run through the most common stats and ML tasks in biomedical data science. In the beginning, just hit play at each cell and watch things work. Once you are done, you can download the finished results. **There are some exercises to complete at the end!**\n",
        "\n",
        "---\n",
        "## Code outline\n",
        "  0. Set up file stream (yep, this is in every notebook).\n",
        "  1. Central tendency.\n",
        "  2. Variability.\n",
        "  3. Correlation.   \n",
        "  4. Comparing means.\n",
        "  5. Comparing freqs.\n",
        "  6. Linear models (introduction to regressions).\n",
        "  7. ML munging.\n",
        "  8. Unsupervised learning - ML clustering.\n",
        "  9. Supervised learning - ML regression.\n",
        "  10. Supervised learning - ML classification.\n",
        "\n",
        "---\n",
        "## Additional notes\n",
        "*   These tools will likely be instrumental to your final team projects.\n",
        "*   The tools you are walked through here is not an exhaustive list, but if you work at NIH, these are by far the most common workflows you will encounter with regards to data analysis.  \n",
        "*   Check out [GenoML](https://genoml.github.io/) for automated machine learning and genomics pipelines. "
      ]
    },
    {
      "cell_type": "markdown",
      "metadata": {
        "id": "XuUnubnFH9xZ"
      },
      "source": [
        "## 0. Lets set up filestream access\n",
        "Follow the directions on screen as you run the code cell below and then you can access the data stored on your 'My Drive'. For many of you, this is the first python code you will ever execute knowingly, as most google infrastructure is python based (another reason why the language is growing)You did this before, let's go!"
      ]
    },
    {
      "cell_type": "code",
      "metadata": {
        "id": "D2qRSmw3GUNA",
        "colab": {
          "base_uri": "https://localhost:8080/"
        },
        "outputId": "781d8f82-c4ac-434d-fda4-f0a9078b40f1"
      },
      "source": [
        "import os\n",
        "from google.colab import drive\n",
        "drive.mount('/content/drive/')\n",
        "os.chdir(\"/content/drive/My Drive/FAES_BIOF309/\")\n",
        " "
      ],
      "execution_count": 4,
      "outputs": [
        {
          "output_type": "stream",
          "name": "stdout",
          "text": [
            "Drive already mounted at /content/drive/; to attempt to forcibly remount, call drive.mount(\"/content/drive/\", force_remount=True).\n"
          ]
        }
      ]
    },
    {
      "cell_type": "markdown",
      "metadata": {
        "id": "mITVzECaO2j6"
      },
      "source": [
        "Above you should now see the output \"Mounted at /content/drive/\". This means your storage is now connected to your notebook and its runtime. A runtime is the computer it will use to execute code and other computations. We'll cover what the above code means once you have learned some more python."
      ]
    },
    {
      "cell_type": "code",
      "metadata": {
        "id": "VR5FucSFG53k"
      },
      "source": [
        "# Some quick imports.\n",
        "import pandas as pd\n",
        "import numpy as np\n",
        "import scipy.stats\n",
        "import statsmodels.stats.weightstats as sms\n",
        "import statsmodels.formula.api as smf\n",
        "import statsmodels.api as sm"
      ],
      "execution_count": 5,
      "outputs": []
    },
    {
      "cell_type": "markdown",
      "metadata": {
        "id": "GD8TX9ZoUxd5"
      },
      "source": [
        "## 1. Central tendency.\n"
      ]
    },
    {
      "cell_type": "code",
      "metadata": {
        "id": "RHliNCrvVAkc"
      },
      "source": [
        "test_df = pd.read_csv(\"./example_data/discrete/training_addit.csv\")"
      ],
      "execution_count": 6,
      "outputs": []
    },
    {
      "cell_type": "code",
      "metadata": {
        "id": "kZ1t8CbIHQ8D",
        "colab": {
          "base_uri": "https://localhost:8080/"
        },
        "outputId": "bc14266e-10de-4961-919f-f4ee0001a8af"
      },
      "source": [
        "test_df['AGE'].mean()"
      ],
      "execution_count": 7,
      "outputs": [
        {
          "output_type": "execute_result",
          "data": {
            "text/plain": [
              "64.156"
            ]
          },
          "metadata": {},
          "execution_count": 7
        }
      ]
    },
    {
      "cell_type": "code",
      "metadata": {
        "id": "1pUnNeSgHlZ9",
        "colab": {
          "base_uri": "https://localhost:8080/"
        },
        "outputId": "6bbb2605-95d4-49d2-9caa-5ac8ec89226a"
      },
      "source": [
        "test_df['AGE'].median()"
      ],
      "execution_count": 8,
      "outputs": [
        {
          "output_type": "execute_result",
          "data": {
            "text/plain": [
              "65.0"
            ]
          },
          "metadata": {},
          "execution_count": 8
        }
      ]
    },
    {
      "cell_type": "code",
      "metadata": {
        "id": "g29Jk_kKHzUd",
        "colab": {
          "base_uri": "https://localhost:8080/"
        },
        "outputId": "fb233b48-5180-4cb3-d822-52d010111cf1"
      },
      "source": [
        "test_df['AGE'].mode()"
      ],
      "execution_count": 9,
      "outputs": [
        {
          "output_type": "execute_result",
          "data": {
            "text/plain": [
              "0    67\n",
              "1    72\n",
              "dtype: int64"
            ]
          },
          "metadata": {},
          "execution_count": 9
        }
      ]
    },
    {
      "cell_type": "code",
      "metadata": {
        "id": "cgnAP-ygIPzi",
        "colab": {
          "base_uri": "https://localhost:8080/"
        },
        "outputId": "618107c8-0d3c-4621-dd03-5fe8e24bf7e2"
      },
      "source": [
        "test_df['AGE'].value_counts() \n",
        "# Note the tie at 67 and 72."
      ],
      "execution_count": 10,
      "outputs": [
        {
          "output_type": "execute_result",
          "data": {
            "text/plain": [
              "67    27\n",
              "72    27\n",
              "73    23\n",
              "63    22\n",
              "71    21\n",
              "64    20\n",
              "61    20\n",
              "68    19\n",
              "66    19\n",
              "59    18\n",
              "57    17\n",
              "70    16\n",
              "58    16\n",
              "60    14\n",
              "65    14\n",
              "56    14\n",
              "50    12\n",
              "74    12\n",
              "55    11\n",
              "69    11\n",
              "76    11\n",
              "75    11\n",
              "77    10\n",
              "51    10\n",
              "53    10\n",
              "62    10\n",
              "54     8\n",
              "78     7\n",
              "82     7\n",
              "79     7\n",
              "45     6\n",
              "48     5\n",
              "52     5\n",
              "49     4\n",
              "80     4\n",
              "43     4\n",
              "83     4\n",
              "35     3\n",
              "42     2\n",
              "84     2\n",
              "39     2\n",
              "34     2\n",
              "44     2\n",
              "47     2\n",
              "85     2\n",
              "86     1\n",
              "46     1\n",
              "36     1\n",
              "41     1\n",
              "87     1\n",
              "40     1\n",
              "81     1\n",
              "Name: AGE, dtype: int64"
            ]
          },
          "metadata": {},
          "execution_count": 10
        }
      ]
    },
    {
      "cell_type": "markdown",
      "metadata": {
        "id": "cIO-6lW3aMhn"
      },
      "source": [
        "## 2. Variability.\n",
        "\n"
      ]
    },
    {
      "cell_type": "code",
      "metadata": {
        "id": "jnT8f_uefYCK",
        "colab": {
          "base_uri": "https://localhost:8080/"
        },
        "outputId": "fe121ba2-dfb4-4a8e-db43-e603e875af93"
      },
      "source": [
        "test_df['AGE'].var(ddof=0) # Reports variance."
      ],
      "execution_count": 11,
      "outputs": [
        {
          "output_type": "execute_result",
          "data": {
            "text/plain": [
              "99.38766399999999"
            ]
          },
          "metadata": {},
          "execution_count": 11
        }
      ]
    },
    {
      "cell_type": "code",
      "metadata": {
        "id": "QSZ5-dP0I_2_",
        "colab": {
          "base_uri": "https://localhost:8080/"
        },
        "outputId": "a9a57c87-6ae1-4278-c43b-7680dfe31b22"
      },
      "source": [
        "test_df['AGE'].std() \n",
        "# Reports the standard deviation of the mean."
      ],
      "execution_count": 12,
      "outputs": [
        {
          "output_type": "execute_result",
          "data": {
            "text/plain": [
              "9.979320501685006"
            ]
          },
          "metadata": {},
          "execution_count": 12
        }
      ]
    },
    {
      "cell_type": "code",
      "metadata": {
        "id": "fPgUbJBmJfif",
        "colab": {
          "base_uri": "https://localhost:8080/"
        },
        "outputId": "06569723-1460-4e0a-c97a-0e4a81ce6b18"
      },
      "source": [
        "test_df['AGE'].skew() \n",
        "# This reports a slightly negative skew to the distributed variance."
      ],
      "execution_count": 13,
      "outputs": [
        {
          "output_type": "execute_result",
          "data": {
            "text/plain": [
              "-0.41661743033100274"
            ]
          },
          "metadata": {},
          "execution_count": 13
        }
      ]
    },
    {
      "cell_type": "code",
      "metadata": {
        "id": "ud9YbtbnJr-H",
        "colab": {
          "base_uri": "https://localhost:8080/"
        },
        "outputId": "dfbbb28d-3763-410f-880b-5affe0696fe8"
      },
      "source": [
        "np.percentile(test_df['AGE'], [25, 50, 75]) \n",
        "# Percentiles via numpy."
      ],
      "execution_count": 14,
      "outputs": [
        {
          "output_type": "execute_result",
          "data": {
            "text/plain": [
              "array([58., 65., 72.])"
            ]
          },
          "metadata": {},
          "execution_count": 14
        }
      ]
    },
    {
      "cell_type": "code",
      "metadata": {
        "id": "BoCB8rqfKDPO",
        "colab": {
          "base_uri": "https://localhost:8080/"
        },
        "outputId": "5d298ccd-3394-4104-d595-e6b1bf56346c"
      },
      "source": [
        "test_df['AGE'].describe() \n",
        "# Saves us a lot of coding and time here!"
      ],
      "execution_count": 15,
      "outputs": [
        {
          "output_type": "execute_result",
          "data": {
            "text/plain": [
              "count    500.000000\n",
              "mean      64.156000\n",
              "std        9.979321\n",
              "min       34.000000\n",
              "25%       58.000000\n",
              "50%       65.000000\n",
              "75%       72.000000\n",
              "max       87.000000\n",
              "Name: AGE, dtype: float64"
            ]
          },
          "metadata": {},
          "execution_count": 15
        }
      ]
    },
    {
      "cell_type": "markdown",
      "metadata": {
        "id": "POhPV15zi9ZO"
      },
      "source": [
        "## 3. Correlation.\n"
      ]
    },
    {
      "cell_type": "code",
      "metadata": {
        "id": "PmUfrWYwKv-p",
        "colab": {
          "base_uri": "https://localhost:8080/"
        },
        "outputId": "c8d23afc-2356-4573-d765-890b2286b23b"
      },
      "source": [
        "r, p = scipy.stats.pearsonr(test_df['AGE'], test_df['UPSIT']) \n",
        "print(f\"Your correlation coefficient is {r} with a pval of {p}\") \n",
        "# Prints the correlation results, looks like an inverse association to me."
      ],
      "execution_count": 16,
      "outputs": [
        {
          "output_type": "stream",
          "name": "stdout",
          "text": [
            "Your correlation coefficient is -0.25409712920895383 with a pval of 8.292255654314207e-09\n"
          ]
        }
      ]
    },
    {
      "cell_type": "markdown",
      "metadata": {
        "id": "JCZ1RMiWkW_3"
      },
      "source": [
        "## 4. Comparing  means.\n"
      ]
    },
    {
      "cell_type": "code",
      "metadata": {
        "id": "mwGA2Gbekj-D",
        "colab": {
          "base_uri": "https://localhost:8080/"
        },
        "outputId": "d38e29f1-13f9-4850-d6c2-7f8714ec0bcb"
      },
      "source": [
        "training_df = pd.read_csv(\"./example_data/discrete/training_addit.csv\")\n",
        "validation_df = pd.read_csv(\"./example_data/discrete/validation_addit.csv\")\n",
        "\n",
        "t2, p2 = scipy.stats.ttest_ind(training_df['AGE'],validation_df['AGE']) # 2 sample independent t-test.\n",
        "print(f\"Your t-statistic is {t2} with a pval of {p2}\") \n",
        "# Prints the results of the mean comparison, no signfiicant difference between training and validation data."
      ],
      "execution_count": 17,
      "outputs": [
        {
          "output_type": "stream",
          "name": "stdout",
          "text": [
            "Your t-statistic is -0.3825747293448552 with a pval of 0.7021710457972911\n"
          ]
        }
      ]
    },
    {
      "cell_type": "markdown",
      "metadata": {
        "id": "dk_AdyrqnhO8"
      },
      "source": [
        "## 5. Comparing freqs.\n"
      ]
    },
    {
      "cell_type": "code",
      "metadata": {
        "id": "LDXWIAylnvJz",
        "colab": {
          "base_uri": "https://localhost:8080/"
        },
        "outputId": "5b9726bb-d516-4e60-8594-aaf410f369d5"
      },
      "source": [
        "z, p = sms.ztest(training_df['FAMILY_HISTORY'],validation_df['FAMILY_HISTORY'])\n",
        "print(f\"Your z-statistic is {z} with a pval of {p}\") # Prints the results of the frequency comparison, inclusing a Z and P values, no signfiicant difference between training and validation data."
      ],
      "execution_count": 18,
      "outputs": [
        {
          "output_type": "stream",
          "name": "stdout",
          "text": [
            "Your z-statistic is -1.0660705242078015 with a pval of 0.2863917628555547\n"
          ]
        }
      ]
    },
    {
      "cell_type": "markdown",
      "metadata": {
        "id": "k_CjE9ogKnD3"
      },
      "source": [
        "## 6. General linear models."
      ]
    },
    {
      "cell_type": "code",
      "metadata": {
        "id": "akMTAt0jLN2R",
        "colab": {
          "base_uri": "https://localhost:8080/"
        },
        "outputId": "cceba28d-5af9-4cc3-bd0e-22d70b9ef0d6"
      },
      "source": [
        "# Linear model, is AGE associated with UPSIT score?\n",
        "this_formula = \"UPSIT ~ AGE\"\n",
        "res = smf.ols(formula=this_formula, data=training_df).fit() \n",
        "print(res.summary()) # Age is negatively associated with UPSIT, very strongly!"
      ],
      "execution_count": 19,
      "outputs": [
        {
          "output_type": "stream",
          "name": "stdout",
          "text": [
            "                            OLS Regression Results                            \n",
            "==============================================================================\n",
            "Dep. Variable:                  UPSIT   R-squared:                       0.065\n",
            "Model:                            OLS   Adj. R-squared:                  0.063\n",
            "Method:                 Least Squares   F-statistic:                     34.37\n",
            "Date:                Thu, 28 Jul 2022   Prob (F-statistic):           8.29e-09\n",
            "Time:                        00:05:03   Log-Likelihood:                -1803.8\n",
            "No. Observations:                 500   AIC:                             3612.\n",
            "Df Residuals:                     498   BIC:                             3620.\n",
            "Df Model:                           1                                         \n",
            "Covariance Type:            nonrobust                                         \n",
            "==============================================================================\n",
            "                 coef    std err          t      P>|t|      [0.025      0.975]\n",
            "------------------------------------------------------------------------------\n",
            "Intercept     41.1540      2.604     15.804      0.000      36.038      46.270\n",
            "AGE           -0.2351      0.040     -5.863      0.000      -0.314      -0.156\n",
            "==============================================================================\n",
            "Omnibus:                       82.597   Durbin-Watson:                   1.917\n",
            "Prob(Omnibus):                  0.000   Jarque-Bera (JB):               26.089\n",
            "Skew:                          -0.303   Prob(JB):                     2.16e-06\n",
            "Kurtosis:                       2.059   Cond. No.                         423.\n",
            "==============================================================================\n",
            "\n",
            "Warnings:\n",
            "[1] Standard Errors assume that the covariance matrix of the errors is correctly specified.\n"
          ]
        }
      ]
    },
    {
      "cell_type": "code",
      "metadata": {
        "id": "ab2CuJ3GXnuf",
        "colab": {
          "base_uri": "https://localhost:8080/"
        },
        "outputId": "d2d46c38-82f7-4125-a8e0-342356751d58"
      },
      "source": [
        "# Logistic model, is UPSIT score associated with FAMILY_HISTORY of parkinson's disease after adjusting for AGE?\n",
        "this_formula = \"FAMILY_HISTORY ~ UPSIT + AGE\"\n",
        "res = smf.glm(formula=this_formula, family=sm.families.Binomial(), data=test_df).fit() \n",
        "print(res.summary()) # Both are important independently!"
      ],
      "execution_count": 20,
      "outputs": [
        {
          "output_type": "stream",
          "name": "stdout",
          "text": [
            "                 Generalized Linear Model Regression Results                  \n",
            "==============================================================================\n",
            "Dep. Variable:         FAMILY_HISTORY   No. Observations:                  500\n",
            "Model:                            GLM   Df Residuals:                      497\n",
            "Model Family:                Binomial   Df Model:                            2\n",
            "Link Function:                  logit   Scale:                          1.0000\n",
            "Method:                          IRLS   Log-Likelihood:                -228.12\n",
            "Date:                Thu, 28 Jul 2022   Deviance:                       456.25\n",
            "Time:                        00:05:03   Pearson chi2:                     487.\n",
            "No. Iterations:                     5                                         \n",
            "Covariance Type:            nonrobust                                         \n",
            "==============================================================================\n",
            "                 coef    std err          z      P>|z|      [0.025      0.975]\n",
            "------------------------------------------------------------------------------\n",
            "Intercept      2.0060      0.945      2.122      0.034       0.153       3.859\n",
            "UPSIT         -0.0573      0.013     -4.277      0.000      -0.083      -0.031\n",
            "AGE           -0.0326      0.012     -2.630      0.009      -0.057      -0.008\n",
            "==============================================================================\n"
          ]
        }
      ]
    },
    {
      "cell_type": "markdown",
      "metadata": {
        "id": "RvZ1wUpoNnZ-"
      },
      "source": [
        "## 7. ML munging.\n",
        "Primary aspects of data munging included in preprocessing are:\n",
        "1. One hot encoding string and categorical data.\n",
        "2. Imputing missing data.\n",
        "2. Scaling data to approximately the same numeric space.\n",
        "Remember, you need numeric data only for ML in `sklearn`. Luckily the package does have a lot of [preprocessing](https://scikit-learn.org/stable/modules/preprocessing.html#preprocessing) tools."
      ]
    },
    {
      "cell_type": "code",
      "metadata": {
        "id": "i7smJIMsN0r_",
        "colab": {
          "base_uri": "https://localhost:8080/"
        },
        "outputId": "f3779e42-7daf-4e52-d82f-88aa6f4b48c9"
      },
      "source": [
        "# Impute missing values to mean of the series.\n",
        "from sklearn.impute import SimpleImputer\n",
        "\n",
        "imputer = SimpleImputer(missing_values = np.nan, strategy ='mean') \n",
        "  \n",
        "data = [[12, np.nan, 34], [10, 32, np.nan], [np.nan, 11, 20]] \n",
        "  \n",
        "print(\"Original Data : \\n\", data) \n",
        "# Fitting the data to the imputer object \n",
        "imputer = imputer.fit(data) "
      ],
      "execution_count": 21,
      "outputs": [
        {
          "output_type": "stream",
          "name": "stdout",
          "text": [
            "Original Data : \n",
            " [[12, nan, 34], [10, 32, nan], [nan, 11, 20]]\n"
          ]
        }
      ]
    },
    {
      "cell_type": "code",
      "metadata": {
        "id": "BH9EfeuNdUpo",
        "colab": {
          "base_uri": "https://localhost:8080/"
        },
        "outputId": "4b1d7df7-6b2f-4707-9974-e9104dfd934f"
      },
      "source": [
        "# Imputing the data      \n",
        "data = imputer.transform(data) \n",
        "  \n",
        "print(\"Imputed Data : \\n\", data) # Remember we impute by columns."
      ],
      "execution_count": 22,
      "outputs": [
        {
          "output_type": "stream",
          "name": "stdout",
          "text": [
            "Imputed Data : \n",
            " [[12.  21.5 34. ]\n",
            " [10.  32.  27. ]\n",
            " [11.  11.  20. ]]\n"
          ]
        }
      ]
    },
    {
      "cell_type": "code",
      "metadata": {
        "id": "snrxF4bVdiAz"
      },
      "source": [
        "# Now let's scale some data (normalization). Some algorithms for ML require all data to be in the same numeric space.\n",
        "from sklearn import preprocessing\n",
        "\n",
        "# standardize the data attributes\n",
        "training_df = pd.read_csv(\"./example_data/discrete/training_addit.csv\")\n",
        "training_df['standardized_AGE'] = preprocessing.scale(training_df['AGE']) # Pretty easy, huh "
      ],
      "execution_count": 23,
      "outputs": []
    },
    {
      "cell_type": "code",
      "metadata": {
        "id": "2-Rf7-BtfJ45",
        "colab": {
          "base_uri": "https://localhost:8080/"
        },
        "outputId": "2f634f83-9b24-4f34-d773-998c9647260e"
      },
      "source": [
        "training_df['AGE'].describe() # Raw data description."
      ],
      "execution_count": 24,
      "outputs": [
        {
          "output_type": "execute_result",
          "data": {
            "text/plain": [
              "count    500.000000\n",
              "mean      64.156000\n",
              "std        9.979321\n",
              "min       34.000000\n",
              "25%       58.000000\n",
              "50%       65.000000\n",
              "75%       72.000000\n",
              "max       87.000000\n",
              "Name: AGE, dtype: float64"
            ]
          },
          "metadata": {},
          "execution_count": 24
        }
      ]
    },
    {
      "cell_type": "code",
      "metadata": {
        "id": "r-uvPXiKfoXd",
        "colab": {
          "base_uri": "https://localhost:8080/"
        },
        "outputId": "e3f7515e-9313-434e-be20-233883fcc32e"
      },
      "source": [
        "training_df['standardized_AGE'].describe() # Centered at mean of 0 and standard deviation of 1 (except for floating point rounding issues)."
      ],
      "execution_count": 25,
      "outputs": [
        {
          "output_type": "execute_result",
          "data": {
            "text/plain": [
              "count    5.000000e+02\n",
              "mean    -5.773160e-16\n",
              "std      1.001002e+00\n",
              "min     -3.024875e+00\n",
              "25%     -6.174935e-01\n",
              "50%      8.465960e-02\n",
              "75%      7.868127e-01\n",
              "max      2.291426e+00\n",
              "Name: standardized_AGE, dtype: float64"
            ]
          },
          "metadata": {},
          "execution_count": 25
        }
      ]
    },
    {
      "cell_type": "markdown",
      "metadata": {
        "id": "VpSIwc4eTaBb"
      },
      "source": [
        "## 8. Unsupervised Learning - ML clustering."
      ]
    },
    {
      "cell_type": "code",
      "metadata": {
        "id": "J9JZWaN3TaYO",
        "colab": {
          "base_uri": "https://localhost:8080/"
        },
        "outputId": "96fc4a3f-4e0c-472a-c82e-793e0f95c72f"
      },
      "source": [
        "# Make some theoretical data that clusters well using `make_blob`, but first load some packages. This was extracted from sklearn and cmdline tutorials.\n",
        "\n",
        "import matplotlib.pyplot as plt\n",
        "import seaborn as sns\n",
        "import pandas as pd\n",
        "import numpy as np\n",
        "%matplotlib inline\n",
        "\n",
        "# Load make_blobs to simulate data.\n",
        "from sklearn.datasets import make_blobs\n",
        "\n",
        "# Load decomposition to do PCA analysis with sklearn.\n",
        "from sklearn import decomposition\n",
        "\n",
        "X1, Y1 = make_blobs(n_features=10, \n",
        "         n_samples=100,\n",
        "         centers=4, random_state=4,\n",
        "         cluster_std=2)\n",
        "print(X1.shape)"
      ],
      "execution_count": 26,
      "outputs": [
        {
          "output_type": "stream",
          "name": "stdout",
          "text": [
            "(100, 10)\n"
          ]
        }
      ]
    },
    {
      "cell_type": "code",
      "metadata": {
        "id": "cXLU4kpkhv5i"
      },
      "source": [
        "pca = decomposition.PCA(n_components=4)"
      ],
      "execution_count": 27,
      "outputs": []
    },
    {
      "cell_type": "code",
      "metadata": {
        "id": "CQX4rGnThwu5"
      },
      "source": [
        "pc = pca.fit_transform(X1)"
      ],
      "execution_count": 28,
      "outputs": []
    },
    {
      "cell_type": "code",
      "metadata": {
        "id": "ujqx6T35hqub",
        "colab": {
          "base_uri": "https://localhost:8080/",
          "height": 206
        },
        "outputId": "a23b105d-4fae-4a14-d79d-e68c0da6f33d"
      },
      "source": [
        "pc_df = pd.DataFrame(data = pc , \n",
        "        columns = ['PC1', 'PC2','PC3','PC4'])\n",
        "pc_df['Cluster'] = Y1\n",
        "pc_df.head()"
      ],
      "execution_count": 29,
      "outputs": [
        {
          "output_type": "execute_result",
          "data": {
            "text/plain": [
              "         PC1        PC2       PC3       PC4  Cluster\n",
              "0  -8.133443  -0.302138  9.984672  0.423878        2\n",
              "1  18.931381   0.193838  0.045462 -3.894042        1\n",
              "2  -6.571463 -14.188490 -3.120115  1.278588        0\n",
              "3  -7.533948  14.439427 -5.443487  3.358252        3\n",
              "4  -4.591760 -11.315284 -9.130630 -1.420151        0"
            ],
            "text/html": [
              "\n",
              "  <div id=\"df-18593e16-ea49-4ec8-a875-27ec48479b6c\">\n",
              "    <div class=\"colab-df-container\">\n",
              "      <div>\n",
              "<style scoped>\n",
              "    .dataframe tbody tr th:only-of-type {\n",
              "        vertical-align: middle;\n",
              "    }\n",
              "\n",
              "    .dataframe tbody tr th {\n",
              "        vertical-align: top;\n",
              "    }\n",
              "\n",
              "    .dataframe thead th {\n",
              "        text-align: right;\n",
              "    }\n",
              "</style>\n",
              "<table border=\"1\" class=\"dataframe\">\n",
              "  <thead>\n",
              "    <tr style=\"text-align: right;\">\n",
              "      <th></th>\n",
              "      <th>PC1</th>\n",
              "      <th>PC2</th>\n",
              "      <th>PC3</th>\n",
              "      <th>PC4</th>\n",
              "      <th>Cluster</th>\n",
              "    </tr>\n",
              "  </thead>\n",
              "  <tbody>\n",
              "    <tr>\n",
              "      <th>0</th>\n",
              "      <td>-8.133443</td>\n",
              "      <td>-0.302138</td>\n",
              "      <td>9.984672</td>\n",
              "      <td>0.423878</td>\n",
              "      <td>2</td>\n",
              "    </tr>\n",
              "    <tr>\n",
              "      <th>1</th>\n",
              "      <td>18.931381</td>\n",
              "      <td>0.193838</td>\n",
              "      <td>0.045462</td>\n",
              "      <td>-3.894042</td>\n",
              "      <td>1</td>\n",
              "    </tr>\n",
              "    <tr>\n",
              "      <th>2</th>\n",
              "      <td>-6.571463</td>\n",
              "      <td>-14.188490</td>\n",
              "      <td>-3.120115</td>\n",
              "      <td>1.278588</td>\n",
              "      <td>0</td>\n",
              "    </tr>\n",
              "    <tr>\n",
              "      <th>3</th>\n",
              "      <td>-7.533948</td>\n",
              "      <td>14.439427</td>\n",
              "      <td>-5.443487</td>\n",
              "      <td>3.358252</td>\n",
              "      <td>3</td>\n",
              "    </tr>\n",
              "    <tr>\n",
              "      <th>4</th>\n",
              "      <td>-4.591760</td>\n",
              "      <td>-11.315284</td>\n",
              "      <td>-9.130630</td>\n",
              "      <td>-1.420151</td>\n",
              "      <td>0</td>\n",
              "    </tr>\n",
              "  </tbody>\n",
              "</table>\n",
              "</div>\n",
              "      <button class=\"colab-df-convert\" onclick=\"convertToInteractive('df-18593e16-ea49-4ec8-a875-27ec48479b6c')\"\n",
              "              title=\"Convert this dataframe to an interactive table.\"\n",
              "              style=\"display:none;\">\n",
              "        \n",
              "  <svg xmlns=\"http://www.w3.org/2000/svg\" height=\"24px\"viewBox=\"0 0 24 24\"\n",
              "       width=\"24px\">\n",
              "    <path d=\"M0 0h24v24H0V0z\" fill=\"none\"/>\n",
              "    <path d=\"M18.56 5.44l.94 2.06.94-2.06 2.06-.94-2.06-.94-.94-2.06-.94 2.06-2.06.94zm-11 1L8.5 8.5l.94-2.06 2.06-.94-2.06-.94L8.5 2.5l-.94 2.06-2.06.94zm10 10l.94 2.06.94-2.06 2.06-.94-2.06-.94-.94-2.06-.94 2.06-2.06.94z\"/><path d=\"M17.41 7.96l-1.37-1.37c-.4-.4-.92-.59-1.43-.59-.52 0-1.04.2-1.43.59L10.3 9.45l-7.72 7.72c-.78.78-.78 2.05 0 2.83L4 21.41c.39.39.9.59 1.41.59.51 0 1.02-.2 1.41-.59l7.78-7.78 2.81-2.81c.8-.78.8-2.07 0-2.86zM5.41 20L4 18.59l7.72-7.72 1.47 1.35L5.41 20z\"/>\n",
              "  </svg>\n",
              "      </button>\n",
              "      \n",
              "  <style>\n",
              "    .colab-df-container {\n",
              "      display:flex;\n",
              "      flex-wrap:wrap;\n",
              "      gap: 12px;\n",
              "    }\n",
              "\n",
              "    .colab-df-convert {\n",
              "      background-color: #E8F0FE;\n",
              "      border: none;\n",
              "      border-radius: 50%;\n",
              "      cursor: pointer;\n",
              "      display: none;\n",
              "      fill: #1967D2;\n",
              "      height: 32px;\n",
              "      padding: 0 0 0 0;\n",
              "      width: 32px;\n",
              "    }\n",
              "\n",
              "    .colab-df-convert:hover {\n",
              "      background-color: #E2EBFA;\n",
              "      box-shadow: 0px 1px 2px rgba(60, 64, 67, 0.3), 0px 1px 3px 1px rgba(60, 64, 67, 0.15);\n",
              "      fill: #174EA6;\n",
              "    }\n",
              "\n",
              "    [theme=dark] .colab-df-convert {\n",
              "      background-color: #3B4455;\n",
              "      fill: #D2E3FC;\n",
              "    }\n",
              "\n",
              "    [theme=dark] .colab-df-convert:hover {\n",
              "      background-color: #434B5C;\n",
              "      box-shadow: 0px 1px 3px 1px rgba(0, 0, 0, 0.15);\n",
              "      filter: drop-shadow(0px 1px 2px rgba(0, 0, 0, 0.3));\n",
              "      fill: #FFFFFF;\n",
              "    }\n",
              "  </style>\n",
              "\n",
              "      <script>\n",
              "        const buttonEl =\n",
              "          document.querySelector('#df-18593e16-ea49-4ec8-a875-27ec48479b6c button.colab-df-convert');\n",
              "        buttonEl.style.display =\n",
              "          google.colab.kernel.accessAllowed ? 'block' : 'none';\n",
              "\n",
              "        async function convertToInteractive(key) {\n",
              "          const element = document.querySelector('#df-18593e16-ea49-4ec8-a875-27ec48479b6c');\n",
              "          const dataTable =\n",
              "            await google.colab.kernel.invokeFunction('convertToInteractive',\n",
              "                                                     [key], {});\n",
              "          if (!dataTable) return;\n",
              "\n",
              "          const docLinkHtml = 'Like what you see? Visit the ' +\n",
              "            '<a target=\"_blank\" href=https://colab.research.google.com/notebooks/data_table.ipynb>data table notebook</a>'\n",
              "            + ' to learn more about interactive tables.';\n",
              "          element.innerHTML = '';\n",
              "          dataTable['output_type'] = 'display_data';\n",
              "          await google.colab.output.renderOutput(dataTable, element);\n",
              "          const docLink = document.createElement('div');\n",
              "          docLink.innerHTML = docLinkHtml;\n",
              "          element.appendChild(docLink);\n",
              "        }\n",
              "      </script>\n",
              "    </div>\n",
              "  </div>\n",
              "  "
            ]
          },
          "metadata": {},
          "execution_count": 29
        }
      ]
    },
    {
      "cell_type": "code",
      "metadata": {
        "id": "EfBCeGBGh5mb",
        "colab": {
          "base_uri": "https://localhost:8080/"
        },
        "outputId": "3b1c5c01-32e9-4d55-c84d-1a8875a14280"
      },
      "source": [
        "pca.explained_variance_ratio_"
      ],
      "execution_count": 30,
      "outputs": [
        {
          "output_type": "execute_result",
          "data": {
            "text/plain": [
              "array([0.41594854, 0.3391866 , 0.1600729 , 0.02016822])"
            ]
          },
          "metadata": {},
          "execution_count": 30
        }
      ]
    },
    {
      "cell_type": "code",
      "metadata": {
        "id": "_pY1Nl6UiGrX",
        "colab": {
          "base_uri": "https://localhost:8080/",
          "height": 279
        },
        "outputId": "6e5c2dc5-6187-41e5-f974-7ec043738531"
      },
      "source": [
        "df = pd.DataFrame({'var':pca.explained_variance_ratio_,\n",
        "             'PC':['PC1','PC2','PC3','PC4']})\n",
        "sns.barplot(x='PC',y=\"var\", \n",
        "           data=df, color=\"c\");"
      ],
      "execution_count": 31,
      "outputs": [
        {
          "output_type": "display_data",
          "data": {
            "text/plain": [
              "<Figure size 432x288 with 1 Axes>"
            ],
            "image/png": "[encoded data removed]"
          },
          "metadata": {
            "needs_background": "light"
          }
        }
      ]
    },
    {
      "cell_type": "code",
      "metadata": {
        "id": "2A86lN_miMSf",
        "colab": {
          "base_uri": "https://localhost:8080/",
          "height": 387
        },
        "outputId": "51437167-c9e7-4767-a61f-587c1a2d6d03"
      },
      "source": [
        "sns.lmplot( x=\"PC1\", y=\"PC2\",\n",
        "  data=pc_df, \n",
        "  fit_reg=False, \n",
        "  hue='Cluster', # Color by cluster.\n",
        "  legend=True,\n",
        "  scatter_kws={\"s\": 80}) # Specify the point size."
      ],
      "execution_count": 32,
      "outputs": [
        {
          "output_type": "execute_result",
          "data": {
            "text/plain": [
              "<seaborn.axisgrid.FacetGrid at 0x7fed23205650>"
            ]
          },
          "metadata": {},
          "execution_count": 32
        },
        {
          "output_type": "display_data",
          "data": {
            "text/plain": [
              "<Figure size 403.5x360 with 1 Axes>"
            ],
            "image/png": "[encoded data removed]"
          },
          "metadata": {
            "needs_background": "light"
          }
        }
      ]
    },
    {
      "cell_type": "markdown",
      "metadata": {
        "id": "G5cHXrPGTauC"
      },
      "source": [
        "## 9. Supervised Learning - ML regression.\n",
        "Based on a great example from geeksforgeeks."
      ]
    },
    {
      "cell_type": "code",
      "metadata": {
        "id": "1GoOSicPnmCq"
      },
      "source": [
        "# Some imports.\n",
        "import matplotlib \n",
        "import matplotlib.pyplot as plt \n",
        "import numpy as np \n",
        "from sklearn import datasets, linear_model \n",
        "import pandas as pd "
      ],
      "execution_count": 33,
      "outputs": []
    },
    {
      "cell_type": "code",
      "metadata": {
        "id": "RRoKXtS7Ta7q"
      },
      "source": [
        "# Load the data, format it and do some exploring.\n",
        "df = pd.read_csv(\"https://vincentarelbundock.github.io/Rdatasets/csv/Ecdat/Housing.csv\")\n",
        "\n",
        "Y = df['price'] \n",
        "X = df['lotsize'] \n",
        "   \n",
        "X=X.values.reshape(len(X),1) \n",
        "Y=Y.values.reshape(len(Y),1) \n",
        "   \n",
        "# Split the data into training/testing sets.\n",
        "X_train = X[:-250] \n",
        "X_test = X[-250:] \n",
        "   \n",
        "# Split the targets into training/testing sets. \n",
        "Y_train = Y[:-250] \n",
        "Y_test = Y[-250:] "
      ],
      "execution_count": 34,
      "outputs": []
    },
    {
      "cell_type": "code",
      "metadata": {
        "id": "2_t7U8swop_-",
        "colab": {
          "base_uri": "https://localhost:8080/"
        },
        "outputId": "9f4f6aed-acfc-433c-eef7-e6a589ec9dcb"
      },
      "source": [
        "# Create linear regression object. You can pick other algorithms from the sklearn toolbox as well.\n",
        "regr = linear_model.LinearRegression() \n",
        "   \n",
        "# Train the model using the training sets. \n",
        "regr.fit(X_train, Y_train) \n"
      ],
      "execution_count": 35,
      "outputs": [
        {
          "output_type": "execute_result",
          "data": {
            "text/plain": [
              "LinearRegression()"
            ]
          },
          "metadata": {},
          "execution_count": 35
        }
      ]
    },
    {
      "cell_type": "code",
      "metadata": {
        "id": "-g5jeKe8oyxA",
        "colab": {
          "base_uri": "https://localhost:8080/",
          "height": 278
        },
        "outputId": "989f68b1-4371-4149-81db-e1d1fbca3211"
      },
      "source": [
        "# Plot output in the test dataset after the trained model from the training dataset has been applied.\n",
        "plt.scatter(X_test, Y_test,  color='black') \n",
        "plt.title('Test Data') \n",
        "plt.xlabel('Size') \n",
        "plt.ylabel('Price') \n",
        "plt.xticks(()) \n",
        "plt.yticks(()) \n",
        "plt.plot(X_test, regr.predict(X_test), color='red',linewidth=3) \n",
        "plt.show() "
      ],
      "execution_count": 36,
      "outputs": [
        {
          "output_type": "display_data",
          "data": {
            "text/plain": [
              "<Figure size 432x288 with 1 Axes>"
            ],
            "image/png": "[encoded data removed]"
          },
          "metadata": {}
        }
      ]
    },
    {
      "cell_type": "code",
      "metadata": {
        "id": "ZSoUU-0_pCG3",
        "colab": {
          "base_uri": "https://localhost:8080/"
        },
        "outputId": "06cd1799-6a2d-4715-b335-7e1ba8791bd8"
      },
      "source": [
        "# Now examine various metrics for the model in the test dataset.\n",
        "from sklearn.metrics import explained_variance_score, mean_squared_error, median_absolute_error, r2_score\n",
        "\n",
        "name = \"regr\"\n",
        "algo = regr\n",
        "\n",
        "test_predictions = algo.predict(X_test)\n",
        "test_predictions = test_predictions\n",
        "evs = explained_variance_score(Y_test, test_predictions)\n",
        "print(\"Explained variance score: {:.4}\".format(evs))\n",
        "\t\n",
        "test_predictions = algo.predict(X_test)\n",
        "test_predictions = test_predictions\n",
        "mse = mean_squared_error(Y_test, test_predictions)\n",
        "print(\"Mean squared error: {:.4}\".format(mse))\n",
        "\t\n",
        "test_predictions = algo.predict(X_test)\n",
        "test_predictions = test_predictions\n",
        "mae = median_absolute_error(Y_test, test_predictions)\n",
        "print(\"Median absolute error: {:.4}\".format(mae))\n",
        "\t\n",
        "test_predictions = algo.predict(X_test)\n",
        "test_predictions = test_predictions\n",
        "r2s = r2_score(Y_test, test_predictions)\n",
        "print(\"R^2 score: {:.4}\".format(r2s))"
      ],
      "execution_count": 37,
      "outputs": [
        {
          "output_type": "stream",
          "name": "stdout",
          "text": [
            "Explained variance score: 0.1459\n",
            "Mean squared error: 7.259e+08\n",
            "Median absolute error: 1.472e+04\n",
            "R^2 score: -0.07359\n"
          ]
        }
      ]
    },
    {
      "cell_type": "markdown",
      "metadata": {
        "id": "mGsBiskVT0Zu"
      },
      "source": [
        "## 10. Supervised Learning - ML classification.\n",
        "Also based on a similar model from geeksforgeeks."
      ]
    },
    {
      "cell_type": "code",
      "metadata": {
        "id": "fzGqV8LPT2mf"
      },
      "source": [
        "# Some imports.\n",
        "import pandas as pd \n",
        "from sklearn.model_selection import train_test_split \n",
        "from sklearn.ensemble import RandomForestClassifier \n",
        "from sklearn.preprocessing import LabelEncoder \n",
        "from sklearn.metrics import confusion_matrix \n",
        "from sklearn.metrics import accuracy_score \n",
        "from sklearn.metrics import classification_report "
      ],
      "execution_count": 38,
      "outputs": []
    },
    {
      "cell_type": "code",
      "metadata": {
        "id": "nE8GcmydoUX3",
        "colab": {
          "base_uri": "https://localhost:8080/"
        },
        "outputId": "f395025e-bbf7-429c-93d5-31cc6d60aed2"
      },
      "source": [
        "df = pd.read_csv(\"https://archive.ics.uci.edu/ml/machine-learning-databases/iris/iris.data\", header= None) \n",
        "\n",
        "# Separating the predicting column from the whole dataset. \n",
        "X = df.iloc[:, :-1].values \n",
        "y = df.iloc[:, 4].values \n",
        "  \n",
        "# Encoding the predicting variable. \n",
        "labelencoder_y = LabelEncoder() \n",
        "y = labelencoder_y.fit_transform(y) \n",
        "  \n",
        "# Splitting the data into test and train dataset. \n",
        "X_train, X_test, y_train, y_test = train_test_split( \n",
        "              X, y, test_size = 0.3, random_state = 0) \n",
        "  \n",
        "# Using the random forest classifier for the prediction. There are many other algorithms as you will come to learn each performing slightly differently. \n",
        "classifier=RandomForestClassifier() \n",
        "classifier=classifier.fit(X_train,y_train) \n",
        "predicted=classifier.predict(X_test) \n",
        "  \n",
        "# Printing the results. \n",
        "print ('Confusion Matrix :') \n",
        "print(confusion_matrix(y_test, predicted)) \n",
        "print ('Accuracy Score :',accuracy_score(y_test, predicted)) \n",
        "print ('Report : ') \n",
        "print (classification_report(y_test, predicted)) "
      ],
      "execution_count": 39,
      "outputs": [
        {
          "output_type": "stream",
          "name": "stdout",
          "text": [
            "Confusion Matrix :\n",
            "[[16  0  0]\n",
            " [ 0 17  1]\n",
            " [ 0  0 11]]\n",
            "Accuracy Score : 0.9777777777777777\n",
            "Report : \n",
            "              precision    recall  f1-score   support\n",
            "\n",
            "           0       1.00      1.00      1.00        16\n",
            "           1       1.00      0.94      0.97        18\n",
            "           2       0.92      1.00      0.96        11\n",
            "\n",
            "    accuracy                           0.98        45\n",
            "   macro avg       0.97      0.98      0.98        45\n",
            "weighted avg       0.98      0.98      0.98        45\n",
            "\n"
          ]
        }
      ]
    },
    {
      "cell_type": "markdown",
      "metadata": {
        "id": "p_oU-yokpSTX"
      },
      "source": [
        "**Makes sense, now on to some exercises ...**"
      ]
    },
    {
      "cell_type": "markdown",
      "metadata": {
        "id": "GvJ8ZwG7pn0K"
      },
      "source": [
        "# Unit 6 - Assignment #6a\n",
        "***Come here to prove your knowledge.***\n",
        "\n",
        "Text cells will indicate a task.  \n",
        "Write your commands in the empty code cells below them."
      ]
    },
    {
      "cell_type": "markdown",
      "metadata": {
        "id": "wxbBn9dRqUzJ"
      },
      "source": [
        "## 1. Load any dataset you want (./example_data is an easy choice) and print the mean and standard deviation of a continuous variable below."
      ]
    },
    {
      "cell_type": "code",
      "metadata": {
        "id": "ELzciBM8qVKJ"
      },
      "source": [
        ""
      ],
      "execution_count": 39,
      "outputs": []
    },
    {
      "cell_type": "markdown",
      "metadata": {
        "id": "2aYrQJ3sqeyY"
      },
      "source": [
        "## 2. Calculate the variance of a variable of interest and explore the correlation between any two variables in a dataframe of your choosing."
      ]
    },
    {
      "cell_type": "code",
      "metadata": {
        "id": "9IqnLYX9q1_f"
      },
      "source": [
        ""
      ],
      "execution_count": 39,
      "outputs": []
    },
    {
      "cell_type": "markdown",
      "metadata": {
        "id": "8jmiJDlcq2wa"
      },
      "source": [
        "## 3. Compare the frequencies of any two binary variables."
      ]
    },
    {
      "cell_type": "code",
      "metadata": {
        "id": "FOBJ2pQdrJu-"
      },
      "source": [
        ""
      ],
      "execution_count": 39,
      "outputs": []
    },
    {
      "cell_type": "markdown",
      "metadata": {
        "id": "Z1Ma26-wrLhL"
      },
      "source": [
        "## 4. Compare the means of any two continuous variables."
      ]
    },
    {
      "cell_type": "code",
      "metadata": {
        "id": "rNgJSh9PsAp0"
      },
      "source": [
        ""
      ],
      "execution_count": 39,
      "outputs": []
    },
    {
      "cell_type": "markdown",
      "metadata": {
        "id": "HK1bZqF5sBSC"
      },
      "source": [
        "## 5. Impute some random data"
      ]
    },
    {
      "cell_type": "code",
      "metadata": {
        "id": "r8u8qObJsoc1"
      },
      "source": [
        ""
      ],
      "execution_count": 39,
      "outputs": []
    },
    {
      "cell_type": "markdown",
      "metadata": {
        "id": "5nUnT7QHsox6"
      },
      "source": [
        "## 6. Summarize a regression model using any data you'd like to try (either using `ols` or `glm`)."
      ]
    },
    {
      "cell_type": "code",
      "metadata": {
        "id": "t3PMnYiEtRrk"
      },
      "source": [
        ""
      ],
      "execution_count": 39,
      "outputs": []
    },
    {
      "cell_type": "markdown",
      "metadata": {
        "id": "IXN9yr_LtSYT"
      },
      "source": [
        "# Thanks, this is the end of the course!"
      ]
    }
  ]
}