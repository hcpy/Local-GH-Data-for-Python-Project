{
  "cells": [
    {
      "cell_type": "markdown",
      "metadata": {
        "id": "view-in-github",
        "colab_type": "text"
      },
      "source": [
        "<a href=\"https://colab.research.google.com/github/hcpy/Local-GH-Data-for-Python-Project/blob/main/2_Team_FAES_Python_Shared_Notebook_%5B30%20jul%5D.ipynb\" target=\"_parent\"><img src=\"https://colab.research.google.com/assets/colab-badge.svg\" alt=\"Open In Colab\"/></a>"
      ]
    },
    {
      "cell_type": "markdown",
      "source": [
        "# **Exploring Lung Cancer Data**\n",
        "### Team 2: Cynthia Sheffield, Hyun Chung, Joyce Thompson, Alvaro Curiel, Anna Grigsby-Brown, Santiago Guardo\n"
      ],
      "metadata": {
        "id": "OchrH71aZKRP"
      }
    },
    {
      "cell_type": "markdown",
      "source": [
        "GDrive that we could all authorize\n",
        "https://drive.google.com/drive/u/1/folders/1cwV_JYuip0uxm8VGfCEG8I6wVyGaeo0m\n",
        "Gmail\n",
        "teampythonfaes@gmail.com\n",
        "1augustmonday\n",
        "#file path: **\"/content/drive/MyDrive/Shared Team 2\"** bold text **bold text**\n",
        "\n",
        "---\n",
        "\n",
        "\n",
        "watch the spaces after \"2\" there should NONE.****** \n",
        "\n"
      ],
      "metadata": {
        "id": "Ax0xOK2sbd62"
      }
    },
    {
      "cell_type": "markdown",
      "metadata": {
        "id": "B0xiA7wtrimu"
      },
      "source": [
        "Github upload from Cynthia's cleaned data\n",
        "https://github.com/hcpy/lungcancer/blob/main/Trimmed%20Data%20Set%20for%20Team%20Project.csv\n",
        "\n",
        "# Data link\n",
        "# https://figshare.com/articles/dataset/Pesticide_and_lung_cancer/12356270?file=26424602\n",
        "\n",
        "\n",
        "\n",
        "What is the likelihood of getting lung cancer from a) smoking b) pesticides c) both\n",
        "\n",
        "Here is a drive folder with all the files we are using. I hope it is helpful \n",
        "https://drive.google.com/drive/folders/1obqf-4qclrno8AhVnZQgn9nKMIqvqiJi?usp=sharing\n"
      ]
    },
    {
      "cell_type": "markdown",
      "metadata": {
        "id": "QP9iRU8CalTW"
      },
      "source": [
        "#Module 1 - Establishing the Notebook & Exploring Data (Parsing/Merging) -- Cindy\n"
      ]
    },
    {
      "cell_type": "code",
      "source": [
        "#Establishing our Colab notebook\n",
        "from google.colab import drive\n",
        "drive.mount('/content/drive')"
      ],
      "metadata": {
        "colab": {
          "base_uri": "https://localhost:8080/"
        },
        "id": "kfFBqk_kmLKf",
        "outputId": "a2e78d1b-0151-4aa3-bb8e-59085d2b2a6e"
      },
      "execution_count": null,
      "outputs": [
        {
          "output_type": "stream",
          "name": "stdout",
          "text": [
            "Drive already mounted at /content/drive; to attempt to forcibly remount, call drive.mount(\"/content/drive\", force_remount=True).\n"
          ]
        }
      ]
    },
    {
      "cell_type": "code",
      "execution_count": null,
      "metadata": {
        "id": "8ypkiaDCgo9d"
      },
      "outputs": [],
      "source": [
        "#add our Python packages that we will need later such as pandas, numpy\n",
        "import os\n",
        "import pandas as pd\n",
        "from google.colab import drive\n",
        "drive.mount('/content/drive/')\n",
        "os.chdir(\"/content/drive/MyDrive/FAES_BIOF309/Shared Team 2\")"
      ]
    },
    {
      "cell_type": "code",
      "execution_count": null,
      "metadata": {
        "id": "iaaTphthJnps"
      },
      "outputs": [],
      "source": [
        "#establishing our data sets\n",
        "! ls -lsth (//content/drive/MyDrive/FAES_BIOF309/Shared Team 2)"
      ]
    },
    {
      "cell_type": "code",
      "execution_count": null,
      "metadata": {
        "id": "0yhEyL4mtcYB",
        "colab": {
          "base_uri": "https://localhost:8080/"
        },
        "outputId": "6a2114e3-eeb0-4ea5-f1d9-e05cb278ad86"
      },
      "outputs": [
        {
          "output_type": "stream",
          "name": "stdout",
          "text": [
            "﻿ID,LungCA,Gender,age,age_group,status,CigSmoke1,Cigarette_total\r\n",
            "1,1,1,75,4,2,1,0\r\n",
            "1.1,0,1,70,3,2,1,0\r\n",
            "1.2,0,1,72,3,2,1,0\r\n",
            "2,1,0,58,2,2,0,246375\r\n",
            "2.1,0,0,55,2,2,1,0\r\n",
            "2.2,0,0,62,2,2,1,0\r\n",
            "3,1,1,65,3,2,1,0\r\n",
            "3.1,0,1,60,2,2,1,0\r\n",
            "3.2,0,1,68,3,2,1,0\n",
            "﻿ID,LungCA,Gender,age,age_group,status,Glyphosate_use,Glyphosate_days\n",
            "1,1,1,75,4,2,0,0\n",
            "1.1,0,1,70,3,2,0,0\n",
            "1.2,0,1,72,3,2,0,0\n",
            "2,1,0,58,2,2,0,0\n",
            "2.1,0,0,55,2,2,1,160\n",
            "2.2,0,0,62,2,2,0,0\n",
            "3,1,1,65,3,2,0,0\n",
            "3.1,0,1,60,2,2,0,0\n",
            "3.2,0,1,68,3,2,0,0\n",
            "288.2,0,1,52,1,2,1,0\n",
            "289,1,0,71,3,2,1,0\n",
            "289.1,0,1,68,3,2,1,0\n",
            "289.2,0,0,67,3,2,1,0\n",
            "291,1,0,76,4,2,1,0\n",
            "291.1,0,0,71,3,2,1,0\n",
            "291.2,0,1,75,4,2,1,0\n",
            "292,1,0,67,3,2,1,0\n",
            "292.1,0,0,62,2,2,1,0\n",
            "292.2,0,0,72,3,2,0,5475\n",
            "288.2,0,1,52,1,2,1,1500\n",
            "289,1,0,71,3,2,0,0\n",
            "289.1,0,1,68,3,2,0,0\n",
            "289.2,0,0,67,3,2,0,0\n",
            "291,1,0,76,4,2,1,600\n",
            "291.1,0,0,71,3,2,1,900\n",
            "291.2,0,1,75,4,2,1,960\n",
            "292,1,0,67,3,2,0,0\n",
            "292.1,0,0,62,2,2,0,0\n",
            "292.2,0,0,72,3,2,1,1020\n"
          ]
        }
      ],
      "source": [
        "#examine our source data called \"Smoker\" and \"Glyphosate\" and take a look at the head and tail of each of these files \n",
        "#note the form and structure of the data generated below\n",
        "! head Smoker.csv\n",
        "! head Glyphosate.csv\n",
        "! tail Smoker.csv\n",
        "! tail Glyphosate.csv\n",
        "\n"
      ]
    },
    {
      "cell_type": "code",
      "execution_count": null,
      "metadata": {
        "colab": {
          "base_uri": "https://localhost:8080/"
        },
        "id": "8icWfuKRxYAD",
        "outputId": "b0653312-fbc9-4c63-8c15-ab121104e3d8"
      },
      "outputs": [
        {
          "output_type": "stream",
          "name": "stdout",
          "text": [
            "Cigarette_total\r\n",
            "0\r\n",
            "0\r\n",
            "0\r\n",
            "246375\r\n",
            "0\r\n",
            "0\r\n",
            "0\r\n",
            "0\r\n",
            "0\r\n"
          ]
        }
      ],
      "source": [
        "#Explore the column of day that lists the number of cigerettes used by smokers\n",
        "! cut -f 8 -d ',' /content/drive/MyDrive/FAES_BIOF309/Team2/Smoker.csv > Cigarette_total.txt\n",
        "! head Cigarette_total.txt"
      ]
    },
    {
      "cell_type": "code",
      "execution_count": null,
      "metadata": {
        "id": "IpWvF-sNyk0f",
        "colab": {
          "base_uri": "https://localhost:8080/"
        },
        "outputId": "74488284-39df-4988-aede-f7ca454c1f32"
      },
      "outputs": [
        {
          "output_type": "stream",
          "name": "stdout",
          "text": [
            ",ID,LungCA,Gender,age,age_group,status,CigSmoke1,Cigarette_total,Glyphosate_use,Glyphosate_days\n",
            "0,1.0,1,1,75,4,2,1,0,0,0\n",
            "1,1.1,0,1,70,3,2,1,0,0,0\n",
            "2,1.2,0,1,72,3,2,1,0,0,0\n",
            "3,2.0,1,0,58,2,2,0,246375,0,0\n",
            "4,2.1,0,0,55,2,2,1,0,1,160\n",
            "5,2.2,0,0,62,2,2,1,0,0,0\n",
            "6,3.0,1,1,65,3,2,1,0,0,0\n",
            "7,3.1,0,1,60,2,2,1,0,0,0\n",
            "8,3.2,0,1,68,3,2,1,0,0,0\n"
          ]
        }
      ],
      "source": [
        "#Combine the two data sets using pandas, resulting in a combined data set called LungCancer.\n",
        "#You can view the head of that table below.\n",
        "Smokerdata = pd.read_csv('/content/drive/MyDrive/FAES_BIOF309/Shared Team 2/Smoker.csv')\n",
        "Glyphosatedata = pd.read_csv('/content/drive/MyDrive/FAES_BIOF309/Shared Team 2/Glyphosate.csv')\n",
        "Lung_disease = pd.merge(Smokerdata, Glyphosatedata, how='inner', on=['ID', \"LungCA\", \"Gender\", \"age\", \"age_group\", \"status\"])\n",
        "Lung_disease.to_csv('/content/drive/MyDrive/FAES_BIOF309/Shared Team 2/LungDisease.csv')\n",
        "!head LungDisease.csv"
      ]
    },
    {
      "cell_type": "markdown",
      "metadata": {
        "id": "id7zBVzpai41"
      },
      "source": [
        "#Module 2 - Syntax, Statements, Semantics (Integers, Strings, etc.) -- Hyun \n",
        "\n",
        "\n",
        " \n",
        "\n"
      ]
    },
    {
      "cell_type": "markdown",
      "metadata": {
        "id": "CzWpszw2F5bK"
      },
      "source": [
        "To do: draft video Script for Cynthia\n",
        "In Week 2, we learned using string expressions. These are helpful to communicate to the user using text. We can use strings to assign text variables and combine them into sentences rather than writing one sentence or phrase at a time. \n"
      ]
    },
    {
      "cell_type": "code",
      "execution_count": null,
      "metadata": {
        "id": "s-sxCM02JTvr",
        "colab": {
          "base_uri": "https://localhost:8080/",
          "height": 105
        },
        "outputId": "8dcac058-13cb-446c-bd12-f31442221983"
      },
      "outputs": [
        {
          "output_type": "stream",
          "name": "stdout",
          "text": [
            "Drive already mounted at /content/drive/; to attempt to forcibly remount, call drive.mount(\"/content/drive/\", force_remount=True).\n",
            "Hello class! Let's examine data on lung cancer and pesticides\n",
            "There are variety of factors leading to cancer\n",
            "['genetics', 'SES', 'carcinogens']\n"
          ]
        },
        {
          "output_type": "execute_result",
          "data": {
            "text/plain": [
              "'Python is awesome for programming used in cancer research'"
            ],
            "application/vnd.google.colaboratory.intrinsic+json": {
              "type": "string"
            }
          },
          "metadata": {},
          "execution_count": 218
        }
      ],
      "source": [
        "#String expressions help document code so users know the purpose of the code. Syntax such a parens, brackets, squiggles are essential in python.\n",
        "\n",
        "import os\n",
        "from google.colab import drive\n",
        "drive.mount('/content/drive/')\n",
        "os.chdir(\"/content/drive/MyDrive/FAES_BIOF309/Shared Team 2\")\n",
        "\n",
        "print(\"Hello class! Let's examine data on lung cancer and pesticides\")  \n",
        "\n",
        "# Brackets are import syntax for lists.\n",
        "print (\"There are variety of factors leading to cancer\")\n",
        "\n",
        "causes = ['genetics',\n",
        "          'SES',\n",
        "          'carcinogens']\n",
        "print(causes)\n",
        "\n",
        "\"\"\"Python is awesome for programming used in cancer research\"\"\"\n",
        " "
      ]
    },
    {
      "cell_type": "code",
      "execution_count": null,
      "metadata": {
        "id": "zm3518jwE7Pr",
        "colab": {
          "base_uri": "https://localhost:8080/"
        },
        "outputId": "9031c510-47f4-4580-b84e-773d153a94a1"
      },
      "outputs": [
        {
          "output_type": "stream",
          "name": "stdout",
          "text": [
            "poor genetics is raises your cancer risk\n",
            "poor genetics is contributes to your health\n",
            "poor genetics is bad\n",
            "smoking is raises your cancer risk\n",
            "smoking is contributes to your health\n",
            "smoking is bad\n",
            "poverty is raises your cancer risk\n",
            "poverty is contributes to your health\n",
            "poverty is bad\n"
          ]
        }
      ],
      "source": [
        "#4. An intro to multiple indents.\n",
        "for i in ['poor genetics', 'smoking', 'poverty']:\n",
        "  for j in ['raises your cancer risk', 'contributes to your health', 'bad']:\n",
        "    print(i + \" is \" + j)\n",
        "#9 sentences generated by a few lines of code."
      ]
    },
    {
      "cell_type": "code",
      "execution_count": null,
      "metadata": {
        "colab": {
          "base_uri": "https://localhost:8080/"
        },
        "id": "vXm15z4KHQ_Q",
        "outputId": "0e7a4203-d1ce-4a3a-b79c-866a68bdad86"
      },
      "outputs": [
        {
          "output_type": "stream",
          "name": "stdout",
          "text": [
            "What are the contributing factors to cancer?\n",
            "genetics\n",
            "SES\n",
            "carcinogens\n"
          ]
        }
      ],
      "source": [
        "# looping through lists.\n",
        "\n",
        "print(\"What are the contributing factors to cancer?\")\n",
        "for i in causes:\n",
        "  print(i)"
      ]
    },
    {
      "cell_type": "markdown",
      "metadata": {
        "id": "2481JOiU4Yc5"
      },
      "source": [
        "2b: Python semantics."
      ]
    },
    {
      "cell_type": "code",
      "execution_count": null,
      "metadata": {
        "colab": {
          "base_uri": "https://localhost:8080/"
        },
        "id": "N2nulJll4ZEI",
        "outputId": "16145e78-3907-439f-8ca7-42ad339866c1"
      },
      "outputs": [
        {
          "output_type": "stream",
          "name": "stdout",
          "text": [
            "The column LungCA examines Lung cancer status of responders: \n",
            "0 refers to study participants without lung cancer\n",
            "1 refers to study participants with lung cancer \n"
          ]
        }
      ],
      "source": [
        "#Explaining the data abbreviations with string expressions\n",
        "# LungCA\n",
        "print (\"The column LungCA examines Lung cancer status of responders: \")\n",
        "a = \"0 refers to study participants without lung cancer\"\n",
        "b= \"1 refers to study participants with lung cancer \"\n",
        "print(a)\n",
        "print(b)"
      ]
    },
    {
      "cell_type": "code",
      "execution_count": null,
      "metadata": {
        "colab": {
          "base_uri": "https://localhost:8080/"
        },
        "id": "sf5ciBtPL7fG",
        "outputId": "1115bdb5-e8eb-4cd2-d171-88a4c2211ed4"
      },
      "outputs": [
        {
          "output_type": "stream",
          "name": "stdout",
          "text": [
            "How does Air_Pollution_ exposure raise risk of lung cancer development?\n",
            "0\n",
            "1\n",
            "What do 0, 1 mean?\n",
            "0 refer to responders who were not exposed to air pollution.\n",
            "1 refer to responders who were exposure to air pollution.\n"
          ]
        }
      ],
      "source": [
        "print (\"How does Air_Pollution_ exposure raise risk of lung cancer development?\")\n",
        "for i in range(0,2):\n",
        "    print(i)\n",
        "print (\"What do 0, 1 mean?\")\n",
        "print (\"0 refer to responders who were not exposed to air pollution.\")\n",
        "print (\"1 refer to responders who were exposure to air pollution.\")\n"
      ]
    },
    {
      "cell_type": "code",
      "execution_count": null,
      "metadata": {
        "id": "uVHZdKLiuRjU",
        "colab": {
          "base_uri": "https://localhost:8080/"
        },
        "outputId": "63557e0e-da84-481c-d79d-5137cdf9176e"
      },
      "outputs": [
        {
          "output_type": "stream",
          "name": "stdout",
          "text": [
            "Variable: Air Pollution explained 0 refers to responders who did not exposure to air pollution.  1 refers to responders who exposure to air pollution.\n"
          ]
        }
      ],
      "source": [
        "#Combine strings.\n",
        "a = \"Variable: Air Pollution explained \"\n",
        "b = \"0 refers to responders who did not exposure to air pollution.  \"\n",
        "c = \"1 refers to responders who exposure to air pollution.\"\n",
        "\n",
        "print (a  + b + c)"
      ]
    },
    {
      "cell_type": "code",
      "execution_count": null,
      "metadata": {
        "colab": {
          "base_uri": "https://localhost:8080/"
        },
        "id": "6ueHG2JIOlxs",
        "outputId": "17a3c4c6-9bbc-4910-fdf9-558bd35edd52"
      },
      "outputs": [
        {
          "output_type": "stream",
          "name": "stdout",
          "text": [
            "Responders’ exposure to air pollution from various sources, e.g. working in factory with air pollution (asbestos, diesel engine exhaust, silica, wood dust, painting and welding exposure), \n",
            "asbestos is bad\n",
            "asbestos is carcinogenic\n",
            "asbestos is unpleasant\n",
            "diesel is bad\n",
            "diesel is carcinogenic\n",
            "diesel is unpleasant\n",
            "lead paint is bad\n",
            "lead paint is carcinogenic\n",
            "lead paint is unpleasant\n"
          ]
        }
      ],
      "source": [
        "#Using lists, to generate responses in list 'j' for given prompts within lists 'i'.\n",
        "print (\"Responders’ exposure to air pollution from various sources, e.g. working in factory with air pollution (asbestos, diesel engine exhaust, silica, wood dust, painting and welding exposure), \")\n",
        "\n",
        "for i in ['asbestos', 'diesel', 'lead paint']:\n",
        "  for j in ['bad', 'carcinogenic', 'unpleasant']:\n",
        "    print(i + \" is \" + j)"
      ]
    },
    {
      "cell_type": "markdown",
      "source": [
        "#Module 3 - Data Structures, Operational Structures, Loops (Lists, Tuples, Dictionaries, Sets) -- Cindy/Santiago"
      ],
      "metadata": {
        "id": "mQGewPwjyh0l"
      }
    },
    {
      "cell_type": "code",
      "execution_count": null,
      "metadata": {
        "colab": {
          "base_uri": "https://localhost:8080/"
        },
        "id": "YdnXwY3AJUnb",
        "outputId": "eca72a98-673d-4f68-e9ac-3b22ae3bd265"
      },
      "outputs": [
        {
          "output_type": "execute_result",
          "data": {
            "text/plain": [
              "['smoker', 'glyphosate']"
            ]
          },
          "metadata": {},
          "execution_count": 230
        }
      ],
      "source": [
        "# (Cynthia) Module 3 = Make a list, count the list, make a truple, create a dictionary from the truple, create If, Elif, Else statements, incorporate a While loop, creat a Break in the While loop.\n",
        "#Create a list of patients who smoke\n",
        "import pandas as pd\n",
        "from pandas._libs.hashtable import value_count\n",
        "from numpy.ma.core import append\n",
        "from pandas.io.parsers.readers import read_csv\n",
        "\n",
        "#Decide with Risk Factors to analyse\n",
        "RiskFactors = ['smoker', 'glyphosate', 'genetics']\n",
        "RiskFactors.remove('genetics')\n",
        "RiskFactors"
      ]
    },
    {
      "cell_type": "code",
      "execution_count": null,
      "metadata": {
        "id": "yZCLIichumIx",
        "colab": {
          "base_uri": "https://localhost:8080/"
        },
        "outputId": "0bdcd758-7780-471b-e654-79c8d2430b90"
      },
      "outputs": [
        {
          "output_type": "stream",
          "name": "stdout",
          "text": [
            "680\n"
          ]
        }
      ],
      "source": [
        "#Determine Number of Study Participants for each risk factor\n",
        "\n",
        "#Counts - Total Test Subjects\n",
        "TestSubject = pd.read_csv('/content/drive/MyDrive/FAES_BIOF309/Team2/LungDisease.csv')\n",
        "row_count=len(TestSubject)\n",
        "print(row_count)  ##TestSubject Count\n"
      ]
    },
    {
      "cell_type": "code",
      "source": [
        "#Determine how many participants are Lung Cancer Positive / Negative\n",
        "LungCAData = pd.read_csv('/content/drive/MyDrive/FAES_BIOF309/Team2/LungDisease.csv', usecols = ['ID', 'LungCA'])\n",
        "LungCAData['LungCA'].value_counts() # 1=Non-Smoker; 0=Smoker"
      ],
      "metadata": {
        "colab": {
          "base_uri": "https://localhost:8080/"
        },
        "id": "Biz-CiXVklWy",
        "outputId": "802f9e6b-98f5-4a06-e8bb-e1879cf21c09"
      },
      "execution_count": null,
      "outputs": [
        {
          "output_type": "execute_result",
          "data": {
            "text/plain": [
              "0    447\n",
              "1    233\n",
              "Name: LungCA, dtype: int64"
            ]
          },
          "metadata": {},
          "execution_count": 41
        }
      ]
    },
    {
      "cell_type": "code",
      "source": [
        "#Smoker Counts\n",
        "SmokerData = pd.read_csv('/content/drive/MyDrive/FAES_BIOF309/Team2/LungDisease.csv', usecols = ['ID', 'CigSmoke1'])\n",
        "SmokerData['CigSmoke1'].value_counts() # 1=Non-Smoker; 0=Smoker"
      ],
      "metadata": {
        "colab": {
          "base_uri": "https://localhost:8080/"
        },
        "id": "xFV6VNLIkqnC",
        "outputId": "3cc83172-377d-4de3-dc4a-a67f49fbb5ca"
      },
      "execution_count": null,
      "outputs": [
        {
          "output_type": "execute_result",
          "data": {
            "text/plain": [
              "1    442\n",
              "0    238\n",
              "Name: CigSmoke1, dtype: int64"
            ]
          },
          "metadata": {},
          "execution_count": 107
        }
      ]
    },
    {
      "cell_type": "code",
      "source": [
        "# Glyphosate User Counts\n",
        "GlyphoData = pd.read_csv('/content/drive/MyDrive/FAES_BIOF309/Team2/LungDisease.csv', usecols = ['ID', 'Glyphosate_use'])\n",
        "GlyphoData['Glyphosate_use'].value_counts() # 1=Non-Smoker; 0=Smoker"
      ],
      "metadata": {
        "colab": {
          "base_uri": "https://localhost:8080/"
        },
        "id": "6O2TlbDxkud2",
        "outputId": "b0b5a5d3-e99f-4773-b5fe-e26fe16bfbc3"
      },
      "execution_count": null,
      "outputs": [
        {
          "output_type": "execute_result",
          "data": {
            "text/plain": [
              "0    399\n",
              "1    281\n",
              "Name: Glyphosate_use, dtype: int64"
            ]
          },
          "metadata": {},
          "execution_count": 108
        }
      ]
    },
    {
      "cell_type": "code",
      "source": [
        "###Looking at facets by specific ID using tupels for:ID, Cancer Status, Smoker Status, Number of Cigerettes, Glyphosate exposure, Number of day exposed to glyphosate\n",
        "ID_T=['1', '1.1', '1.2', '2', '2.1', '2.2']\n",
        "Status_T = ['1', '0', '0', '1', '0', '0']\n",
        "Smoker_T = ['1', '1', '1', '0', '1', '1']\n",
        "Cig_T = ['0', '0', '0', '0', '246375', '0']\n",
        "GlyU_T = ['0', '0', '0', '0', '1', '0']\n",
        "GlyD_T = ['0', '0', '0', '0', '160', '0']\n",
        "\n",
        "CAStatusKey = {\"ID=\":(ID_T[1]), \"Cancer\":(Status_T[1]), \"Smoker\":(Smoker_T[1]), \"Cigerettes\":(Cig_T[1]), \"Glyphosate User\":(GlyU_T[1]), \"Glyphosate Days\":(GlyD_T[1])}\n",
        "print (CAStatusKey)"
      ],
      "metadata": {
        "id": "QJng5115kyNS",
        "colab": {
          "base_uri": "https://localhost:8080/"
        },
        "outputId": "39c4d280-4d53-49be-ab01-4882a06becdc"
      },
      "execution_count": null,
      "outputs": [
        {
          "output_type": "stream",
          "name": "stdout",
          "text": [
            "{'ID=': '1.1', 'Cancer': '0', 'Smoker': '1', 'Cigerettes': '0', 'Glyphosate User': '0', 'Glyphosate Days': '0'}\n"
          ]
        }
      ]
    },
    {
      "cell_type": "markdown",
      "source": [
        "#Module 4 - Functions, String Manipulation and Regular Expressions (Qualitative Categorization expressions) -- Joyce Thompson\n",
        "\n"
      ],
      "metadata": {
        "id": "JQb8Cm-fx8t5"
      }
    },
    {
      "cell_type": "code",
      "source": [
        ""
      ],
      "metadata": {
        "id": "0iIUBIZhQRk7"
      },
      "execution_count": null,
      "outputs": []
    },
    {
      "cell_type": "code",
      "source": [
        "#Importing packages and mounting drive\n",
        "import pandas as pd\n",
        "import numpy as np\n",
        "import itertools\n",
        "from google.colab import drive\n",
        "import os\n",
        "drive.mount('/content/drive/')\n",
        "os.chdir(\"/content/drive/MyDrive/FAES_BIOF309/Team2\")"
      ],
      "metadata": {
        "id": "BhuLVbImyN4B",
        "colab": {
          "base_uri": "https://localhost:8080/"
        },
        "outputId": "ce0b33b2-5277-441d-c7b7-797b504c35a5"
      },
      "execution_count": null,
      "outputs": [
        {
          "output_type": "stream",
          "name": "stdout",
          "text": [
            "Drive already mounted at /content/drive/; to attempt to forcibly remount, call drive.mount(\"/content/drive/\", force_remount=True).\n"
          ]
        }
      ]
    },
    {
      "cell_type": "code",
      "source": [
        "#Read-in dataset: removed first row\n",
        "dataJT = pd.read_csv(\"/content/drive/MyDrive/FAES_BIOF309/Team2/Trimmed.csv\")\n",
        "dataJT.head()"
      ],
      "metadata": {
        "colab": {
          "base_uri": "https://localhost:8080/",
          "height": 300
        },
        "id": "TXIkqYh5zFea",
        "outputId": "aa609420-455b-4c6c-d5d3-4fa116a4b620"
      },
      "execution_count": null,
      "outputs": [
        {
          "output_type": "execute_result",
          "data": {
            "text/plain": [
              "    ID  LungCA  Gender  age  age_group  status  education  Occupation  \\\n",
              "0  1.0       1       1   75          4       2          1           1   \n",
              "1  1.1       0       1   70          3       2          1           1   \n",
              "2  1.2       0       1   72          3       2          1           1   \n",
              "3  2.0       1       0   58          2       2          1           1   \n",
              "4  2.1       0       0   55          2       2          1           1   \n",
              "\n",
              "   Residency  Distances  ...  Carbaryl_Savins_days  Carbofuran_use  \\\n",
              "0          2          1  ...                                     0   \n",
              "1          3          1  ...                                     0   \n",
              "2          2          1  ...                                     0   \n",
              "3          3          1  ...                                     1   \n",
              "4          3          1  ...                                     0   \n",
              "\n",
              "   Carbofuran_days  Abamectin_use Abamectin_days  Armure_Propiconazole_use  \\\n",
              "0                               0                                        0   \n",
              "1                               0                                        0   \n",
              "2                               0                                        0   \n",
              "3              480              0                                        0   \n",
              "4                               0                                        0   \n",
              "\n",
              "  Armure_Propiconazole_days  Metal_aldehyde_use  Metal_aldehyde_days  \\\n",
              "0                                             0                        \n",
              "1                                             0                        \n",
              "2                                             0                        \n",
              "3                                             1                        \n",
              "4                                             0                        \n",
              "\n",
              "  Morphology_Group  \n",
              "0                1  \n",
              "1                0  \n",
              "2                0  \n",
              "3                2  \n",
              "4                0  \n",
              "\n",
              "[5 rows x 68 columns]"
            ],
            "text/html": [
              "\n",
              "  <div id=\"df-6612bf0e-dd6b-4a7f-aaea-633d68724067\">\n",
              "    <div class=\"colab-df-container\">\n",
              "      <div>\n",
              "<style scoped>\n",
              "    .dataframe tbody tr th:only-of-type {\n",
              "        vertical-align: middle;\n",
              "    }\n",
              "\n",
              "    .dataframe tbody tr th {\n",
              "        vertical-align: top;\n",
              "    }\n",
              "\n",
              "    .dataframe thead th {\n",
              "        text-align: right;\n",
              "    }\n",
              "</style>\n",
              "<table border=\"1\" class=\"dataframe\">\n",
              "  <thead>\n",
              "    <tr style=\"text-align: right;\">\n",
              "      <th></th>\n",
              "      <th>ID</th>\n",
              "      <th>LungCA</th>\n",
              "      <th>Gender</th>\n",
              "      <th>age</th>\n",
              "      <th>age_group</th>\n",
              "      <th>status</th>\n",
              "      <th>education</th>\n",
              "      <th>Occupation</th>\n",
              "      <th>Residency</th>\n",
              "      <th>Distances</th>\n",
              "      <th>...</th>\n",
              "      <th>Carbaryl_Savins_days</th>\n",
              "      <th>Carbofuran_use</th>\n",
              "      <th>Carbofuran_days</th>\n",
              "      <th>Abamectin_use</th>\n",
              "      <th>Abamectin_days</th>\n",
              "      <th>Armure_Propiconazole_use</th>\n",
              "      <th>Armure_Propiconazole_days</th>\n",
              "      <th>Metal_aldehyde_use</th>\n",
              "      <th>Metal_aldehyde_days</th>\n",
              "      <th>Morphology_Group</th>\n",
              "    </tr>\n",
              "  </thead>\n",
              "  <tbody>\n",
              "    <tr>\n",
              "      <th>0</th>\n",
              "      <td>1.0</td>\n",
              "      <td>1</td>\n",
              "      <td>1</td>\n",
              "      <td>75</td>\n",
              "      <td>4</td>\n",
              "      <td>2</td>\n",
              "      <td>1</td>\n",
              "      <td>1</td>\n",
              "      <td>2</td>\n",
              "      <td>1</td>\n",
              "      <td>...</td>\n",
              "      <td></td>\n",
              "      <td>0</td>\n",
              "      <td></td>\n",
              "      <td>0</td>\n",
              "      <td></td>\n",
              "      <td>0</td>\n",
              "      <td></td>\n",
              "      <td>0</td>\n",
              "      <td></td>\n",
              "      <td>1</td>\n",
              "    </tr>\n",
              "    <tr>\n",
              "      <th>1</th>\n",
              "      <td>1.1</td>\n",
              "      <td>0</td>\n",
              "      <td>1</td>\n",
              "      <td>70</td>\n",
              "      <td>3</td>\n",
              "      <td>2</td>\n",
              "      <td>1</td>\n",
              "      <td>1</td>\n",
              "      <td>3</td>\n",
              "      <td>1</td>\n",
              "      <td>...</td>\n",
              "      <td></td>\n",
              "      <td>0</td>\n",
              "      <td></td>\n",
              "      <td>0</td>\n",
              "      <td></td>\n",
              "      <td>0</td>\n",
              "      <td></td>\n",
              "      <td>0</td>\n",
              "      <td></td>\n",
              "      <td>0</td>\n",
              "    </tr>\n",
              "    <tr>\n",
              "      <th>2</th>\n",
              "      <td>1.2</td>\n",
              "      <td>0</td>\n",
              "      <td>1</td>\n",
              "      <td>72</td>\n",
              "      <td>3</td>\n",
              "      <td>2</td>\n",
              "      <td>1</td>\n",
              "      <td>1</td>\n",
              "      <td>2</td>\n",
              "      <td>1</td>\n",
              "      <td>...</td>\n",
              "      <td></td>\n",
              "      <td>0</td>\n",
              "      <td></td>\n",
              "      <td>0</td>\n",
              "      <td></td>\n",
              "      <td>0</td>\n",
              "      <td></td>\n",
              "      <td>0</td>\n",
              "      <td></td>\n",
              "      <td>0</td>\n",
              "    </tr>\n",
              "    <tr>\n",
              "      <th>3</th>\n",
              "      <td>2.0</td>\n",
              "      <td>1</td>\n",
              "      <td>0</td>\n",
              "      <td>58</td>\n",
              "      <td>2</td>\n",
              "      <td>2</td>\n",
              "      <td>1</td>\n",
              "      <td>1</td>\n",
              "      <td>3</td>\n",
              "      <td>1</td>\n",
              "      <td>...</td>\n",
              "      <td></td>\n",
              "      <td>1</td>\n",
              "      <td>480</td>\n",
              "      <td>0</td>\n",
              "      <td></td>\n",
              "      <td>0</td>\n",
              "      <td></td>\n",
              "      <td>1</td>\n",
              "      <td></td>\n",
              "      <td>2</td>\n",
              "    </tr>\n",
              "    <tr>\n",
              "      <th>4</th>\n",
              "      <td>2.1</td>\n",
              "      <td>0</td>\n",
              "      <td>0</td>\n",
              "      <td>55</td>\n",
              "      <td>2</td>\n",
              "      <td>2</td>\n",
              "      <td>1</td>\n",
              "      <td>1</td>\n",
              "      <td>3</td>\n",
              "      <td>1</td>\n",
              "      <td>...</td>\n",
              "      <td></td>\n",
              "      <td>0</td>\n",
              "      <td></td>\n",
              "      <td>0</td>\n",
              "      <td></td>\n",
              "      <td>0</td>\n",
              "      <td></td>\n",
              "      <td>0</td>\n",
              "      <td></td>\n",
              "      <td>0</td>\n",
              "    </tr>\n",
              "  </tbody>\n",
              "</table>\n",
              "<p>5 rows × 68 columns</p>\n",
              "</div>\n",
              "      <button class=\"colab-df-convert\" onclick=\"convertToInteractive('df-6612bf0e-dd6b-4a7f-aaea-633d68724067')\"\n",
              "              title=\"Convert this dataframe to an interactive table.\"\n",
              "              style=\"display:none;\">\n",
              "        \n",
              "  <svg xmlns=\"http://www.w3.org/2000/svg\" height=\"24px\"viewBox=\"0 0 24 24\"\n",
              "       width=\"24px\">\n",
              "    <path d=\"M0 0h24v24H0V0z\" fill=\"none\"/>\n",
              "    <path d=\"M18.56 5.44l.94 2.06.94-2.06 2.06-.94-2.06-.94-.94-2.06-.94 2.06-2.06.94zm-11 1L8.5 8.5l.94-2.06 2.06-.94-2.06-.94L8.5 2.5l-.94 2.06-2.06.94zm10 10l.94 2.06.94-2.06 2.06-.94-2.06-.94-.94-2.06-.94 2.06-2.06.94z\"/><path d=\"M17.41 7.96l-1.37-1.37c-.4-.4-.92-.59-1.43-.59-.52 0-1.04.2-1.43.59L10.3 9.45l-7.72 7.72c-.78.78-.78 2.05 0 2.83L4 21.41c.39.39.9.59 1.41.59.51 0 1.02-.2 1.41-.59l7.78-7.78 2.81-2.81c.8-.78.8-2.07 0-2.86zM5.41 20L4 18.59l7.72-7.72 1.47 1.35L5.41 20z\"/>\n",
              "  </svg>\n",
              "      </button>\n",
              "      \n",
              "  <style>\n",
              "    .colab-df-container {\n",
              "      display:flex;\n",
              "      flex-wrap:wrap;\n",
              "      gap: 12px;\n",
              "    }\n",
              "\n",
              "    .colab-df-convert {\n",
              "      background-color: #E8F0FE;\n",
              "      border: none;\n",
              "      border-radius: 50%;\n",
              "      cursor: pointer;\n",
              "      display: none;\n",
              "      fill: #1967D2;\n",
              "      height: 32px;\n",
              "      padding: 0 0 0 0;\n",
              "      width: 32px;\n",
              "    }\n",
              "\n",
              "    .colab-df-convert:hover {\n",
              "      background-color: #E2EBFA;\n",
              "      box-shadow: 0px 1px 2px rgba(60, 64, 67, 0.3), 0px 1px 3px 1px rgba(60, 64, 67, 0.15);\n",
              "      fill: #174EA6;\n",
              "    }\n",
              "\n",
              "    [theme=dark] .colab-df-convert {\n",
              "      background-color: #3B4455;\n",
              "      fill: #D2E3FC;\n",
              "    }\n",
              "\n",
              "    [theme=dark] .colab-df-convert:hover {\n",
              "      background-color: #434B5C;\n",
              "      box-shadow: 0px 1px 3px 1px rgba(0, 0, 0, 0.15);\n",
              "      filter: drop-shadow(0px 1px 2px rgba(0, 0, 0, 0.3));\n",
              "      fill: #FFFFFF;\n",
              "    }\n",
              "  </style>\n",
              "\n",
              "      <script>\n",
              "        const buttonEl =\n",
              "          document.querySelector('#df-6612bf0e-dd6b-4a7f-aaea-633d68724067 button.colab-df-convert');\n",
              "        buttonEl.style.display =\n",
              "          google.colab.kernel.accessAllowed ? 'block' : 'none';\n",
              "\n",
              "        async function convertToInteractive(key) {\n",
              "          const element = document.querySelector('#df-6612bf0e-dd6b-4a7f-aaea-633d68724067');\n",
              "          const dataTable =\n",
              "            await google.colab.kernel.invokeFunction('convertToInteractive',\n",
              "                                                     [key], {});\n",
              "          if (!dataTable) return;\n",
              "\n",
              "          const docLinkHtml = 'Like what you see? Visit the ' +\n",
              "            '<a target=\"_blank\" href=https://colab.research.google.com/notebooks/data_table.ipynb>data table notebook</a>'\n",
              "            + ' to learn more about interactive tables.';\n",
              "          element.innerHTML = '';\n",
              "          dataTable['output_type'] = 'display_data';\n",
              "          await google.colab.output.renderOutput(dataTable, element);\n",
              "          const docLink = document.createElement('div');\n",
              "          docLink.innerHTML = docLinkHtml;\n",
              "          element.appendChild(docLink);\n",
              "        }\n",
              "      </script>\n",
              "    </div>\n",
              "  </div>\n",
              "  "
            ]
          },
          "metadata": {},
          "execution_count": 83
        }
      ]
    },
    {
      "cell_type": "code",
      "source": [
        "#What category are the values in each column\n",
        "print(dataJT.dtypes)"
      ],
      "metadata": {
        "colab": {
          "base_uri": "https://localhost:8080/"
        },
        "id": "RMIwnYfGzLTO",
        "outputId": "36f15be5-16a6-43f9-e0a1-1a2885e11038"
      },
      "execution_count": null,
      "outputs": [
        {
          "output_type": "stream",
          "name": "stdout",
          "text": [
            "ID                           float64\n",
            "LungCA                         int64\n",
            "Gender                         int64\n",
            "age                            int64\n",
            "age_group                      int64\n",
            "                              ...   \n",
            "Armure_Propiconazole_use       int64\n",
            "Armure_Propiconazole_days     object\n",
            "Metal_aldehyde_use             int64\n",
            "Metal_aldehyde_days           object\n",
            "Morphology_Group               int64\n",
            "Length: 68, dtype: object\n"
          ]
        }
      ]
    },
    {
      "cell_type": "markdown",
      "source": [
        "A. Simple counts to categorize lung cancer cases\n",
        "\n"
      ],
      "metadata": {
        "id": "1o75bClH2A-c"
      }
    },
    {
      "cell_type": "code",
      "source": [
        "#Count number of patients with Lung cancer\n",
        "df_LungCA = dataJT[\"LungCA\"]==1\n",
        "sum_LungCA = sum(df_LungCA)\n",
        "print (sum_LungCA, \"people have lung cancer\")"
      ],
      "metadata": {
        "colab": {
          "base_uri": "https://localhost:8080/"
        },
        "id": "0TJdoFJYzTyk",
        "outputId": "44be8f96-cbec-450c-cd46-614acda607a7"
      },
      "execution_count": null,
      "outputs": [
        {
          "output_type": "stream",
          "name": "stdout",
          "text": [
            "233 people have lung cancer\n"
          ]
        }
      ]
    },
    {
      "cell_type": "code",
      "source": [
        "#Count number of patients who don't have Lung cancer\n",
        "df_noLungCA = dataJT[\"LungCA\"]==0\n",
        "sum_noLungCA = sum(df_noLungCA)\n",
        "print (sum_noLungCA, \"people do not have lung cancer\")"
      ],
      "metadata": {
        "colab": {
          "base_uri": "https://localhost:8080/"
        },
        "id": "GWcMPEBDzg49",
        "outputId": "f7266063-663e-420d-b53f-24dc648c60fb"
      },
      "execution_count": null,
      "outputs": [
        {
          "output_type": "stream",
          "name": "stdout",
          "text": [
            "447 people do not have lung cancer\n"
          ]
        }
      ]
    },
    {
      "cell_type": "code",
      "source": [
        "#Slice data by lung cancer status\n",
        "LungCA_positive = dataJT.loc[dataJT[\"LungCA\"]==1]\n",
        "LungCA_negative = dataJT.loc[dataJT[\"LungCA\"]==0]"
      ],
      "metadata": {
        "id": "xnkdR4J0zqJ6"
      },
      "execution_count": null,
      "outputs": []
    },
    {
      "cell_type": "code",
      "source": [
        "#Count within people with lung cancer using forward loop\n",
        "n = [\"Gender\", \"age_group\", \"CigSmoke1\", \"Glyphosate_use\"]\n",
        "m = [\"males\", \"people younger than 55 years of age\", \" smokers\", \"glycophosphate users\"]\n",
        "for i,j in zip(n,m):\n",
        "  print(sum(LungCA_positive[i] ==1), j, \"have lung cancer\")"
      ],
      "metadata": {
        "id": "R1ehncS3z51J"
      },
      "execution_count": null,
      "outputs": []
    },
    {
      "cell_type": "code",
      "source": [
        "n = [\"Gender\", \"age_group\", \"CigSmoke1\", \"Glyphosate_use\"]\n",
        "m = [\"females\", \"people older than 54 years of age\", \" non-smokers\", \"non-glycophosphate users\"]\n",
        "for i,j in zip(n,m):\n",
        "  print(sum(LungCA_positive[i] !=1), j, \"have lung cancer\")"
      ],
      "metadata": {
        "id": "BATdAbKAz-IF"
      },
      "execution_count": null,
      "outputs": []
    },
    {
      "cell_type": "code",
      "source": [
        "#Count within people with no lung cancer using forward loop\n",
        "n = [\"Gender\", \"age_group\", \"CigSmoke1\", \"Glyphosate_use\"]\n",
        "m = [\"males\", \"people younger than 55 years of age\", \" smokers\", \"glycophosphate users\"]\n",
        "for i,j in zip(n,m):\n",
        "  print(sum(LungCA_negative[i] ==1), j, \"do not have lung cancer\")"
      ],
      "metadata": {
        "id": "8dOFjUEd0Hcn"
      },
      "execution_count": null,
      "outputs": []
    },
    {
      "cell_type": "code",
      "source": [
        "n = [\"Gender\", \"age_group\", \"CigSmoke1\", \"Glyphosate_use\"]\n",
        "m = [\"females\", \"people older than 54 years of age\", \" non-smokers\", \"non-glycophosphate users\"]\n",
        "for i,j in zip(n,m):\n",
        "  print(sum(LungCA_negative[i] !=1), j, \"do not have lung cancer\")"
      ],
      "metadata": {
        "id": "9RpYLW-C0N58"
      },
      "execution_count": null,
      "outputs": []
    },
    {
      "cell_type": "markdown",
      "source": [
        "B. Is there equal representation within the different categories? Categorization using if-else statements"
      ],
      "metadata": {
        "id": "F1Fdag6i2xuy"
      }
    },
    {
      "cell_type": "code",
      "source": [
        "#Categorization of people with lung cancer using if-else statements\n",
        "gender = LungCA_positive[\"Gender\"]\n",
        "age_group = LungCA_positive[\"age_group\"]\n",
        "smoker = LungCA_positive[\"CigSmoke1\"]\n",
        "glyco = LungCA_positive[\"Glyphosate_use\"]\n",
        "\n",
        "\n",
        "if sum(gender == 1) > sum(gender != 1):\n",
        "  print(\"Cancer group has more males\")\n",
        "else:\n",
        "    print (\"Cancer group has more females\")\n",
        "\n",
        "if sum(smoker == 1) > sum(smoker != 1):\n",
        "  print(\"Cancer group has more smokers\")\n",
        "else:\n",
        "    print (\"Cancer group has more non-smokers\")\n",
        "\n",
        "if sum(glyco == 1) > sum(glyco != 1):\n",
        "  print(\"Cancer group has more glycophosphate-users\")\n",
        "else:\n",
        "    print (\"Cancer group has more glycophosphate-non-users\")\n",
        "\n",
        "\n",
        "#Categorization of people without lung cancer using if-else statements\n",
        "gender = LungCA_negative[\"Gender\"]\n",
        "age_group = LungCA_negative[\"age_group\"]\n",
        "smoker = LungCA_negative[\"CigSmoke1\"]\n",
        "glyco = LungCA_negative[\"Glyphosate_use\"]\n",
        "\n",
        "\n",
        "if sum(gender == 1) > sum(gender != 1):\n",
        "  print(\"Control group has more males\")\n",
        "else:\n",
        "    print (\"Control group has more females\")\n",
        "\n",
        "if sum(smoker == 1) > sum(smoker != 1):\n",
        "  print(\"Control group has more smokers\")\n",
        "else:\n",
        "    print (\"Control group has more non-smokers\")\n",
        "\n",
        "if sum(glyco == 1) > sum(glyco != 1):\n",
        "  print(\"Control group has more glycophosphate-users\")\n",
        "else:\n",
        "    print (\"Control group has more glycophosphate-non-users\")\n",
        "\n",
        "#Categorizing data based on age group\n",
        "#In People with Lung cancer\n",
        "age_grp1_JT = LungCA_positive[\"age_group\"] == 1\n",
        "age_grp2_JT = LungCA_positive[\"age_group\"] == 2\n",
        "age_grp3_JT = LungCA_positive[\"age_group\"] == 3\n",
        "age_grp4_JT = LungCA_positive[\"age_group\"] == 4\n",
        "\n",
        "if sum(age_grp1_JT) > sum(age_grp2_JT) and sum(age_grp1_JT) > sum(age_grp3_JT) and sum(age_grp1_JT) > sum(age_grp4_JT):\n",
        "  print(\"Cancer group has more people younger than 55yrs\")\n",
        "elif sum(age_grp2_JT) > sum(age_grp1_JT) and sum(age_grp2_JT) > sum(age_grp3_JT) and sum(age_grp2_JT) > sum(age_grp4_JT):\n",
        "  print(\"Cancer group has more people between age 55-64 yr\")\n",
        "elif sum(age_grp3_JT) > sum(age_grp1_JT) and sum(age_grp3_JT) > sum(age_grp2_JT) and sum(age_grp3_JT) > sum(age_grp4_JT):\n",
        "  print(\"Cancer group has more people between age 65-74 yr\")\n",
        "elif sum(age_grp4_JT) > sum(age_grp1_JT) and sum(age_grp4_JT) > sum(age_grp2_JT) and sum(age_grp4_JT) > sum(age_grp3_JT):\n",
        "  print(\"Cancer group has more people older than 75yrs\")\n",
        "else:\n",
        "    print (\"Some age-groups may have equal number of people with lung cancer\")\n",
        "\n",
        "#In People without Lung cancer\n",
        "age_grp1_JT = LungCA_negative[\"age_group\"] == 1\n",
        "age_grp2_JT = LungCA_negative[\"age_group\"] == 2\n",
        "age_grp3_JT = LungCA_negative[\"age_group\"] == 3\n",
        "age_grp4_JT = LungCA_negative[\"age_group\"] == 4\n",
        "\n",
        "if sum(age_grp1_JT) > sum(age_grp2_JT) and sum(age_grp1_JT) > sum(age_grp3_JT) and sum(age_grp1_JT) > sum(age_grp4_JT):\n",
        "  print(\"Control group has more people younger than 55yrs\")\n",
        "elif sum(age_grp2_JT) > sum(age_grp1_JT) and sum(age_grp2_JT) > sum(age_grp3_JT) and sum(age_grp2_JT) > sum(age_grp4_JT):\n",
        "  print(\"Control group has more people between age 55-64 yr\")\n",
        "elif sum(age_grp3_JT) > sum(age_grp1_JT) and sum(age_grp3_JT) > sum(age_grp2_JT) and sum(age_grp3_JT) > sum(age_grp4_JT):\n",
        "  print(\"Control group has more people between age 65-74 yr\")\n",
        "elif sum(age_grp4_JT) > sum(age_grp1_JT) and sum(age_grp4_JT) > sum(age_grp2_JT) and sum(age_grp4_JT) > sum(age_grp3_JT):\n",
        "  print(\"Control group has more people older than 75yrs\")\n",
        "else:\n",
        "    print (\"Some age-groups may have equal number of people without lung cancer\")"
      ],
      "metadata": {
        "id": "FvtJqnVD5MXC"
      },
      "execution_count": null,
      "outputs": []
    },
    {
      "cell_type": "markdown",
      "source": [
        "C. Temporary title: Violin plot to qualitatively represent dataset"
      ],
      "metadata": {
        "id": "63Yw5zf326qT"
      }
    },
    {
      "cell_type": "code",
      "source": [
        "import seaborn as sns\n",
        "import matplotlib.pyplot as plt\n",
        "\n",
        "sns.set_theme(style=\"whitegrid\")\n",
        "dataplot = LungCA_positive\n",
        "ax = sns.violinplot(x=dataplot[\"age_group\"], y=dataplot[\"CigSmoke1\"], hue=dataplot[\"Gender\"], split=True)\n",
        "ax.set_title(\"Lung Cancer\")\n"
      ],
      "metadata": {
        "colab": {
          "base_uri": "https://localhost:8080/",
          "height": 318
        },
        "id": "0dpOjWN5dK0H",
        "outputId": "4b024044-98c4-4206-d32a-2cc5bf51c4f5"
      },
      "execution_count": null,
      "outputs": [
        {
          "output_type": "execute_result",
          "data": {
            "text/plain": [
              "Text(0.5, 1.0, 'Lung Cancer')"
            ]
          },
          "metadata": {},
          "execution_count": 116
        },
        {
          "output_type": "display_data",
          "data": {
            "text/plain": [
              "<Figure size 432x288 with 1 Axes>"
            ],
            "image/png": "[encoded data removed]"
          },
          "metadata": {}
        }
      ]
    },
    {
      "cell_type": "code",
      "source": [
        "sns.set_theme(style=\"whitegrid\")\n",
        "dataplot2 = LungCA_negative\n",
        "ax = sns.violinplot(x=dataplot2[\"age_group\"], y=dataplot2[\"CigSmoke1\"], hue=dataplot2[\"Gender\"], split=True, palette=sns.color_palette('pastel'))\n",
        "ax.set_title(\"Control Group\")"
      ],
      "metadata": {
        "colab": {
          "base_uri": "https://localhost:8080/",
          "height": 318
        },
        "id": "j5RLo8pndNHj",
        "outputId": "669ebfc9-67ae-4742-b533-5c8dd8f9658e"
      },
      "execution_count": null,
      "outputs": [
        {
          "output_type": "execute_result",
          "data": {
            "text/plain": [
              "Text(0.5, 1.0, 'Control Group')"
            ]
          },
          "metadata": {},
          "execution_count": 75
        },
        {
          "output_type": "display_data",
          "data": {
            "text/plain": [
              "<Figure size 432x288 with 1 Axes>"
            ],
            "image/png": "[encoded data removed]"
          },
          "metadata": {}
        }
      ]
    },
    {
      "cell_type": "markdown",
      "source": [
        "# More String Manipulation produced by Santiago"
      ],
      "metadata": {
        "id": "3bSYTL3TypIx"
      }
    },
    {
      "cell_type": "code",
      "source": [
        "import pandas as pd\n",
        "import numpy as np\n",
        "import itertools "
      ],
      "metadata": {
        "id": "FhZi9ZNLvHwI"
      },
      "execution_count": null,
      "outputs": []
    },
    {
      "cell_type": "markdown",
      "metadata": {
        "id": "f_skKMZ0aqhS"
      },
      "source": [
        "Functions. Santiago"
      ]
    },
    {
      "cell_type": "code",
      "execution_count": null,
      "metadata": {
        "id": "Ha68xOe8JVPs"
      },
      "outputs": [],
      "source": [
        "#data mount\n",
        "import pandas as pd\n",
        "import os\n",
        "from google.colab import drive\n",
        "os.chdir(\"/content/drive/MyDrive/FAES_BIOF309/Team2\")"
      ]
    },
    {
      "cell_type": "code",
      "source": [
        "#view the data set and set it to 'lungsheet'\n",
        "lungsheet = pd.read_csv(\"/content/drive/MyDrive/FAES_BIOF309/Team2/Trimmed.csv\", header=1)\n",
        "lungsheet"
      ],
      "metadata": {
        "id": "zUwpoITA7-vk",
        "colab": {
          "base_uri": "https://localhost:8080/",
          "height": 424
        },
        "outputId": "73616207-45f7-4157-afa4-65becfdc41d9"
      },
      "execution_count": null,
      "outputs": [
        {
          "output_type": "execute_result",
          "data": {
            "text/plain": [
              "         1  1.1  1.2  75  4  2  1.3  1.4  2.1  1.5  ...   .8  0.21   .9  0.22  \\\n",
              "0      1.1    0    1  70  3  2    1    1    3    1  ...          0          0   \n",
              "1      1.2    0    1  72  3  2    1    1    2    1  ...          0          0   \n",
              "2      2.0    1    0  58  2  2    1    1    3    1  ...          1  480     0   \n",
              "3      2.1    0    0  55  2  2    1    1    3    1  ...          0          0   \n",
              "4      2.2    0    0  62  2  2    1    1    2    1  ...          0          0   \n",
              "..     ...  ...  ...  .. .. ..  ...  ...  ...  ...  ...  ...   ...  ...   ...   \n",
              "674  291.1    0    0  71  3  2    1    1    3    1  ...  600     0          0   \n",
              "675  291.2    0    1  75  4  2    1    1    3    1  ...          0          0   \n",
              "676  292.0    1    0  67  3  2    1    1    3    1  ...  960     0          1   \n",
              "677  292.1    0    0  62  2  2    1    2    1    1  ...          0          0   \n",
              "678  292.2    0    0  72  3  2    1    2    3    3  ...          0          0   \n",
              "\n",
              "     .10  0.23  .11  0.24   .12 1.13  \n",
              "0            0          0          0  \n",
              "1            0          0          0  \n",
              "2            0          1          2  \n",
              "3            0          0          0  \n",
              "4            0          0          0  \n",
              "..   ...   ...  ...   ...   ...  ...  \n",
              "674          0          0          0  \n",
              "675          0          0          0  \n",
              "676  360     0          0          1  \n",
              "677          0          0          0  \n",
              "678          0          0          0  \n",
              "\n",
              "[679 rows x 68 columns]"
            ],
            "text/html": [
              "\n",
              "  <div id=\"df-d0fe3eec-78ed-420b-abe1-37ea4b2b2662\">\n",
              "    <div class=\"colab-df-container\">\n",
              "      <div>\n",
              "<style scoped>\n",
              "    .dataframe tbody tr th:only-of-type {\n",
              "        vertical-align: middle;\n",
              "    }\n",
              "\n",
              "    .dataframe tbody tr th {\n",
              "        vertical-align: top;\n",
              "    }\n",
              "\n",
              "    .dataframe thead th {\n",
              "        text-align: right;\n",
              "    }\n",
              "</style>\n",
              "<table border=\"1\" class=\"dataframe\">\n",
              "  <thead>\n",
              "    <tr style=\"text-align: right;\">\n",
              "      <th></th>\n",
              "      <th>1</th>\n",
              "      <th>1.1</th>\n",
              "      <th>1.2</th>\n",
              "      <th>75</th>\n",
              "      <th>4</th>\n",
              "      <th>2</th>\n",
              "      <th>1.3</th>\n",
              "      <th>1.4</th>\n",
              "      <th>2.1</th>\n",
              "      <th>1.5</th>\n",
              "      <th>...</th>\n",
              "      <th>.8</th>\n",
              "      <th>0.21</th>\n",
              "      <th>.9</th>\n",
              "      <th>0.22</th>\n",
              "      <th>.10</th>\n",
              "      <th>0.23</th>\n",
              "      <th>.11</th>\n",
              "      <th>0.24</th>\n",
              "      <th>.12</th>\n",
              "      <th>1.13</th>\n",
              "    </tr>\n",
              "  </thead>\n",
              "  <tbody>\n",
              "    <tr>\n",
              "      <th>0</th>\n",
              "      <td>1.1</td>\n",
              "      <td>0</td>\n",
              "      <td>1</td>\n",
              "      <td>70</td>\n",
              "      <td>3</td>\n",
              "      <td>2</td>\n",
              "      <td>1</td>\n",
              "      <td>1</td>\n",
              "      <td>3</td>\n",
              "      <td>1</td>\n",
              "      <td>...</td>\n",
              "      <td></td>\n",
              "      <td>0</td>\n",
              "      <td></td>\n",
              "      <td>0</td>\n",
              "      <td></td>\n",
              "      <td>0</td>\n",
              "      <td></td>\n",
              "      <td>0</td>\n",
              "      <td></td>\n",
              "      <td>0</td>\n",
              "    </tr>\n",
              "    <tr>\n",
              "      <th>1</th>\n",
              "      <td>1.2</td>\n",
              "      <td>0</td>\n",
              "      <td>1</td>\n",
              "      <td>72</td>\n",
              "      <td>3</td>\n",
              "      <td>2</td>\n",
              "      <td>1</td>\n",
              "      <td>1</td>\n",
              "      <td>2</td>\n",
              "      <td>1</td>\n",
              "      <td>...</td>\n",
              "      <td></td>\n",
              "      <td>0</td>\n",
              "      <td></td>\n",
              "      <td>0</td>\n",
              "      <td></td>\n",
              "      <td>0</td>\n",
              "      <td></td>\n",
              "      <td>0</td>\n",
              "      <td></td>\n",
              "      <td>0</td>\n",
              "    </tr>\n",
              "    <tr>\n",
              "      <th>2</th>\n",
              "      <td>2.0</td>\n",
              "      <td>1</td>\n",
              "      <td>0</td>\n",
              "      <td>58</td>\n",
              "      <td>2</td>\n",
              "      <td>2</td>\n",
              "      <td>1</td>\n",
              "      <td>1</td>\n",
              "      <td>3</td>\n",
              "      <td>1</td>\n",
              "      <td>...</td>\n",
              "      <td></td>\n",
              "      <td>1</td>\n",
              "      <td>480</td>\n",
              "      <td>0</td>\n",
              "      <td></td>\n",
              "      <td>0</td>\n",
              "      <td></td>\n",
              "      <td>1</td>\n",
              "      <td></td>\n",
              "      <td>2</td>\n",
              "    </tr>\n",
              "    <tr>\n",
              "      <th>3</th>\n",
              "      <td>2.1</td>\n",
              "      <td>0</td>\n",
              "      <td>0</td>\n",
              "      <td>55</td>\n",
              "      <td>2</td>\n",
              "      <td>2</td>\n",
              "      <td>1</td>\n",
              "      <td>1</td>\n",
              "      <td>3</td>\n",
              "      <td>1</td>\n",
              "      <td>...</td>\n",
              "      <td></td>\n",
              "      <td>0</td>\n",
              "      <td></td>\n",
              "      <td>0</td>\n",
              "      <td></td>\n",
              "      <td>0</td>\n",
              "      <td></td>\n",
              "      <td>0</td>\n",
              "      <td></td>\n",
              "      <td>0</td>\n",
              "    </tr>\n",
              "    <tr>\n",
              "      <th>4</th>\n",
              "      <td>2.2</td>\n",
              "      <td>0</td>\n",
              "      <td>0</td>\n",
              "      <td>62</td>\n",
              "      <td>2</td>\n",
              "      <td>2</td>\n",
              "      <td>1</td>\n",
              "      <td>1</td>\n",
              "      <td>2</td>\n",
              "      <td>1</td>\n",
              "      <td>...</td>\n",
              "      <td></td>\n",
              "      <td>0</td>\n",
              "      <td></td>\n",
              "      <td>0</td>\n",
              "      <td></td>\n",
              "      <td>0</td>\n",
              "      <td></td>\n",
              "      <td>0</td>\n",
              "      <td></td>\n",
              "      <td>0</td>\n",
              "    </tr>\n",
              "    <tr>\n",
              "      <th>...</th>\n",
              "      <td>...</td>\n",
              "      <td>...</td>\n",
              "      <td>...</td>\n",
              "      <td>...</td>\n",
              "      <td>...</td>\n",
              "      <td>...</td>\n",
              "      <td>...</td>\n",
              "      <td>...</td>\n",
              "      <td>...</td>\n",
              "      <td>...</td>\n",
              "      <td>...</td>\n",
              "      <td>...</td>\n",
              "      <td>...</td>\n",
              "      <td>...</td>\n",
              "      <td>...</td>\n",
              "      <td>...</td>\n",
              "      <td>...</td>\n",
              "      <td>...</td>\n",
              "      <td>...</td>\n",
              "      <td>...</td>\n",
              "      <td>...</td>\n",
              "    </tr>\n",
              "    <tr>\n",
              "      <th>674</th>\n",
              "      <td>291.1</td>\n",
              "      <td>0</td>\n",
              "      <td>0</td>\n",
              "      <td>71</td>\n",
              "      <td>3</td>\n",
              "      <td>2</td>\n",
              "      <td>1</td>\n",
              "      <td>1</td>\n",
              "      <td>3</td>\n",
              "      <td>1</td>\n",
              "      <td>...</td>\n",
              "      <td>600</td>\n",
              "      <td>0</td>\n",
              "      <td></td>\n",
              "      <td>0</td>\n",
              "      <td></td>\n",
              "      <td>0</td>\n",
              "      <td></td>\n",
              "      <td>0</td>\n",
              "      <td></td>\n",
              "      <td>0</td>\n",
              "    </tr>\n",
              "    <tr>\n",
              "      <th>675</th>\n",
              "      <td>291.2</td>\n",
              "      <td>0</td>\n",
              "      <td>1</td>\n",
              "      <td>75</td>\n",
              "      <td>4</td>\n",
              "      <td>2</td>\n",
              "      <td>1</td>\n",
              "      <td>1</td>\n",
              "      <td>3</td>\n",
              "      <td>1</td>\n",
              "      <td>...</td>\n",
              "      <td></td>\n",
              "      <td>0</td>\n",
              "      <td></td>\n",
              "      <td>0</td>\n",
              "      <td></td>\n",
              "      <td>0</td>\n",
              "      <td></td>\n",
              "      <td>0</td>\n",
              "      <td></td>\n",
              "      <td>0</td>\n",
              "    </tr>\n",
              "    <tr>\n",
              "      <th>676</th>\n",
              "      <td>292.0</td>\n",
              "      <td>1</td>\n",
              "      <td>0</td>\n",
              "      <td>67</td>\n",
              "      <td>3</td>\n",
              "      <td>2</td>\n",
              "      <td>1</td>\n",
              "      <td>1</td>\n",
              "      <td>3</td>\n",
              "      <td>1</td>\n",
              "      <td>...</td>\n",
              "      <td>960</td>\n",
              "      <td>0</td>\n",
              "      <td></td>\n",
              "      <td>1</td>\n",
              "      <td>360</td>\n",
              "      <td>0</td>\n",
              "      <td></td>\n",
              "      <td>0</td>\n",
              "      <td></td>\n",
              "      <td>1</td>\n",
              "    </tr>\n",
              "    <tr>\n",
              "      <th>677</th>\n",
              "      <td>292.1</td>\n",
              "      <td>0</td>\n",
              "      <td>0</td>\n",
              "      <td>62</td>\n",
              "      <td>2</td>\n",
              "      <td>2</td>\n",
              "      <td>1</td>\n",
              "      <td>2</td>\n",
              "      <td>1</td>\n",
              "      <td>1</td>\n",
              "      <td>...</td>\n",
              "      <td></td>\n",
              "      <td>0</td>\n",
              "      <td></td>\n",
              "      <td>0</td>\n",
              "      <td></td>\n",
              "      <td>0</td>\n",
              "      <td></td>\n",
              "      <td>0</td>\n",
              "      <td></td>\n",
              "      <td>0</td>\n",
              "    </tr>\n",
              "    <tr>\n",
              "      <th>678</th>\n",
              "      <td>292.2</td>\n",
              "      <td>0</td>\n",
              "      <td>0</td>\n",
              "      <td>72</td>\n",
              "      <td>3</td>\n",
              "      <td>2</td>\n",
              "      <td>1</td>\n",
              "      <td>2</td>\n",
              "      <td>3</td>\n",
              "      <td>3</td>\n",
              "      <td>...</td>\n",
              "      <td></td>\n",
              "      <td>0</td>\n",
              "      <td></td>\n",
              "      <td>0</td>\n",
              "      <td></td>\n",
              "      <td>0</td>\n",
              "      <td></td>\n",
              "      <td>0</td>\n",
              "      <td></td>\n",
              "      <td>0</td>\n",
              "    </tr>\n",
              "  </tbody>\n",
              "</table>\n",
              "<p>679 rows × 68 columns</p>\n",
              "</div>\n",
              "      <button class=\"colab-df-convert\" onclick=\"convertToInteractive('df-d0fe3eec-78ed-420b-abe1-37ea4b2b2662')\"\n",
              "              title=\"Convert this dataframe to an interactive table.\"\n",
              "              style=\"display:none;\">\n",
              "        \n",
              "  <svg xmlns=\"http://www.w3.org/2000/svg\" height=\"24px\"viewBox=\"0 0 24 24\"\n",
              "       width=\"24px\">\n",
              "    <path d=\"M0 0h24v24H0V0z\" fill=\"none\"/>\n",
              "    <path d=\"M18.56 5.44l.94 2.06.94-2.06 2.06-.94-2.06-.94-.94-2.06-.94 2.06-2.06.94zm-11 1L8.5 8.5l.94-2.06 2.06-.94-2.06-.94L8.5 2.5l-.94 2.06-2.06.94zm10 10l.94 2.06.94-2.06 2.06-.94-2.06-.94-.94-2.06-.94 2.06-2.06.94z\"/><path d=\"M17.41 7.96l-1.37-1.37c-.4-.4-.92-.59-1.43-.59-.52 0-1.04.2-1.43.59L10.3 9.45l-7.72 7.72c-.78.78-.78 2.05 0 2.83L4 21.41c.39.39.9.59 1.41.59.51 0 1.02-.2 1.41-.59l7.78-7.78 2.81-2.81c.8-.78.8-2.07 0-2.86zM5.41 20L4 18.59l7.72-7.72 1.47 1.35L5.41 20z\"/>\n",
              "  </svg>\n",
              "      </button>\n",
              "      \n",
              "  <style>\n",
              "    .colab-df-container {\n",
              "      display:flex;\n",
              "      flex-wrap:wrap;\n",
              "      gap: 12px;\n",
              "    }\n",
              "\n",
              "    .colab-df-convert {\n",
              "      background-color: #E8F0FE;\n",
              "      border: none;\n",
              "      border-radius: 50%;\n",
              "      cursor: pointer;\n",
              "      display: none;\n",
              "      fill: #1967D2;\n",
              "      height: 32px;\n",
              "      padding: 0 0 0 0;\n",
              "      width: 32px;\n",
              "    }\n",
              "\n",
              "    .colab-df-convert:hover {\n",
              "      background-color: #E2EBFA;\n",
              "      box-shadow: 0px 1px 2px rgba(60, 64, 67, 0.3), 0px 1px 3px 1px rgba(60, 64, 67, 0.15);\n",
              "      fill: #174EA6;\n",
              "    }\n",
              "\n",
              "    [theme=dark] .colab-df-convert {\n",
              "      background-color: #3B4455;\n",
              "      fill: #D2E3FC;\n",
              "    }\n",
              "\n",
              "    [theme=dark] .colab-df-convert:hover {\n",
              "      background-color: #434B5C;\n",
              "      box-shadow: 0px 1px 3px 1px rgba(0, 0, 0, 0.15);\n",
              "      filter: drop-shadow(0px 1px 2px rgba(0, 0, 0, 0.3));\n",
              "      fill: #FFFFFF;\n",
              "    }\n",
              "  </style>\n",
              "\n",
              "      <script>\n",
              "        const buttonEl =\n",
              "          document.querySelector('#df-d0fe3eec-78ed-420b-abe1-37ea4b2b2662 button.colab-df-convert');\n",
              "        buttonEl.style.display =\n",
              "          google.colab.kernel.accessAllowed ? 'block' : 'none';\n",
              "\n",
              "        async function convertToInteractive(key) {\n",
              "          const element = document.querySelector('#df-d0fe3eec-78ed-420b-abe1-37ea4b2b2662');\n",
              "          const dataTable =\n",
              "            await google.colab.kernel.invokeFunction('convertToInteractive',\n",
              "                                                     [key], {});\n",
              "          if (!dataTable) return;\n",
              "\n",
              "          const docLinkHtml = 'Like what you see? Visit the ' +\n",
              "            '<a target=\"_blank\" href=https://colab.research.google.com/notebooks/data_table.ipynb>data table notebook</a>'\n",
              "            + ' to learn more about interactive tables.';\n",
              "          element.innerHTML = '';\n",
              "          dataTable['output_type'] = 'display_data';\n",
              "          await google.colab.output.renderOutput(dataTable, element);\n",
              "          const docLink = document.createElement('div');\n",
              "          docLink.innerHTML = docLinkHtml;\n",
              "          element.appendChild(docLink);\n",
              "        }\n",
              "      </script>\n",
              "    </div>\n",
              "  </div>\n",
              "  "
            ]
          },
          "metadata": {},
          "execution_count": 253
        }
      ]
    },
    {
      "cell_type": "code",
      "source": [
        "#Built-in functions. These are the classic functions. Here is an example to know the maximum of a list of numbers. However, built-int functions are not versatile\n",
        "max(67,15,24,)  #This produces the largest number as a result\n"
      ],
      "metadata": {
        "colab": {
          "base_uri": "https://localhost:8080/"
        },
        "id": "9LQ9f2Fo8wIg",
        "outputId": "49edda04-d6ce-43dd-cd50-c03487faa23e"
      },
      "execution_count": null,
      "outputs": [
        {
          "output_type": "execute_result",
          "data": {
            "text/plain": [
              "67"
            ]
          },
          "metadata": {},
          "execution_count": 254
        }
      ]
    },
    {
      "cell_type": "code",
      "source": [
        "lungsheet[\"age\"].mean() #this is the easy way of getting the mean of ages using pandas. But is not the only way!"
      ],
      "metadata": {
        "id": "SpVta3byBj6K",
        "colab": {
          "base_uri": "https://localhost:8080/",
          "height": 502
        },
        "outputId": "96227aae-4eab-4ac3-8694-d4e9780fba36"
      },
      "execution_count": null,
      "outputs": [
        {
          "output_type": "error",
          "ename": "KeyError",
          "evalue": "ignored",
          "traceback": [
            "\u001b[0;31m---------------------------------------------------------------------------\u001b[0m",
            "\u001b[0;31mKeyError\u001b[0m                                  Traceback (most recent call last)",
            "\u001b[0;32m/usr/local/lib/python3.7/dist-packages/pandas/core/indexes/base.py\u001b[0m in \u001b[0;36mget_loc\u001b[0;34m(self, key, method, tolerance)\u001b[0m\n\u001b[1;32m   3360\u001b[0m             \u001b[0;32mtry\u001b[0m\u001b[0;34m:\u001b[0m\u001b[0;34m\u001b[0m\u001b[0;34m\u001b[0m\u001b[0m\n\u001b[0;32m-> 3361\u001b[0;31m                 \u001b[0;32mreturn\u001b[0m \u001b[0mself\u001b[0m\u001b[0;34m.\u001b[0m\u001b[0m_engine\u001b[0m\u001b[0;34m.\u001b[0m\u001b[0mget_loc\u001b[0m\u001b[0;34m(\u001b[0m\u001b[0mcasted_key\u001b[0m\u001b[0;34m)\u001b[0m\u001b[0;34m\u001b[0m\u001b[0;34m\u001b[0m\u001b[0m\n\u001b[0m\u001b[1;32m   3362\u001b[0m             \u001b[0;32mexcept\u001b[0m \u001b[0mKeyError\u001b[0m \u001b[0;32mas\u001b[0m \u001b[0merr\u001b[0m\u001b[0;34m:\u001b[0m\u001b[0;34m\u001b[0m\u001b[0;34m\u001b[0m\u001b[0m\n",
            "\u001b[0;32m/usr/local/lib/python3.7/dist-packages/pandas/_libs/index.pyx\u001b[0m in \u001b[0;36mpandas._libs.index.IndexEngine.get_loc\u001b[0;34m()\u001b[0m\n",
            "\u001b[0;32m/usr/local/lib/python3.7/dist-packages/pandas/_libs/index.pyx\u001b[0m in \u001b[0;36mpandas._libs.index.IndexEngine.get_loc\u001b[0;34m()\u001b[0m\n",
            "\u001b[0;32mpandas/_libs/hashtable_class_helper.pxi\u001b[0m in \u001b[0;36mpandas._libs.hashtable.PyObjectHashTable.get_item\u001b[0;34m()\u001b[0m\n",
            "\u001b[0;32mpandas/_libs/hashtable_class_helper.pxi\u001b[0m in \u001b[0;36mpandas._libs.hashtable.PyObjectHashTable.get_item\u001b[0;34m()\u001b[0m\n",
            "\u001b[0;31mKeyError\u001b[0m: 'age'",
            "\nThe above exception was the direct cause of the following exception:\n",
            "\u001b[0;31mKeyError\u001b[0m                                  Traceback (most recent call last)",
            "\u001b[0;32m<ipython-input-255-756c63a36457>\u001b[0m in \u001b[0;36m<module>\u001b[0;34m()\u001b[0m\n\u001b[0;32m----> 1\u001b[0;31m \u001b[0mlungsheet\u001b[0m\u001b[0;34m[\u001b[0m\u001b[0;34m\"age\"\u001b[0m\u001b[0;34m]\u001b[0m\u001b[0;34m.\u001b[0m\u001b[0mmean\u001b[0m\u001b[0;34m(\u001b[0m\u001b[0;34m)\u001b[0m \u001b[0;31m#this is the easy way of getting the mean of ages using pandas. But is not the only way!\u001b[0m\u001b[0;34m\u001b[0m\u001b[0;34m\u001b[0m\u001b[0m\n\u001b[0m",
            "\u001b[0;32m/usr/local/lib/python3.7/dist-packages/pandas/core/frame.py\u001b[0m in \u001b[0;36m__getitem__\u001b[0;34m(self, key)\u001b[0m\n\u001b[1;32m   3456\u001b[0m             \u001b[0;32mif\u001b[0m \u001b[0mself\u001b[0m\u001b[0;34m.\u001b[0m\u001b[0mcolumns\u001b[0m\u001b[0;34m.\u001b[0m\u001b[0mnlevels\u001b[0m \u001b[0;34m>\u001b[0m \u001b[0;36m1\u001b[0m\u001b[0;34m:\u001b[0m\u001b[0;34m\u001b[0m\u001b[0;34m\u001b[0m\u001b[0m\n\u001b[1;32m   3457\u001b[0m                 \u001b[0;32mreturn\u001b[0m \u001b[0mself\u001b[0m\u001b[0;34m.\u001b[0m\u001b[0m_getitem_multilevel\u001b[0m\u001b[0;34m(\u001b[0m\u001b[0mkey\u001b[0m\u001b[0;34m)\u001b[0m\u001b[0;34m\u001b[0m\u001b[0;34m\u001b[0m\u001b[0m\n\u001b[0;32m-> 3458\u001b[0;31m             \u001b[0mindexer\u001b[0m \u001b[0;34m=\u001b[0m \u001b[0mself\u001b[0m\u001b[0;34m.\u001b[0m\u001b[0mcolumns\u001b[0m\u001b[0;34m.\u001b[0m\u001b[0mget_loc\u001b[0m\u001b[0;34m(\u001b[0m\u001b[0mkey\u001b[0m\u001b[0;34m)\u001b[0m\u001b[0;34m\u001b[0m\u001b[0;34m\u001b[0m\u001b[0m\n\u001b[0m\u001b[1;32m   3459\u001b[0m             \u001b[0;32mif\u001b[0m \u001b[0mis_integer\u001b[0m\u001b[0;34m(\u001b[0m\u001b[0mindexer\u001b[0m\u001b[0;34m)\u001b[0m\u001b[0;34m:\u001b[0m\u001b[0;34m\u001b[0m\u001b[0;34m\u001b[0m\u001b[0m\n\u001b[1;32m   3460\u001b[0m                 \u001b[0mindexer\u001b[0m \u001b[0;34m=\u001b[0m \u001b[0;34m[\u001b[0m\u001b[0mindexer\u001b[0m\u001b[0;34m]\u001b[0m\u001b[0;34m\u001b[0m\u001b[0;34m\u001b[0m\u001b[0m\n",
            "\u001b[0;32m/usr/local/lib/python3.7/dist-packages/pandas/core/indexes/base.py\u001b[0m in \u001b[0;36mget_loc\u001b[0;34m(self, key, method, tolerance)\u001b[0m\n\u001b[1;32m   3361\u001b[0m                 \u001b[0;32mreturn\u001b[0m \u001b[0mself\u001b[0m\u001b[0;34m.\u001b[0m\u001b[0m_engine\u001b[0m\u001b[0;34m.\u001b[0m\u001b[0mget_loc\u001b[0m\u001b[0;34m(\u001b[0m\u001b[0mcasted_key\u001b[0m\u001b[0;34m)\u001b[0m\u001b[0;34m\u001b[0m\u001b[0;34m\u001b[0m\u001b[0m\n\u001b[1;32m   3362\u001b[0m             \u001b[0;32mexcept\u001b[0m \u001b[0mKeyError\u001b[0m \u001b[0;32mas\u001b[0m \u001b[0merr\u001b[0m\u001b[0;34m:\u001b[0m\u001b[0;34m\u001b[0m\u001b[0;34m\u001b[0m\u001b[0m\n\u001b[0;32m-> 3363\u001b[0;31m                 \u001b[0;32mraise\u001b[0m \u001b[0mKeyError\u001b[0m\u001b[0;34m(\u001b[0m\u001b[0mkey\u001b[0m\u001b[0;34m)\u001b[0m \u001b[0;32mfrom\u001b[0m \u001b[0merr\u001b[0m\u001b[0;34m\u001b[0m\u001b[0;34m\u001b[0m\u001b[0m\n\u001b[0m\u001b[1;32m   3364\u001b[0m \u001b[0;34m\u001b[0m\u001b[0m\n\u001b[1;32m   3365\u001b[0m         \u001b[0;32mif\u001b[0m \u001b[0mis_scalar\u001b[0m\u001b[0;34m(\u001b[0m\u001b[0mkey\u001b[0m\u001b[0;34m)\u001b[0m \u001b[0;32mand\u001b[0m \u001b[0misna\u001b[0m\u001b[0;34m(\u001b[0m\u001b[0mkey\u001b[0m\u001b[0;34m)\u001b[0m \u001b[0;32mand\u001b[0m \u001b[0;32mnot\u001b[0m \u001b[0mself\u001b[0m\u001b[0;34m.\u001b[0m\u001b[0mhasnans\u001b[0m\u001b[0;34m:\u001b[0m\u001b[0;34m\u001b[0m\u001b[0;34m\u001b[0m\u001b[0m\n",
            "\u001b[0;31mKeyError\u001b[0m: 'age'"
          ]
        }
      ]
    },
    {
      "cell_type": "code",
      "source": [
        "#User-defined functions\n",
        "import csv\n",
        "file = open(\"/content/drive/MyDrive/FAES_BIOF309/Team2\", \"r\")\n",
        "data = list(csv.reader(file, delimiter=\",\"))\n",
        "file.close()\n",
        "print(data)\n"
      ],
      "metadata": {
        "id": "5FlDg95C8sS7"
      },
      "execution_count": null,
      "outputs": []
    },
    {
      "cell_type": "code",
      "source": [
        "#Getting the age column as a set of floats\n",
        "[row[3] for row in data]\n",
        "age = [float(row[3]) for row in data[2:]]"
      ],
      "metadata": {
        "id": "NVc6FuPkMt4v"
      },
      "execution_count": null,
      "outputs": []
    },
    {
      "cell_type": "code",
      "source": [
        "#defining the function \n",
        "def age_average (age):\n",
        "  sum_age = sum(age)\n",
        "  count_age = len(age)\n",
        "  age_avg= sum_age / count_age\n",
        "  return age_avg\n",
        "#calling the function\n",
        "print(\"the average of ages is\", age_average(age)) #this function let us calculate the mean of a list of float called ages.\n",
        "                #I have used the list in our data file. But any list calle age can work"
      ],
      "metadata": {
        "id": "XyKdbVSxMTyA",
        "colab": {
          "base_uri": "https://localhost:8080/",
          "height": 217
        },
        "outputId": "c426285c-652d-4ffe-ba0f-4982adf9abfb"
      },
      "execution_count": null,
      "outputs": [
        {
          "output_type": "error",
          "ename": "NameError",
          "evalue": "ignored",
          "traceback": [
            "\u001b[0;31m---------------------------------------------------------------------------\u001b[0m",
            "\u001b[0;31mNameError\u001b[0m                                 Traceback (most recent call last)",
            "\u001b[0;32m<ipython-input-244-4c231eff6616>\u001b[0m in \u001b[0;36m<module>\u001b[0;34m()\u001b[0m\n\u001b[1;32m      6\u001b[0m   \u001b[0;32mreturn\u001b[0m \u001b[0mage_avg\u001b[0m\u001b[0;34m\u001b[0m\u001b[0;34m\u001b[0m\u001b[0m\n\u001b[1;32m      7\u001b[0m \u001b[0;31m#calling the function\u001b[0m\u001b[0;34m\u001b[0m\u001b[0;34m\u001b[0m\u001b[0;34m\u001b[0m\u001b[0m\n\u001b[0;32m----> 8\u001b[0;31m \u001b[0mprint\u001b[0m\u001b[0;34m(\u001b[0m\u001b[0;34m\"the average of ages is\"\u001b[0m\u001b[0;34m,\u001b[0m \u001b[0mage_average\u001b[0m\u001b[0;34m(\u001b[0m\u001b[0mage\u001b[0m\u001b[0;34m)\u001b[0m\u001b[0;34m)\u001b[0m \u001b[0;31m#this function let us calculate the mean of a list of float called ages.\u001b[0m\u001b[0;34m\u001b[0m\u001b[0;34m\u001b[0m\u001b[0m\n\u001b[0m\u001b[1;32m      9\u001b[0m                 \u001b[0;31m#I have used the list in our data file. But any list calle age can work\u001b[0m\u001b[0;34m\u001b[0m\u001b[0;34m\u001b[0m\u001b[0;34m\u001b[0m\u001b[0m\n",
            "\u001b[0;31mNameError\u001b[0m: name 'age' is not defined"
          ]
        }
      ]
    },
    {
      "cell_type": "code",
      "source": [
        "age = [10,15,20,26]#For example, here I changed the contents of the list called age\n",
        "age_average (age)\n"
      ],
      "metadata": {
        "id": "wu90yQfaLcCU"
      },
      "execution_count": null,
      "outputs": []
    },
    {
      "cell_type": "markdown",
      "metadata": {
        "id": "yIGXZjrB09IS"
      },
      "source": [
        "Finally, string manipulation\n"
      ]
    },
    {
      "cell_type": "code",
      "source": [
        "str_1 = \"the average of ages is\"\n",
        "str_2 = \"ages\"\n",
        "#Lets check if string 2 is in string 1\n",
        "str_2 in str_1\n"
      ],
      "metadata": {
        "colab": {
          "base_uri": "https://localhost:8080/"
        },
        "id": "s4lvduO3FEKE",
        "outputId": "8dd5e36c-064e-4f80-e9e6-6d06d72b3443"
      },
      "execution_count": null,
      "outputs": [
        {
          "output_type": "execute_result",
          "data": {
            "text/plain": [
              "True"
            ]
          },
          "metadata": {},
          "execution_count": 6
        }
      ]
    },
    {
      "cell_type": "markdown",
      "metadata": {
        "id": "tTLLco5BasY4"
      },
      "source": [
        "#Module 5 - Numpy and Pandas, Data Visualization -- Hyun"
      ]
    },
    {
      "cell_type": "code",
      "execution_count": null,
      "metadata": {
        "id": "9cZsiiKSJWQg"
      },
      "outputs": [],
      "source": [
        "#5 Hyun Instructional DEMO 5a: Numpy and Pandas\n",
        "import pandas as pd\n",
        "import numpy as np\n",
        "! pip install --upgrade tables\n",
        "\n",
        "#data mount\n",
        "\n",
        "import os\n",
        "from google.colab import drive\n",
        "drive.mount('/content/drive/')\n",
        "os.chdir(\"/content/drive/MyDrive/FAES_BIOF309/Team2\")"
      ]
    },
    {
      "cell_type": "code",
      "execution_count": null,
      "metadata": {
        "colab": {
          "base_uri": "https://localhost:8080/"
        },
        "id": "ZA_bqVyvQspq",
        "outputId": "9e34c46e-ccc9-4568-8096-00746b6b1a21"
      },
      "outputs": [
        {
          "output_type": "stream",
          "name": "stdout",
          "text": [
            "Age_group variable and the 4 age divisions explained\n",
            "1 refers to those with age less than or equal to 54, \n",
            "2 refer to those with age 55-64 yr, \n",
            "3 refer to those with age 65-74 yr, \n",
            "4 refer to those with age 75 yr or more \n"
          ]
        }
      ],
      "source": [
        "print (\"Age_group variable and the 4 age divisions explained\")\n",
        "import numpy as np\n",
        "# List of values for the age groups\n",
        "\n",
        "L = [1, 2, 3, 4]  \n",
        "array = np.array(L)  \n",
        "array\n",
        "\n",
        "print (\"1 refers to those with age less than or equal to 54, \")\n",
        "print (\"2 refer to those with age 55-64 yr, \")\n",
        "print (\"3 refer to those with age 65-74 yr, \")\n",
        "print (\"4 refer to those with age 75 yr or more \")"
      ]
    },
    {
      "cell_type": "code",
      "execution_count": null,
      "metadata": {
        "id": "T7RCAJz0XI17"
      },
      "outputs": [],
      "source": [
        "#numpy array of strings\n",
        "print (\"Marital status of the responders, \")\n",
        "np.array(['1 refer to those who are single, ','2 refer to those who are married, ','3 refer to those who are divorced/spouse passed away/separated'])"
      ]
    },
    {
      "cell_type": "markdown",
      "metadata": {
        "id": "EXxqxZFcwKM0"
      },
      "source": [
        "5b data visualization\n"
      ]
    },
    {
      "cell_type": "code",
      "source": [
        "#5b Hyun:  OH with Prof Lee. 7/26 - Thank you, Prof. Lee ************************\n",
        "import os\n",
        "from google.colab import drive\n",
        "drive.mount('/content/drive/')\n",
        "os.chdir(\"/content/drive/MyDrive/FAES_BIOF309/Team2\")\n",
        "\n",
        "import pandas as pd\n",
        "import seaborn as sns\n",
        "import matplotlib as plt\n",
        "import numpy as np\n",
        "\n",
        "#pandas call my data and call it lungsheet\n",
        "lungsheet = pd.read_csv(\"/content/drive/MyDrive/Shared Team 2/TrimmedDataSet.csv\", header=1)\n",
        "lungsheet\n",
        "#2. Scatter plot\n",
        "print(\"This is a scatter plot of age and cigarettes\")\n",
        "sns.relplot(lungsheet['age'],lungsheet['Cigarette_total'])\n",
        "#3. Categorical plot\n",
        "print(\"This is a categorial plot of age and cigarettes\")\n",
        "sns.catplot(x=\"age\", y=\"Cigarette_total\", data=lungsheet)\n",
        "sns.relplot(x=\"age\", y=\"Cigarette_total\", kind=\"line\", data=lungsheet)\n",
        "#deleted confidence intervals\n",
        "sns.relplot(x=\"age\", y=\"Cigarette_total\", ci=None, kind=\"line\", data=lungsheet); \n",
        " #violin plot\n",
        "sns.catplot(x=\"age\", y=\"Cigarette_total\", hue=\"Glyphosate_days\", \n",
        "  # This plot combines a boxplot with the kernel density estimation procedure to provide a richer description of the distribution of values.\n",
        "            kind=\"violin\", data=lungsheet);"
      ],
      "metadata": {
        "colab": {
          "base_uri": "https://localhost:8080/",
          "height": 397
        },
        "id": "iEA6QX_Rkj_J",
        "outputId": "01f722d2-5838-4b94-a98e-220c987607e7"
      },
      "execution_count": null,
      "outputs": [
        {
          "output_type": "stream",
          "name": "stdout",
          "text": [
            "Drive already mounted at /content/drive/; to attempt to forcibly remount, call drive.mount(\"/content/drive/\", force_remount=True).\n"
          ]
        },
        {
          "output_type": "error",
          "ename": "FileNotFoundError",
          "evalue": "ignored",
          "traceback": [
            "\u001b[0;31m---------------------------------------------------------------------------\u001b[0m",
            "\u001b[0;31mFileNotFoundError\u001b[0m                         Traceback (most recent call last)",
            "\u001b[0;32m<ipython-input-106-d64c5045952d>\u001b[0m in \u001b[0;36m<module>\u001b[0;34m()\u001b[0m\n\u001b[1;32m     11\u001b[0m \u001b[0;34m\u001b[0m\u001b[0m\n\u001b[1;32m     12\u001b[0m \u001b[0;31m#pandas call my data and call it lungsheet\u001b[0m\u001b[0;34m\u001b[0m\u001b[0;34m\u001b[0m\u001b[0;34m\u001b[0m\u001b[0m\n\u001b[0;32m---> 13\u001b[0;31m \u001b[0mlungsheet\u001b[0m \u001b[0;34m=\u001b[0m \u001b[0mpd\u001b[0m\u001b[0;34m.\u001b[0m\u001b[0mread_csv\u001b[0m\u001b[0;34m(\u001b[0m\u001b[0;34m\"/content/drive/MyDrive/Shared Team 2/TrimmedDataSet.csv\"\u001b[0m\u001b[0;34m,\u001b[0m \u001b[0mheader\u001b[0m\u001b[0;34m=\u001b[0m\u001b[0;36m1\u001b[0m\u001b[0;34m)\u001b[0m\u001b[0;34m\u001b[0m\u001b[0;34m\u001b[0m\u001b[0m\n\u001b[0m\u001b[1;32m     14\u001b[0m \u001b[0mlungsheet\u001b[0m\u001b[0;34m\u001b[0m\u001b[0;34m\u001b[0m\u001b[0m\n\u001b[1;32m     15\u001b[0m \u001b[0;31m#2. Scatter plot\u001b[0m\u001b[0;34m\u001b[0m\u001b[0;34m\u001b[0m\u001b[0;34m\u001b[0m\u001b[0m\n",
            "\u001b[0;32m/usr/local/lib/python3.7/dist-packages/pandas/util/_decorators.py\u001b[0m in \u001b[0;36mwrapper\u001b[0;34m(*args, **kwargs)\u001b[0m\n\u001b[1;32m    309\u001b[0m                     \u001b[0mstacklevel\u001b[0m\u001b[0;34m=\u001b[0m\u001b[0mstacklevel\u001b[0m\u001b[0;34m,\u001b[0m\u001b[0;34m\u001b[0m\u001b[0;34m\u001b[0m\u001b[0m\n\u001b[1;32m    310\u001b[0m                 )\n\u001b[0;32m--> 311\u001b[0;31m             \u001b[0;32mreturn\u001b[0m \u001b[0mfunc\u001b[0m\u001b[0;34m(\u001b[0m\u001b[0;34m*\u001b[0m\u001b[0margs\u001b[0m\u001b[0;34m,\u001b[0m \u001b[0;34m**\u001b[0m\u001b[0mkwargs\u001b[0m\u001b[0;34m)\u001b[0m\u001b[0;34m\u001b[0m\u001b[0;34m\u001b[0m\u001b[0m\n\u001b[0m\u001b[1;32m    312\u001b[0m \u001b[0;34m\u001b[0m\u001b[0m\n\u001b[1;32m    313\u001b[0m         \u001b[0;32mreturn\u001b[0m \u001b[0mwrapper\u001b[0m\u001b[0;34m\u001b[0m\u001b[0;34m\u001b[0m\u001b[0m\n",
            "\u001b[0;32m/usr/local/lib/python3.7/dist-packages/pandas/io/parsers/readers.py\u001b[0m in \u001b[0;36mread_csv\u001b[0;34m(filepath_or_buffer, sep, delimiter, header, names, index_col, usecols, squeeze, prefix, mangle_dupe_cols, dtype, engine, converters, true_values, false_values, skipinitialspace, skiprows, skipfooter, nrows, na_values, keep_default_na, na_filter, verbose, skip_blank_lines, parse_dates, infer_datetime_format, keep_date_col, date_parser, dayfirst, cache_dates, iterator, chunksize, compression, thousands, decimal, lineterminator, quotechar, quoting, doublequote, escapechar, comment, encoding, encoding_errors, dialect, error_bad_lines, warn_bad_lines, on_bad_lines, delim_whitespace, low_memory, memory_map, float_precision, storage_options)\u001b[0m\n\u001b[1;32m    584\u001b[0m     \u001b[0mkwds\u001b[0m\u001b[0;34m.\u001b[0m\u001b[0mupdate\u001b[0m\u001b[0;34m(\u001b[0m\u001b[0mkwds_defaults\u001b[0m\u001b[0;34m)\u001b[0m\u001b[0;34m\u001b[0m\u001b[0;34m\u001b[0m\u001b[0m\n\u001b[1;32m    585\u001b[0m \u001b[0;34m\u001b[0m\u001b[0m\n\u001b[0;32m--> 586\u001b[0;31m     \u001b[0;32mreturn\u001b[0m \u001b[0m_read\u001b[0m\u001b[0;34m(\u001b[0m\u001b[0mfilepath_or_buffer\u001b[0m\u001b[0;34m,\u001b[0m \u001b[0mkwds\u001b[0m\u001b[0;34m)\u001b[0m\u001b[0;34m\u001b[0m\u001b[0;34m\u001b[0m\u001b[0m\n\u001b[0m\u001b[1;32m    587\u001b[0m \u001b[0;34m\u001b[0m\u001b[0m\n\u001b[1;32m    588\u001b[0m \u001b[0;34m\u001b[0m\u001b[0m\n",
            "\u001b[0;32m/usr/local/lib/python3.7/dist-packages/pandas/io/parsers/readers.py\u001b[0m in \u001b[0;36m_read\u001b[0;34m(filepath_or_buffer, kwds)\u001b[0m\n\u001b[1;32m    480\u001b[0m \u001b[0;34m\u001b[0m\u001b[0m\n\u001b[1;32m    481\u001b[0m     \u001b[0;31m# Create the parser.\u001b[0m\u001b[0;34m\u001b[0m\u001b[0;34m\u001b[0m\u001b[0;34m\u001b[0m\u001b[0m\n\u001b[0;32m--> 482\u001b[0;31m     \u001b[0mparser\u001b[0m \u001b[0;34m=\u001b[0m \u001b[0mTextFileReader\u001b[0m\u001b[0;34m(\u001b[0m\u001b[0mfilepath_or_buffer\u001b[0m\u001b[0;34m,\u001b[0m \u001b[0;34m**\u001b[0m\u001b[0mkwds\u001b[0m\u001b[0;34m)\u001b[0m\u001b[0;34m\u001b[0m\u001b[0;34m\u001b[0m\u001b[0m\n\u001b[0m\u001b[1;32m    483\u001b[0m \u001b[0;34m\u001b[0m\u001b[0m\n\u001b[1;32m    484\u001b[0m     \u001b[0;32mif\u001b[0m \u001b[0mchunksize\u001b[0m \u001b[0;32mor\u001b[0m \u001b[0miterator\u001b[0m\u001b[0;34m:\u001b[0m\u001b[0;34m\u001b[0m\u001b[0;34m\u001b[0m\u001b[0m\n",
            "\u001b[0;32m/usr/local/lib/python3.7/dist-packages/pandas/io/parsers/readers.py\u001b[0m in \u001b[0;36m__init__\u001b[0;34m(self, f, engine, **kwds)\u001b[0m\n\u001b[1;32m    809\u001b[0m             \u001b[0mself\u001b[0m\u001b[0;34m.\u001b[0m\u001b[0moptions\u001b[0m\u001b[0;34m[\u001b[0m\u001b[0;34m\"has_index_names\"\u001b[0m\u001b[0;34m]\u001b[0m \u001b[0;34m=\u001b[0m \u001b[0mkwds\u001b[0m\u001b[0;34m[\u001b[0m\u001b[0;34m\"has_index_names\"\u001b[0m\u001b[0;34m]\u001b[0m\u001b[0;34m\u001b[0m\u001b[0;34m\u001b[0m\u001b[0m\n\u001b[1;32m    810\u001b[0m \u001b[0;34m\u001b[0m\u001b[0m\n\u001b[0;32m--> 811\u001b[0;31m         \u001b[0mself\u001b[0m\u001b[0;34m.\u001b[0m\u001b[0m_engine\u001b[0m \u001b[0;34m=\u001b[0m \u001b[0mself\u001b[0m\u001b[0;34m.\u001b[0m\u001b[0m_make_engine\u001b[0m\u001b[0;34m(\u001b[0m\u001b[0mself\u001b[0m\u001b[0;34m.\u001b[0m\u001b[0mengine\u001b[0m\u001b[0;34m)\u001b[0m\u001b[0;34m\u001b[0m\u001b[0;34m\u001b[0m\u001b[0m\n\u001b[0m\u001b[1;32m    812\u001b[0m \u001b[0;34m\u001b[0m\u001b[0m\n\u001b[1;32m    813\u001b[0m     \u001b[0;32mdef\u001b[0m \u001b[0mclose\u001b[0m\u001b[0;34m(\u001b[0m\u001b[0mself\u001b[0m\u001b[0;34m)\u001b[0m\u001b[0;34m:\u001b[0m\u001b[0;34m\u001b[0m\u001b[0;34m\u001b[0m\u001b[0m\n",
            "\u001b[0;32m/usr/local/lib/python3.7/dist-packages/pandas/io/parsers/readers.py\u001b[0m in \u001b[0;36m_make_engine\u001b[0;34m(self, engine)\u001b[0m\n\u001b[1;32m   1038\u001b[0m             )\n\u001b[1;32m   1039\u001b[0m         \u001b[0;31m# error: Too many arguments for \"ParserBase\"\u001b[0m\u001b[0;34m\u001b[0m\u001b[0;34m\u001b[0m\u001b[0;34m\u001b[0m\u001b[0m\n\u001b[0;32m-> 1040\u001b[0;31m         \u001b[0;32mreturn\u001b[0m \u001b[0mmapping\u001b[0m\u001b[0;34m[\u001b[0m\u001b[0mengine\u001b[0m\u001b[0;34m]\u001b[0m\u001b[0;34m(\u001b[0m\u001b[0mself\u001b[0m\u001b[0;34m.\u001b[0m\u001b[0mf\u001b[0m\u001b[0;34m,\u001b[0m \u001b[0;34m**\u001b[0m\u001b[0mself\u001b[0m\u001b[0;34m.\u001b[0m\u001b[0moptions\u001b[0m\u001b[0;34m)\u001b[0m  \u001b[0;31m# type: ignore[call-arg]\u001b[0m\u001b[0;34m\u001b[0m\u001b[0;34m\u001b[0m\u001b[0m\n\u001b[0m\u001b[1;32m   1041\u001b[0m \u001b[0;34m\u001b[0m\u001b[0m\n\u001b[1;32m   1042\u001b[0m     \u001b[0;32mdef\u001b[0m \u001b[0m_failover_to_python\u001b[0m\u001b[0;34m(\u001b[0m\u001b[0mself\u001b[0m\u001b[0;34m)\u001b[0m\u001b[0;34m:\u001b[0m\u001b[0;34m\u001b[0m\u001b[0;34m\u001b[0m\u001b[0m\n",
            "\u001b[0;32m/usr/local/lib/python3.7/dist-packages/pandas/io/parsers/c_parser_wrapper.py\u001b[0m in \u001b[0;36m__init__\u001b[0;34m(self, src, **kwds)\u001b[0m\n\u001b[1;32m     49\u001b[0m \u001b[0;34m\u001b[0m\u001b[0m\n\u001b[1;32m     50\u001b[0m         \u001b[0;31m# open handles\u001b[0m\u001b[0;34m\u001b[0m\u001b[0;34m\u001b[0m\u001b[0;34m\u001b[0m\u001b[0m\n\u001b[0;32m---> 51\u001b[0;31m         \u001b[0mself\u001b[0m\u001b[0;34m.\u001b[0m\u001b[0m_open_handles\u001b[0m\u001b[0;34m(\u001b[0m\u001b[0msrc\u001b[0m\u001b[0;34m,\u001b[0m \u001b[0mkwds\u001b[0m\u001b[0;34m)\u001b[0m\u001b[0;34m\u001b[0m\u001b[0;34m\u001b[0m\u001b[0m\n\u001b[0m\u001b[1;32m     52\u001b[0m         \u001b[0;32massert\u001b[0m \u001b[0mself\u001b[0m\u001b[0;34m.\u001b[0m\u001b[0mhandles\u001b[0m \u001b[0;32mis\u001b[0m \u001b[0;32mnot\u001b[0m \u001b[0;32mNone\u001b[0m\u001b[0;34m\u001b[0m\u001b[0;34m\u001b[0m\u001b[0m\n\u001b[1;32m     53\u001b[0m \u001b[0;34m\u001b[0m\u001b[0m\n",
            "\u001b[0;32m/usr/local/lib/python3.7/dist-packages/pandas/io/parsers/base_parser.py\u001b[0m in \u001b[0;36m_open_handles\u001b[0;34m(self, src, kwds)\u001b[0m\n\u001b[1;32m    227\u001b[0m             \u001b[0mmemory_map\u001b[0m\u001b[0;34m=\u001b[0m\u001b[0mkwds\u001b[0m\u001b[0;34m.\u001b[0m\u001b[0mget\u001b[0m\u001b[0;34m(\u001b[0m\u001b[0;34m\"memory_map\"\u001b[0m\u001b[0;34m,\u001b[0m \u001b[0;32mFalse\u001b[0m\u001b[0;34m)\u001b[0m\u001b[0;34m,\u001b[0m\u001b[0;34m\u001b[0m\u001b[0;34m\u001b[0m\u001b[0m\n\u001b[1;32m    228\u001b[0m             \u001b[0mstorage_options\u001b[0m\u001b[0;34m=\u001b[0m\u001b[0mkwds\u001b[0m\u001b[0;34m.\u001b[0m\u001b[0mget\u001b[0m\u001b[0;34m(\u001b[0m\u001b[0;34m\"storage_options\"\u001b[0m\u001b[0;34m,\u001b[0m \u001b[0;32mNone\u001b[0m\u001b[0;34m)\u001b[0m\u001b[0;34m,\u001b[0m\u001b[0;34m\u001b[0m\u001b[0;34m\u001b[0m\u001b[0m\n\u001b[0;32m--> 229\u001b[0;31m             \u001b[0merrors\u001b[0m\u001b[0;34m=\u001b[0m\u001b[0mkwds\u001b[0m\u001b[0;34m.\u001b[0m\u001b[0mget\u001b[0m\u001b[0;34m(\u001b[0m\u001b[0;34m\"encoding_errors\"\u001b[0m\u001b[0;34m,\u001b[0m \u001b[0;34m\"strict\"\u001b[0m\u001b[0;34m)\u001b[0m\u001b[0;34m,\u001b[0m\u001b[0;34m\u001b[0m\u001b[0;34m\u001b[0m\u001b[0m\n\u001b[0m\u001b[1;32m    230\u001b[0m         )\n\u001b[1;32m    231\u001b[0m \u001b[0;34m\u001b[0m\u001b[0m\n",
            "\u001b[0;32m/usr/local/lib/python3.7/dist-packages/pandas/io/common.py\u001b[0m in \u001b[0;36mget_handle\u001b[0;34m(path_or_buf, mode, encoding, compression, memory_map, is_text, errors, storage_options)\u001b[0m\n\u001b[1;32m    705\u001b[0m                 \u001b[0mencoding\u001b[0m\u001b[0;34m=\u001b[0m\u001b[0mioargs\u001b[0m\u001b[0;34m.\u001b[0m\u001b[0mencoding\u001b[0m\u001b[0;34m,\u001b[0m\u001b[0;34m\u001b[0m\u001b[0;34m\u001b[0m\u001b[0m\n\u001b[1;32m    706\u001b[0m                 \u001b[0merrors\u001b[0m\u001b[0;34m=\u001b[0m\u001b[0merrors\u001b[0m\u001b[0;34m,\u001b[0m\u001b[0;34m\u001b[0m\u001b[0;34m\u001b[0m\u001b[0m\n\u001b[0;32m--> 707\u001b[0;31m                 \u001b[0mnewline\u001b[0m\u001b[0;34m=\u001b[0m\u001b[0;34m\"\"\u001b[0m\u001b[0;34m,\u001b[0m\u001b[0;34m\u001b[0m\u001b[0;34m\u001b[0m\u001b[0m\n\u001b[0m\u001b[1;32m    708\u001b[0m             )\n\u001b[1;32m    709\u001b[0m         \u001b[0;32melse\u001b[0m\u001b[0;34m:\u001b[0m\u001b[0;34m\u001b[0m\u001b[0;34m\u001b[0m\u001b[0m\n",
            "\u001b[0;31mFileNotFoundError\u001b[0m: [Errno 2] No such file or directory: '/content/drive/MyDrive/Shared Team 2/TrimmedDataSet.csv'"
          ]
        }
      ]
    },
    {
      "cell_type": "code",
      "source": [
        "#let's analyze Glyphosate_days\n",
        "\n",
        "lungsheet = pd.read_csv(\"/content/drive/MyDrive/Shared Team 2/TrimmedDataSet.csv\", header=1)\n",
        "lungsheet\n",
        "#2. Scatter plot\n",
        "print(\"This is a scatter plot of age and Glyphosate exposure\")\n",
        "sns.relplot(lungsheet['age'],lungsheet['Glyphosate_days'])\n",
        "#3. Categorical plot\n",
        "print(\"This is a categorial plot of age and Glyphosate_days\")\n",
        "sns.catplot(x=\"age\", y=\"Glyphosate_days\", data=lungsheet)\n",
        "sns.relplot(x=\"age\", y=\"Glyphosate_days\", kind=\"line\", data=lungsheet)\n",
        "#deleted confidence intervals\n",
        "sns.relplot(x=\"age\", y=\"Glyphosate_days\", ci=None, kind=\"line\", data=lungsheet); \n",
        " #violin plot\n",
        "sns.catplot(x=\"age\", y=\"Glyphosate_days\", hue=\"Cigarette_total\", \n",
        "  # This plot combines a boxplot with the kernel density estimation procedure  \n",
        "            kind=\"violin\", data=lungsheet);"
      ],
      "metadata": {
        "colab": {
          "base_uri": "https://localhost:8080/",
          "height": 1000
        },
        "id": "uZSF5J68euI7",
        "outputId": "cbe6fac3-3702-4aac-a7af-1ce68fada625"
      },
      "execution_count": null,
      "outputs": [
        {
          "output_type": "stream",
          "name": "stdout",
          "text": [
            "This is a scatter plot of age and cigarettes\n"
          ]
        },
        {
          "output_type": "stream",
          "name": "stderr",
          "text": [
            "/usr/local/lib/python3.7/dist-packages/seaborn/_decorators.py:43: FutureWarning: Pass the following variables as keyword args: x, y. From version 0.12, the only valid positional argument will be `data`, and passing other arguments without an explicit keyword will result in an error or misinterpretation.\n",
            "  FutureWarning\n"
          ]
        },
        {
          "output_type": "stream",
          "name": "stdout",
          "text": [
            "This is a categorial plot of age and Glyphosate_days\n"
          ]
        },
        {
          "output_type": "display_data",
          "data": {
            "text/plain": [
              "<Figure size 360x360 with 1 Axes>"
            ],
            "image/png": "[encoded data removed]"
          },
          "metadata": {
            "needs_background": "light"
          }
        },
        {
          "output_type": "display_data",
          "data": {
            "text/plain": [
              "<Figure size 360x360 with 1 Axes>"
            ],
            "image/png": "[encoded data removed]"
          },
          "metadata": {
            "needs_background": "light"
          }
        },
        {
          "output_type": "display_data",
          "data": {
            "text/plain": [
              "<Figure size 360x360 with 1 Axes>"
            ],
            "image/png": "[encoded data removed]"
          },
          "metadata": {
            "needs_background": "light"
          }
        },
        {
          "output_type": "display_data",
          "data": {
            "text/plain": [
              "<Figure size 360x360 with 1 Axes>"
            ],
            "image/png": "[encoded data removed]"
          },
          "metadata": {
            "needs_background": "light"
          }
        },
        {
          "output_type": "display_data",
          "data": {
            "text/plain": [
              "<Figure size 441.875x360 with 1 Axes>"
            ],
            "image/png": "[encoded data removed]"
          },
          "metadata": {
            "needs_background": "light"
          }
        }
      ]
    },
    {
      "cell_type": "code",
      "source": [
        ""
      ],
      "metadata": {
        "id": "kf03_3lMkOHi"
      },
      "execution_count": null,
      "outputs": []
    },
    {
      "cell_type": "code",
      "source": [
        "#Thank you, Prof. Lee\n",
        "import pandas as pd\n",
        "\n",
        "url = 'https://raw.githubUserContent.com/hcpy/lungcancer/5d57b115647332c6e8c2df2554b7c9124a709645/Trimmed%20Data%20Set%20for%20Team%20Project.csv'\n",
        "df = pd.read_csv(url, index_col=0)\n",
        "print(df.head(5))"
      ],
      "metadata": {
        "id": "B3ujBViCJ05q"
      },
      "execution_count": null,
      "outputs": []
    },
    {
      "cell_type": "code",
      "source": [
        "#put values in a box to quickly make sure all the values are numerical\n",
        "test_df = pd.read_csv('/content/drive/MyDrive/Shared Team 2/TrimmedDataSet.csv',header=1)\n",
        "test_df['age'].values\n",
        "test_df['Cigarette_total'].values"
      ],
      "metadata": {
        "id": "jPinQr-5kfFm"
      },
      "execution_count": null,
      "outputs": []
    },
    {
      "cell_type": "markdown",
      "metadata": {
        "id": "AWtvjvqpwT_z"
      },
      "source": [
        ""
      ]
    },
    {
      "cell_type": "markdown",
      "metadata": {
        "id": "tCfwkLud3HnP"
      },
      "source": [
        "#Module 6 - Statistical Analysis, Machine Learning -- Anna"
      ]
    },
    {
      "cell_type": "markdown",
      "source": [
        "1.) Set up dataframe for analysis. Reorganize the columns and turn the columns from objects to floats."
      ],
      "metadata": {
        "id": "gqwx-EFOiGDa"
      }
    },
    {
      "cell_type": "code",
      "source": [
        "# Connect to Anna's drive \n",
        "import os\n",
        "from google.colab import drive\n",
        "drive.mount('/content/drive/')\n",
        "os.chdir(\"/content/drive/MyDrive/FAES_BIOF309/Team2\")\n"
      ],
      "metadata": {
        "id": "54a9-P19LYl_"
      },
      "execution_count": null,
      "outputs": []
    },
    {
      "cell_type": "code",
      "source": [
        "#  imports\n",
        "import pandas as pd\n",
        "import numpy as np\n",
        "import scipy.stats\n",
        "import statsmodels.stats.weightstats as sms\n",
        "import statsmodels.formula.api as smf\n",
        "import statsmodels.api as sm"
      ],
      "metadata": {
        "id": "55UZA4OmTq-c"
      },
      "execution_count": null,
      "outputs": []
    },
    {
      "cell_type": "code",
      "execution_count": null,
      "metadata": {
        "id": "JYa-wAAjJXHU"
      },
      "outputs": [],
      "source": [
        "# I took the \"trimmed\" data from Github and put it into my Google Drive\n",
        "# Reorganized the dataframe in my google doc so that the columns were labeled correctly\n",
        "trimmed_df = pd.read_csv(\"Trimmed.csv\")\n",
        "trimmed_df.columns = trimmed_df.iloc[0]\n",
        "reorganized_df = trimmed_df.drop(trimmed_df.index[0])\n",
        "reorganized_df.head()"
      ]
    },
    {
      "cell_type": "code",
      "source": [
        "# the columns are objects not numeric values\n",
        "reorganized_df['LungCA'].dtype"
      ],
      "metadata": {
        "id": "JiUU3ly3fJA3"
      },
      "execution_count": null,
      "outputs": []
    },
    {
      "cell_type": "code",
      "source": [
        "# Convert columns from objects to floats in order to use the columns for my correlation analysis \n",
        "# Anna converted the columns that I want to use in my analysis \n",
        "reorganized_df['LungCA'] = pd.to_numeric(reorganized_df['LungCA'], downcast=\"float\")\n",
        "reorganized_df['age'] = pd.to_numeric(reorganized_df['age'], downcast=\"float\")\n",
        "reorganized_df['Glyphosate_days'] = pd.to_numeric(reorganized_df['Glyphosate_days'], downcast=\"float\")\n",
        "reorganized_df['Glyphosate_use'] = pd.to_numeric(reorganized_df['Glyphosate_use'], downcast=\"float\")\n",
        "reorganized_df['Gender'] = pd.to_numeric(reorganized_df['Gender'], downcast=\"float\")\n",
        "reorganized_df['CigSmoke1'] = pd.to_numeric(reorganized_df['CigSmoke1'], downcast=\"float\")\n",
        "print(reorganized_df.dtypes)"
      ],
      "metadata": {
        "id": "7TclAcmFgbG-"
      },
      "execution_count": null,
      "outputs": []
    },
    {
      "cell_type": "code",
      "source": [
        "reorganized_df.describe()"
      ],
      "metadata": {
        "colab": {
          "base_uri": "https://localhost:8080/",
          "height": 300
        },
        "id": "_EisQf_Mia3f",
        "outputId": "b85b53c1-a8bb-4e9d-9b4e-c6da2b430eda"
      },
      "execution_count": null,
      "outputs": [
        {
          "output_type": "execute_result",
          "data": {
            "text/plain": [
              "0          LungCA      Gender         age   CigSmoke1  Glyphosate_use  \\\n",
              "count  680.000000  680.000000  680.000000  680.000000      680.000000   \n",
              "mean     0.342647    0.589706   65.599998    0.650000        0.413235   \n",
              "std      0.474944    0.492249   10.794724    0.477321        0.492777   \n",
              "min      0.000000    0.000000   31.000000    0.000000        0.000000   \n",
              "25%      0.000000    0.000000   58.000000    0.000000        0.000000   \n",
              "50%      0.000000    1.000000   66.000000    1.000000        0.000000   \n",
              "75%      1.000000    1.000000   74.000000    1.000000        1.000000   \n",
              "max      1.000000    1.000000   98.000000    1.000000        1.000000   \n",
              "\n",
              "0      Glyphosate_days  \n",
              "count       680.000000  \n",
              "mean        300.295593  \n",
              "std         654.434448  \n",
              "min           0.000000  \n",
              "25%           0.000000  \n",
              "50%           0.000000  \n",
              "75%         338.000000  \n",
              "max        5760.000000  "
            ],
            "text/html": [
              "\n",
              "  <div id=\"df-63526a79-8ef3-4045-9677-ee3cbbc2b61b\">\n",
              "    <div class=\"colab-df-container\">\n",
              "      <div>\n",
              "<style scoped>\n",
              "    .dataframe tbody tr th:only-of-type {\n",
              "        vertical-align: middle;\n",
              "    }\n",
              "\n",
              "    .dataframe tbody tr th {\n",
              "        vertical-align: top;\n",
              "    }\n",
              "\n",
              "    .dataframe thead th {\n",
              "        text-align: right;\n",
              "    }\n",
              "</style>\n",
              "<table border=\"1\" class=\"dataframe\">\n",
              "  <thead>\n",
              "    <tr style=\"text-align: right;\">\n",
              "      <th></th>\n",
              "      <th>LungCA</th>\n",
              "      <th>Gender</th>\n",
              "      <th>age</th>\n",
              "      <th>CigSmoke1</th>\n",
              "      <th>Glyphosate_use</th>\n",
              "      <th>Glyphosate_days</th>\n",
              "    </tr>\n",
              "  </thead>\n",
              "  <tbody>\n",
              "    <tr>\n",
              "      <th>count</th>\n",
              "      <td>680.000000</td>\n",
              "      <td>680.000000</td>\n",
              "      <td>680.000000</td>\n",
              "      <td>680.000000</td>\n",
              "      <td>680.000000</td>\n",
              "      <td>680.000000</td>\n",
              "    </tr>\n",
              "    <tr>\n",
              "      <th>mean</th>\n",
              "      <td>0.342647</td>\n",
              "      <td>0.589706</td>\n",
              "      <td>65.599998</td>\n",
              "      <td>0.650000</td>\n",
              "      <td>0.413235</td>\n",
              "      <td>300.295593</td>\n",
              "    </tr>\n",
              "    <tr>\n",
              "      <th>std</th>\n",
              "      <td>0.474944</td>\n",
              "      <td>0.492249</td>\n",
              "      <td>10.794724</td>\n",
              "      <td>0.477321</td>\n",
              "      <td>0.492777</td>\n",
              "      <td>654.434448</td>\n",
              "    </tr>\n",
              "    <tr>\n",
              "      <th>min</th>\n",
              "      <td>0.000000</td>\n",
              "      <td>0.000000</td>\n",
              "      <td>31.000000</td>\n",
              "      <td>0.000000</td>\n",
              "      <td>0.000000</td>\n",
              "      <td>0.000000</td>\n",
              "    </tr>\n",
              "    <tr>\n",
              "      <th>25%</th>\n",
              "      <td>0.000000</td>\n",
              "      <td>0.000000</td>\n",
              "      <td>58.000000</td>\n",
              "      <td>0.000000</td>\n",
              "      <td>0.000000</td>\n",
              "      <td>0.000000</td>\n",
              "    </tr>\n",
              "    <tr>\n",
              "      <th>50%</th>\n",
              "      <td>0.000000</td>\n",
              "      <td>1.000000</td>\n",
              "      <td>66.000000</td>\n",
              "      <td>1.000000</td>\n",
              "      <td>0.000000</td>\n",
              "      <td>0.000000</td>\n",
              "    </tr>\n",
              "    <tr>\n",
              "      <th>75%</th>\n",
              "      <td>1.000000</td>\n",
              "      <td>1.000000</td>\n",
              "      <td>74.000000</td>\n",
              "      <td>1.000000</td>\n",
              "      <td>1.000000</td>\n",
              "      <td>338.000000</td>\n",
              "    </tr>\n",
              "    <tr>\n",
              "      <th>max</th>\n",
              "      <td>1.000000</td>\n",
              "      <td>1.000000</td>\n",
              "      <td>98.000000</td>\n",
              "      <td>1.000000</td>\n",
              "      <td>1.000000</td>\n",
              "      <td>5760.000000</td>\n",
              "    </tr>\n",
              "  </tbody>\n",
              "</table>\n",
              "</div>\n",
              "      <button class=\"colab-df-convert\" onclick=\"convertToInteractive('df-63526a79-8ef3-4045-9677-ee3cbbc2b61b')\"\n",
              "              title=\"Convert this dataframe to an interactive table.\"\n",
              "              style=\"display:none;\">\n",
              "        \n",
              "  <svg xmlns=\"http://www.w3.org/2000/svg\" height=\"24px\"viewBox=\"0 0 24 24\"\n",
              "       width=\"24px\">\n",
              "    <path d=\"M0 0h24v24H0V0z\" fill=\"none\"/>\n",
              "    <path d=\"M18.56 5.44l.94 2.06.94-2.06 2.06-.94-2.06-.94-.94-2.06-.94 2.06-2.06.94zm-11 1L8.5 8.5l.94-2.06 2.06-.94-2.06-.94L8.5 2.5l-.94 2.06-2.06.94zm10 10l.94 2.06.94-2.06 2.06-.94-2.06-.94-.94-2.06-.94 2.06-2.06.94z\"/><path d=\"M17.41 7.96l-1.37-1.37c-.4-.4-.92-.59-1.43-.59-.52 0-1.04.2-1.43.59L10.3 9.45l-7.72 7.72c-.78.78-.78 2.05 0 2.83L4 21.41c.39.39.9.59 1.41.59.51 0 1.02-.2 1.41-.59l7.78-7.78 2.81-2.81c.8-.78.8-2.07 0-2.86zM5.41 20L4 18.59l7.72-7.72 1.47 1.35L5.41 20z\"/>\n",
              "  </svg>\n",
              "      </button>\n",
              "      \n",
              "  <style>\n",
              "    .colab-df-container {\n",
              "      display:flex;\n",
              "      flex-wrap:wrap;\n",
              "      gap: 12px;\n",
              "    }\n",
              "\n",
              "    .colab-df-convert {\n",
              "      background-color: #E8F0FE;\n",
              "      border: none;\n",
              "      border-radius: 50%;\n",
              "      cursor: pointer;\n",
              "      display: none;\n",
              "      fill: #1967D2;\n",
              "      height: 32px;\n",
              "      padding: 0 0 0 0;\n",
              "      width: 32px;\n",
              "    }\n",
              "\n",
              "    .colab-df-convert:hover {\n",
              "      background-color: #E2EBFA;\n",
              "      box-shadow: 0px 1px 2px rgba(60, 64, 67, 0.3), 0px 1px 3px 1px rgba(60, 64, 67, 0.15);\n",
              "      fill: #174EA6;\n",
              "    }\n",
              "\n",
              "    [theme=dark] .colab-df-convert {\n",
              "      background-color: #3B4455;\n",
              "      fill: #D2E3FC;\n",
              "    }\n",
              "\n",
              "    [theme=dark] .colab-df-convert:hover {\n",
              "      background-color: #434B5C;\n",
              "      box-shadow: 0px 1px 3px 1px rgba(0, 0, 0, 0.15);\n",
              "      filter: drop-shadow(0px 1px 2px rgba(0, 0, 0, 0.3));\n",
              "      fill: #FFFFFF;\n",
              "    }\n",
              "  </style>\n",
              "\n",
              "      <script>\n",
              "        const buttonEl =\n",
              "          document.querySelector('#df-63526a79-8ef3-4045-9677-ee3cbbc2b61b button.colab-df-convert');\n",
              "        buttonEl.style.display =\n",
              "          google.colab.kernel.accessAllowed ? 'block' : 'none';\n",
              "\n",
              "        async function convertToInteractive(key) {\n",
              "          const element = document.querySelector('#df-63526a79-8ef3-4045-9677-ee3cbbc2b61b');\n",
              "          const dataTable =\n",
              "            await google.colab.kernel.invokeFunction('convertToInteractive',\n",
              "                                                     [key], {});\n",
              "          if (!dataTable) return;\n",
              "\n",
              "          const docLinkHtml = 'Like what you see? Visit the ' +\n",
              "            '<a target=\"_blank\" href=https://colab.research.google.com/notebooks/data_table.ipynb>data table notebook</a>'\n",
              "            + ' to learn more about interactive tables.';\n",
              "          element.innerHTML = '';\n",
              "          dataTable['output_type'] = 'display_data';\n",
              "          await google.colab.output.renderOutput(dataTable, element);\n",
              "          const docLink = document.createElement('div');\n",
              "          docLink.innerHTML = docLinkHtml;\n",
              "          element.appendChild(docLink);\n",
              "        }\n",
              "      </script>\n",
              "    </div>\n",
              "  </div>\n",
              "  "
            ]
          },
          "metadata": {},
          "execution_count": 30
        }
      ]
    },
    {
      "cell_type": "code",
      "source": [
        "reorganized_df['age'].var(ddof=0)"
      ],
      "metadata": {
        "id": "ZTeXzZZlcs8x"
      },
      "execution_count": null,
      "outputs": []
    },
    {
      "cell_type": "markdown",
      "source": [
        "Is there a correlation between Lung Cancer and age?\n",
        "Is there a correlation between Lung Cancer and the number of days using Glyphosate?\n",
        "Hypothesis: Increased age is correlated with more lung cancer. Glyphosate use is correlated with lung cancer."
      ],
      "metadata": {
        "id": "A3yoo-PxRzhu"
      }
    },
    {
      "cell_type": "code",
      "source": [
        "r, p = scipy.stats.pearsonr(reorganized_df['LungCA'], reorganized_df['age']) \n",
        "print(f\"Your correlation coefficient is {r} with a p-value of {p}\")"
      ],
      "metadata": {
        "id": "7fQRg3ZGjGtg",
        "colab": {
          "base_uri": "https://localhost:8080/",
          "height": 432
        },
        "outputId": "40aba581-ceeb-4b9c-8ccf-c27c40375450"
      },
      "execution_count": null,
      "outputs": [
        {
          "output_type": "error",
          "ename": "KeyError",
          "evalue": "ignored",
          "traceback": [
            "\u001b[0;31m---------------------------------------------------------------------------\u001b[0m",
            "\u001b[0;31mKeyError\u001b[0m                                  Traceback (most recent call last)",
            "\u001b[0;32m/usr/local/lib/python3.7/dist-packages/pandas/core/indexes/base.py\u001b[0m in \u001b[0;36mget_loc\u001b[0;34m(self, key, method, tolerance)\u001b[0m\n\u001b[1;32m   3360\u001b[0m             \u001b[0;32mtry\u001b[0m\u001b[0;34m:\u001b[0m\u001b[0;34m\u001b[0m\u001b[0;34m\u001b[0m\u001b[0m\n\u001b[0;32m-> 3361\u001b[0;31m                 \u001b[0;32mreturn\u001b[0m \u001b[0mself\u001b[0m\u001b[0;34m.\u001b[0m\u001b[0m_engine\u001b[0m\u001b[0;34m.\u001b[0m\u001b[0mget_loc\u001b[0m\u001b[0;34m(\u001b[0m\u001b[0mcasted_key\u001b[0m\u001b[0;34m)\u001b[0m\u001b[0;34m\u001b[0m\u001b[0;34m\u001b[0m\u001b[0m\n\u001b[0m\u001b[1;32m   3362\u001b[0m             \u001b[0;32mexcept\u001b[0m \u001b[0mKeyError\u001b[0m \u001b[0;32mas\u001b[0m \u001b[0merr\u001b[0m\u001b[0;34m:\u001b[0m\u001b[0;34m\u001b[0m\u001b[0;34m\u001b[0m\u001b[0m\n",
            "\u001b[0;32m/usr/local/lib/python3.7/dist-packages/pandas/_libs/index.pyx\u001b[0m in \u001b[0;36mpandas._libs.index.IndexEngine.get_loc\u001b[0;34m()\u001b[0m\n",
            "\u001b[0;32m/usr/local/lib/python3.7/dist-packages/pandas/_libs/index.pyx\u001b[0m in \u001b[0;36mpandas._libs.index.IndexEngine.get_loc\u001b[0;34m()\u001b[0m\n",
            "\u001b[0;32m/usr/local/lib/python3.7/dist-packages/pandas/_libs/index.pyx\u001b[0m in \u001b[0;36mpandas._libs.index.IndexEngine._get_loc_duplicates\u001b[0;34m()\u001b[0m\n",
            "\u001b[0;32m/usr/local/lib/python3.7/dist-packages/pandas/_libs/index.pyx\u001b[0m in \u001b[0;36mpandas._libs.index.IndexEngine._maybe_get_bool_indexer\u001b[0;34m()\u001b[0m\n",
            "\u001b[0;32m/usr/local/lib/python3.7/dist-packages/pandas/_libs/index.pyx\u001b[0m in \u001b[0;36mpandas._libs.index.IndexEngine._unpack_bool_indexer\u001b[0;34m()\u001b[0m\n",
            "\u001b[0;31mKeyError\u001b[0m: 'LungCA'",
            "\nThe above exception was the direct cause of the following exception:\n",
            "\u001b[0;31mKeyError\u001b[0m                                  Traceback (most recent call last)",
            "\u001b[0;32m<ipython-input-148-dcd9ed1916f1>\u001b[0m in \u001b[0;36m<module>\u001b[0;34m()\u001b[0m\n\u001b[0;32m----> 1\u001b[0;31m \u001b[0mr\u001b[0m\u001b[0;34m,\u001b[0m \u001b[0mp\u001b[0m \u001b[0;34m=\u001b[0m \u001b[0mscipy\u001b[0m\u001b[0;34m.\u001b[0m\u001b[0mstats\u001b[0m\u001b[0;34m.\u001b[0m\u001b[0mpearsonr\u001b[0m\u001b[0;34m(\u001b[0m\u001b[0mreorganized_df\u001b[0m\u001b[0;34m[\u001b[0m\u001b[0;34m'LungCA'\u001b[0m\u001b[0;34m]\u001b[0m\u001b[0;34m,\u001b[0m \u001b[0mreorganized_df\u001b[0m\u001b[0;34m[\u001b[0m\u001b[0;34m'age'\u001b[0m\u001b[0;34m]\u001b[0m\u001b[0;34m)\u001b[0m\u001b[0;34m\u001b[0m\u001b[0;34m\u001b[0m\u001b[0m\n\u001b[0m\u001b[1;32m      2\u001b[0m \u001b[0mprint\u001b[0m\u001b[0;34m(\u001b[0m\u001b[0;34mf\"Your correlation coefficient is {r} with a p-value of {p}\"\u001b[0m\u001b[0;34m)\u001b[0m\u001b[0;34m\u001b[0m\u001b[0;34m\u001b[0m\u001b[0m\n",
            "\u001b[0;32m/usr/local/lib/python3.7/dist-packages/pandas/core/frame.py\u001b[0m in \u001b[0;36m__getitem__\u001b[0;34m(self, key)\u001b[0m\n\u001b[1;32m   3456\u001b[0m             \u001b[0;32mif\u001b[0m \u001b[0mself\u001b[0m\u001b[0;34m.\u001b[0m\u001b[0mcolumns\u001b[0m\u001b[0;34m.\u001b[0m\u001b[0mnlevels\u001b[0m \u001b[0;34m>\u001b[0m \u001b[0;36m1\u001b[0m\u001b[0;34m:\u001b[0m\u001b[0;34m\u001b[0m\u001b[0;34m\u001b[0m\u001b[0m\n\u001b[1;32m   3457\u001b[0m                 \u001b[0;32mreturn\u001b[0m \u001b[0mself\u001b[0m\u001b[0;34m.\u001b[0m\u001b[0m_getitem_multilevel\u001b[0m\u001b[0;34m(\u001b[0m\u001b[0mkey\u001b[0m\u001b[0;34m)\u001b[0m\u001b[0;34m\u001b[0m\u001b[0;34m\u001b[0m\u001b[0m\n\u001b[0;32m-> 3458\u001b[0;31m             \u001b[0mindexer\u001b[0m \u001b[0;34m=\u001b[0m \u001b[0mself\u001b[0m\u001b[0;34m.\u001b[0m\u001b[0mcolumns\u001b[0m\u001b[0;34m.\u001b[0m\u001b[0mget_loc\u001b[0m\u001b[0;34m(\u001b[0m\u001b[0mkey\u001b[0m\u001b[0;34m)\u001b[0m\u001b[0;34m\u001b[0m\u001b[0;34m\u001b[0m\u001b[0m\n\u001b[0m\u001b[1;32m   3459\u001b[0m             \u001b[0;32mif\u001b[0m \u001b[0mis_integer\u001b[0m\u001b[0;34m(\u001b[0m\u001b[0mindexer\u001b[0m\u001b[0;34m)\u001b[0m\u001b[0;34m:\u001b[0m\u001b[0;34m\u001b[0m\u001b[0;34m\u001b[0m\u001b[0m\n\u001b[1;32m   3460\u001b[0m                 \u001b[0mindexer\u001b[0m \u001b[0;34m=\u001b[0m \u001b[0;34m[\u001b[0m\u001b[0mindexer\u001b[0m\u001b[0;34m]\u001b[0m\u001b[0;34m\u001b[0m\u001b[0;34m\u001b[0m\u001b[0m\n",
            "\u001b[0;32m/usr/local/lib/python3.7/dist-packages/pandas/core/indexes/base.py\u001b[0m in \u001b[0;36mget_loc\u001b[0;34m(self, key, method, tolerance)\u001b[0m\n\u001b[1;32m   3361\u001b[0m                 \u001b[0;32mreturn\u001b[0m \u001b[0mself\u001b[0m\u001b[0;34m.\u001b[0m\u001b[0m_engine\u001b[0m\u001b[0;34m.\u001b[0m\u001b[0mget_loc\u001b[0m\u001b[0;34m(\u001b[0m\u001b[0mcasted_key\u001b[0m\u001b[0;34m)\u001b[0m\u001b[0;34m\u001b[0m\u001b[0;34m\u001b[0m\u001b[0m\n\u001b[1;32m   3362\u001b[0m             \u001b[0;32mexcept\u001b[0m \u001b[0mKeyError\u001b[0m \u001b[0;32mas\u001b[0m \u001b[0merr\u001b[0m\u001b[0;34m:\u001b[0m\u001b[0;34m\u001b[0m\u001b[0;34m\u001b[0m\u001b[0m\n\u001b[0;32m-> 3363\u001b[0;31m                 \u001b[0;32mraise\u001b[0m \u001b[0mKeyError\u001b[0m\u001b[0;34m(\u001b[0m\u001b[0mkey\u001b[0m\u001b[0;34m)\u001b[0m \u001b[0;32mfrom\u001b[0m \u001b[0merr\u001b[0m\u001b[0;34m\u001b[0m\u001b[0;34m\u001b[0m\u001b[0m\n\u001b[0m\u001b[1;32m   3364\u001b[0m \u001b[0;34m\u001b[0m\u001b[0m\n\u001b[1;32m   3365\u001b[0m         \u001b[0;32mif\u001b[0m \u001b[0mis_scalar\u001b[0m\u001b[0;34m(\u001b[0m\u001b[0mkey\u001b[0m\u001b[0;34m)\u001b[0m \u001b[0;32mand\u001b[0m \u001b[0misna\u001b[0m\u001b[0;34m(\u001b[0m\u001b[0mkey\u001b[0m\u001b[0;34m)\u001b[0m \u001b[0;32mand\u001b[0m \u001b[0;32mnot\u001b[0m \u001b[0mself\u001b[0m\u001b[0;34m.\u001b[0m\u001b[0mhasnans\u001b[0m\u001b[0;34m:\u001b[0m\u001b[0;34m\u001b[0m\u001b[0;34m\u001b[0m\u001b[0m\n",
            "\u001b[0;31mKeyError\u001b[0m: 'LungCA'"
          ]
        }
      ]
    },
    {
      "cell_type": "code",
      "source": [
        "r2, p2 = scipy.stats.pearsonr(reorganized_df['LungCA'], reorganized_df['Glyphosate_days']) \n",
        "print(f\"Your correlation coefficient is {r2} with a p-value of {p2}\")"
      ],
      "metadata": {
        "id": "zWT8qb25jh5d"
      },
      "execution_count": null,
      "outputs": []
    },
    {
      "cell_type": "code",
      "source": [
        "# logistic model, is Lung cancer associated with tobacco use (0= non-smoker, 1=smoker)?\n",
        "formula1 = \"CigSmoke1 ~ LungCA\"\n",
        "res = smf.glm(formula=formula1, family=sm.families.Binomial(), data=reorganized_df).fit() \n",
        "print(res.summary()) "
      ],
      "metadata": {
        "id": "u5-rUwckxERi"
      },
      "execution_count": null,
      "outputs": []
    },
    {
      "cell_type": "code",
      "source": [
        "# Logistic model, is Lung Cancer associated with Gender after adjusting for AGE?\n",
        "formula2 = \"Gender ~ LungCA + age\"\n",
        "res = smf.glm(formula=formula2, family=sm.families.Binomial(), data=reorganized_df).fit() \n",
        "print(res.summary()) "
      ],
      "metadata": {
        "id": "5MJ4tnKhlBhM"
      },
      "execution_count": null,
      "outputs": []
    }
  ],
  "metadata": {
    "colab": {
      "collapsed_sections": [],
      "name": "2 Team FAES Python Shared Notebook [current one].ipynb",
      "provenance": [],
      "include_colab_link": true
    },
    "kernelspec": {
      "display_name": "Python 3",
      "name": "python3"
    },
    "language_info": {
      "name": "python"
    }
  },
  "nbformat": 4,
  "nbformat_minor": 0
}