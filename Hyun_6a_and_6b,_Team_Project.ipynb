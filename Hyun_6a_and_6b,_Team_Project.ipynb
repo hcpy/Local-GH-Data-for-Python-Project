{
  "nbformat": 4,
  "nbformat_minor": 0,
  "metadata": {
    "colab": {
      "name": "Hyun 6a and 6b, Team Project.ipynb",
      "provenance": [],
      "authorship_tag": "ABX9TyM93jccV5ybDGIWEGE3l37r",
      "include_colab_link": true
    },
    "kernelspec": {
      "name": "python3",
      "display_name": "Python 3"
    },
    "language_info": {
      "name": "python"
    }
  },
  "cells": [
    {
      "cell_type": "markdown",
      "metadata": {
        "id": "view-in-github",
        "colab_type": "text"
      },
      "source": [
        "<a href=\"https://colab.research.google.com/github/hcpy/Local-GH-Data-for-Python-Project/blob/main/Hyun_6a_and_6b%2C_Team_Project.ipynb\" target=\"_parent\"><img src=\"https://colab.research.google.com/assets/colab-badge.svg\" alt=\"Open In Colab\"/></a>"
      ]
    },
    {
      "cell_type": "code",
      "source": [
        "import os\n",
        "from google.colab import drive\n",
        "drive.mount('/content/drive/')\n",
        "os.chdir(\"/content/drive/MyDrive/FAES_BIOF309/\")"
      ],
      "metadata": {
        "colab": {
          "base_uri": "https://localhost:8080/"
        },
        "id": "yoS416jJJG0Y",
        "outputId": "ac2bc03d-1843-4165-e289-a021ef2b080c"
      },
      "execution_count": 2,
      "outputs": [
        {
          "output_type": "stream",
          "name": "stdout",
          "text": [
            "Mounted at /content/drive/\n"
          ]
        }
      ]
    },
    {
      "cell_type": "code",
      "execution_count": 5,
      "metadata": {
        "id": "Gu4Iv5llI-O5"
      },
      "outputs": [],
      "source": [
        "import pandas as pd \n",
        "# Import pandas, we'll alias as `pd` so we don't need to keep typing the whole name of the package.\n",
        "\n",
        "outcome_df = pd.read_csv(\"/content/drive/MyDrive/FAES_BIOF309/Project_data/TrimmedDataSet.csv.csv\", engine='c') \n",
        "# The engine option speeds the data ingest up.\n",
        "\n",
        " "
      ]
    },
    {
      "cell_type": "code",
      "source": [
        ""
      ],
      "metadata": {
        "id": "0wqYF31dJTRt"
      },
      "execution_count": null,
      "outputs": []
    },
    {
      "cell_type": "markdown",
      "source": [
        "Central tendency\n"
      ],
      "metadata": {
        "id": "mOM9mubdJdHV"
      }
    },
    {
      "cell_type": "code",
      "source": [
        "#header 1 added per Prof. Lee\n",
        "test_df = pd.read_csv(\"/content/drive/MyDrive/FAES_BIOF309/Project_data/TrimmedDataSet.csv.csv\", engine='c', header=1) "
      ],
      "metadata": {
        "id": "yPdAhwK9Jevf"
      },
      "execution_count": 9,
      "outputs": []
    },
    {
      "cell_type": "code",
      "source": [
        "print (\"What is the mean of the age of the sample selection?\")\n",
        "test_df['age'].mean()\n"
      ],
      "metadata": {
        "colab": {
          "base_uri": "https://localhost:8080/"
        },
        "id": "tsmZ6FEsJl44",
        "outputId": "db99ed53-27a4-46e0-94e2-cb30b778db53"
      },
      "execution_count": 12,
      "outputs": [
        {
          "output_type": "stream",
          "name": "stdout",
          "text": [
            "What is the mean of the age of the sample selection?\n",
            "What is the median of the age of the sample selection?\n"
          ]
        },
        {
          "output_type": "execute_result",
          "data": {
            "text/plain": [
              "66.0"
            ]
          },
          "metadata": {},
          "execution_count": 12
        }
      ]
    },
    {
      "cell_type": "code",
      "source": [
        "print (\"What is the median of the age of the sample selection?\")\n",
        "test_df['age'].median()"
      ],
      "metadata": {
        "colab": {
          "base_uri": "https://localhost:8080/"
        },
        "id": "4o0j1fhRKXW2",
        "outputId": "da1fea80-d674-4caf-bf09-4f2b7dbada93"
      },
      "execution_count": 13,
      "outputs": [
        {
          "output_type": "stream",
          "name": "stdout",
          "text": [
            "What is the median of the age of the sample selection?\n"
          ]
        },
        {
          "output_type": "execute_result",
          "data": {
            "text/plain": [
              "66.0"
            ]
          },
          "metadata": {},
          "execution_count": 13
        }
      ]
    },
    {
      "cell_type": "code",
      "source": [
        ""
      ],
      "metadata": {
        "id": "cen2CyHUKYm5"
      },
      "execution_count": null,
      "outputs": []
    }
  ]
}