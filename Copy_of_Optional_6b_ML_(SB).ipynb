{
  "nbformat": 4,
  "nbformat_minor": 0,
  "metadata": {
    "colab": {
      "name": "Copy of Optional 6b ML (SB)",
      "provenance": [],
      "collapsed_sections": [],
      "toc_visible": true,
      "include_colab_link": true
    },
    "kernelspec": {
      "name": "python3",
      "display_name": "Python 3"
    }
  },
  "cells": [
    {
      "cell_type": "markdown",
      "metadata": {
        "id": "view-in-github",
        "colab_type": "text"
      },
      "source": [
        "<a href=\"https://colab.research.google.com/github/hcpy/Local-GH-Data-for-Python-Project/blob/main/Copy_of_Optional_6b_ML_(SB).ipynb\" target=\"_parent\"><img src=\"https://colab.research.google.com/assets/colab-badge.svg\" alt=\"Open In Colab\"/></a>"
      ]
    },
    {
      "cell_type": "markdown",
      "metadata": {
        "id": "JpNNM9-2p2FZ"
      },
      "source": [
        "## EXTRA POINTS (5): This is an example of a Machine Learning Pipeline using GenoML. Try to run it on your own"
      ]
    },
    {
      "cell_type": "code",
      "metadata": {
        "id": "AqGlXavlbroA",
        "colab": {
          "base_uri": "https://localhost:8080/"
        },
        "outputId": "343e7f7b-e80c-40cb-aec1-d30990578545"
      },
      "source": [
        "import os\n",
        "import sys\n",
        "from google.colab import drive\n",
        "drive.mount('/content/drive/', force_remount=True)\n",
        "os.chdir(\"/content/drive/MyDrive/FAES_BIOF309/example_data/discrete\")"
      ],
      "execution_count": 13,
      "outputs": [
        {
          "output_type": "stream",
          "name": "stdout",
          "text": [
            "Mounted at /content/drive/\n"
          ]
        }
      ]
    },
    {
      "cell_type": "code",
      "metadata": {
        "id": "-KAJLMB7ckec",
        "colab": {
          "base_uri": "https://localhost:8080/"
        },
        "outputId": "2390a15b-3475-4a7a-e672-3219706f4193"
      },
      "source": [
        "! mkdir /content/drive/MyDrive/FAES_BIOF309/outputs"
      ],
      "execution_count": 14,
      "outputs": [
        {
          "output_type": "stream",
          "name": "stdout",
          "text": [
            "mkdir: cannot create directory ‘/content/drive/MyDrive/FAES_BIOF309/outputs’: File exists\n"
          ]
        }
      ]
    },
    {
      "cell_type": "code",
      "source": [
        ""
      ],
      "metadata": {
        "id": "mNUcjHsBzIM9"
      },
      "execution_count": 14,
      "outputs": []
    },
    {
      "cell_type": "code",
      "metadata": {
        "id": "UhupzPwabscP",
        "colab": {
          "base_uri": "https://localhost:8080/"
        },
        "outputId": "4f77a23d-b469-465e-ba98-3617bdd62a3c"
      },
      "source": [
        "! pip install genoml2\n",
        "! pip install tables --upgrade\n",
        "! pip install umap-learn\n",
        "! pip install folium "
      ],
      "execution_count": 15,
      "outputs": [
        {
          "output_type": "stream",
          "name": "stdout",
          "text": [
            "Looking in indexes: https://pypi.org/simple, https://us-python.pkg.dev/colab-wheels/public/simple/\n",
            "Requirement already satisfied: genoml2 in /usr/local/lib/python3.7/dist-packages (1.0.0b11)\n",
            "Requirement already satisfied: numpy in /usr/local/lib/python3.7/dist-packages (from genoml2) (1.21.6)\n",
            "Requirement already satisfied: joblib in /usr/local/lib/python3.7/dist-packages (from genoml2) (1.1.0)\n",
            "Requirement already satisfied: tables in /usr/local/lib/python3.7/dist-packages (from genoml2) (3.7.0)\n",
            "Requirement already satisfied: seaborn in /usr/local/lib/python3.7/dist-packages (from genoml2) (0.11.2)\n",
            "Requirement already satisfied: pandas in /usr/local/lib/python3.7/dist-packages (from genoml2) (1.3.5)\n",
            "Requirement already satisfied: xgboost in /usr/local/lib/python3.7/dist-packages (from genoml2) (0.90)\n",
            "Requirement already satisfied: scipy in /usr/local/lib/python3.7/dist-packages (from genoml2) (1.7.3)\n",
            "Requirement already satisfied: pandas-plink in /usr/local/lib/python3.7/dist-packages (from genoml2) (2.2.9)\n",
            "Requirement already satisfied: requests in /usr/local/lib/python3.7/dist-packages (from genoml2) (2.23.0)\n",
            "Requirement already satisfied: scikit-learn in /usr/local/lib/python3.7/dist-packages (from genoml2) (1.0.2)\n",
            "Requirement already satisfied: matplotlib in /usr/local/lib/python3.7/dist-packages (from genoml2) (3.2.2)\n",
            "Requirement already satisfied: statsmodels in /usr/local/lib/python3.7/dist-packages (from genoml2) (0.10.2)\n",
            "Requirement already satisfied: pyparsing!=2.0.4,!=2.1.2,!=2.1.6,>=2.0.1 in /usr/local/lib/python3.7/dist-packages (from matplotlib->genoml2) (3.0.9)\n",
            "Requirement already satisfied: python-dateutil>=2.1 in /usr/local/lib/python3.7/dist-packages (from matplotlib->genoml2) (2.8.2)\n",
            "Requirement already satisfied: kiwisolver>=1.0.1 in /usr/local/lib/python3.7/dist-packages (from matplotlib->genoml2) (1.4.4)\n",
            "Requirement already satisfied: cycler>=0.10 in /usr/local/lib/python3.7/dist-packages (from matplotlib->genoml2) (0.11.0)\n",
            "Requirement already satisfied: typing-extensions in /usr/local/lib/python3.7/dist-packages (from kiwisolver>=1.0.1->matplotlib->genoml2) (4.1.1)\n",
            "Requirement already satisfied: six>=1.5 in /usr/local/lib/python3.7/dist-packages (from python-dateutil>=2.1->matplotlib->genoml2) (1.15.0)\n",
            "Requirement already satisfied: pytz>=2017.3 in /usr/local/lib/python3.7/dist-packages (from pandas->genoml2) (2022.1)\n",
            "Requirement already satisfied: xarray>=0.18.2 in /usr/local/lib/python3.7/dist-packages (from pandas-plink->genoml2) (0.20.2)\n",
            "Requirement already satisfied: pytest>=5.2.2 in /usr/local/lib/python3.7/dist-packages (from pandas-plink->genoml2) (7.1.2)\n",
            "Requirement already satisfied: zstandard>=0.13.0 in /usr/local/lib/python3.7/dist-packages (from pandas-plink->genoml2) (0.18.0)\n",
            "Requirement already satisfied: tqdm>=4.36.1 in /usr/local/lib/python3.7/dist-packages (from pandas-plink->genoml2) (4.64.0)\n",
            "Requirement already satisfied: Deprecated>=1.2.6 in /usr/local/lib/python3.7/dist-packages (from pandas-plink->genoml2) (1.2.13)\n",
            "Requirement already satisfied: cffi>=1.14.3 in /usr/local/lib/python3.7/dist-packages (from pandas-plink->genoml2) (1.15.1)\n",
            "Requirement already satisfied: dask[array,dataframe]>=2.6.0 in /usr/local/lib/python3.7/dist-packages (from pandas-plink->genoml2) (2.12.0)\n",
            "Requirement already satisfied: pycparser in /usr/local/lib/python3.7/dist-packages (from cffi>=1.14.3->pandas-plink->genoml2) (2.21)\n",
            "Requirement already satisfied: toolz>=0.7.3 in /usr/local/lib/python3.7/dist-packages (from dask[array,dataframe]>=2.6.0->pandas-plink->genoml2) (0.12.0)\n",
            "Requirement already satisfied: fsspec>=0.6.0 in /usr/local/lib/python3.7/dist-packages (from dask[array,dataframe]>=2.6.0->pandas-plink->genoml2) (2022.7.0)\n",
            "Requirement already satisfied: partd>=0.3.10 in /usr/local/lib/python3.7/dist-packages (from dask[array,dataframe]>=2.6.0->pandas-plink->genoml2) (1.2.0)\n",
            "Requirement already satisfied: wrapt<2,>=1.10 in /usr/local/lib/python3.7/dist-packages (from Deprecated>=1.2.6->pandas-plink->genoml2) (1.14.1)\n",
            "Requirement already satisfied: locket in /usr/local/lib/python3.7/dist-packages (from partd>=0.3.10->dask[array,dataframe]>=2.6.0->pandas-plink->genoml2) (1.0.0)\n",
            "Requirement already satisfied: attrs>=19.2.0 in /usr/local/lib/python3.7/dist-packages (from pytest>=5.2.2->pandas-plink->genoml2) (21.4.0)\n",
            "Requirement already satisfied: py>=1.8.2 in /usr/local/lib/python3.7/dist-packages (from pytest>=5.2.2->pandas-plink->genoml2) (1.11.0)\n",
            "Requirement already satisfied: iniconfig in /usr/local/lib/python3.7/dist-packages (from pytest>=5.2.2->pandas-plink->genoml2) (1.1.1)\n",
            "Requirement already satisfied: importlib-metadata>=0.12 in /usr/local/lib/python3.7/dist-packages (from pytest>=5.2.2->pandas-plink->genoml2) (4.12.0)\n",
            "Requirement already satisfied: pluggy<2.0,>=0.12 in /usr/local/lib/python3.7/dist-packages (from pytest>=5.2.2->pandas-plink->genoml2) (1.0.0)\n",
            "Requirement already satisfied: tomli>=1.0.0 in /usr/local/lib/python3.7/dist-packages (from pytest>=5.2.2->pandas-plink->genoml2) (2.0.1)\n",
            "Requirement already satisfied: packaging in /usr/local/lib/python3.7/dist-packages (from pytest>=5.2.2->pandas-plink->genoml2) (21.3)\n",
            "Requirement already satisfied: zipp>=0.5 in /usr/local/lib/python3.7/dist-packages (from importlib-metadata>=0.12->pytest>=5.2.2->pandas-plink->genoml2) (3.8.1)\n",
            "Requirement already satisfied: urllib3!=1.25.0,!=1.25.1,<1.26,>=1.21.1 in /usr/local/lib/python3.7/dist-packages (from requests->genoml2) (1.24.3)\n",
            "Requirement already satisfied: idna<3,>=2.5 in /usr/local/lib/python3.7/dist-packages (from requests->genoml2) (2.10)\n",
            "Requirement already satisfied: chardet<4,>=3.0.2 in /usr/local/lib/python3.7/dist-packages (from requests->genoml2) (3.0.4)\n",
            "Requirement already satisfied: certifi>=2017.4.17 in /usr/local/lib/python3.7/dist-packages (from requests->genoml2) (2022.6.15)\n",
            "Requirement already satisfied: threadpoolctl>=2.0.0 in /usr/local/lib/python3.7/dist-packages (from scikit-learn->genoml2) (3.1.0)\n",
            "Requirement already satisfied: patsy>=0.4.0 in /usr/local/lib/python3.7/dist-packages (from statsmodels->genoml2) (0.5.2)\n",
            "Requirement already satisfied: numexpr>=2.6.2 in /usr/local/lib/python3.7/dist-packages (from tables->genoml2) (2.8.3)\n",
            "Looking in indexes: https://pypi.org/simple, https://us-python.pkg.dev/colab-wheels/public/simple/\n",
            "Requirement already satisfied: tables in /usr/local/lib/python3.7/dist-packages (3.7.0)\n",
            "Requirement already satisfied: packaging in /usr/local/lib/python3.7/dist-packages (from tables) (21.3)\n",
            "Requirement already satisfied: numexpr>=2.6.2 in /usr/local/lib/python3.7/dist-packages (from tables) (2.8.3)\n",
            "Requirement already satisfied: numpy>=1.19.0 in /usr/local/lib/python3.7/dist-packages (from tables) (1.21.6)\n",
            "Requirement already satisfied: pyparsing!=3.0.5,>=2.0.2 in /usr/local/lib/python3.7/dist-packages (from packaging->tables) (3.0.9)\n",
            "Looking in indexes: https://pypi.org/simple, https://us-python.pkg.dev/colab-wheels/public/simple/\n",
            "Requirement already satisfied: umap-learn in /usr/local/lib/python3.7/dist-packages (0.5.3)\n",
            "Requirement already satisfied: pynndescent>=0.5 in /usr/local/lib/python3.7/dist-packages (from umap-learn) (0.5.7)\n",
            "Requirement already satisfied: numpy>=1.17 in /usr/local/lib/python3.7/dist-packages (from umap-learn) (1.21.6)\n",
            "Requirement already satisfied: scikit-learn>=0.22 in /usr/local/lib/python3.7/dist-packages (from umap-learn) (1.0.2)\n",
            "Requirement already satisfied: tqdm in /usr/local/lib/python3.7/dist-packages (from umap-learn) (4.64.0)\n",
            "Requirement already satisfied: scipy>=1.0 in /usr/local/lib/python3.7/dist-packages (from umap-learn) (1.7.3)\n",
            "Requirement already satisfied: numba>=0.49 in /usr/local/lib/python3.7/dist-packages (from umap-learn) (0.51.2)\n",
            "Requirement already satisfied: setuptools in /usr/local/lib/python3.7/dist-packages (from numba>=0.49->umap-learn) (57.4.0)\n",
            "Requirement already satisfied: llvmlite<0.35,>=0.34.0.dev0 in /usr/local/lib/python3.7/dist-packages (from numba>=0.49->umap-learn) (0.34.0)\n",
            "Requirement already satisfied: joblib>=0.11 in /usr/local/lib/python3.7/dist-packages (from pynndescent>=0.5->umap-learn) (1.1.0)\n",
            "Requirement already satisfied: threadpoolctl>=2.0.0 in /usr/local/lib/python3.7/dist-packages (from scikit-learn>=0.22->umap-learn) (3.1.0)\n",
            "Looking in indexes: https://pypi.org/simple, https://us-python.pkg.dev/colab-wheels/public/simple/\n",
            "Requirement already satisfied: folium in /usr/local/lib/python3.7/dist-packages (0.8.3)\n",
            "Requirement already satisfied: branca>=0.3.0 in /usr/local/lib/python3.7/dist-packages (from folium) (0.5.0)\n",
            "Requirement already satisfied: jinja2 in /usr/local/lib/python3.7/dist-packages (from folium) (2.11.3)\n",
            "Requirement already satisfied: six in /usr/local/lib/python3.7/dist-packages (from folium) (1.15.0)\n",
            "Requirement already satisfied: requests in /usr/local/lib/python3.7/dist-packages (from folium) (2.23.0)\n",
            "Requirement already satisfied: numpy in /usr/local/lib/python3.7/dist-packages (from folium) (1.21.6)\n",
            "Requirement already satisfied: MarkupSafe>=0.23 in /usr/local/lib/python3.7/dist-packages (from jinja2->folium) (2.0.1)\n",
            "Requirement already satisfied: chardet<4,>=3.0.2 in /usr/local/lib/python3.7/dist-packages (from requests->folium) (3.0.4)\n",
            "Requirement already satisfied: idna<3,>=2.5 in /usr/local/lib/python3.7/dist-packages (from requests->folium) (2.10)\n",
            "Requirement already satisfied: urllib3!=1.25.0,!=1.25.1,<1.26,>=1.21.1 in /usr/local/lib/python3.7/dist-packages (from requests->folium) (1.24.3)\n",
            "Requirement already satisfied: certifi>=2017.4.17 in /usr/local/lib/python3.7/dist-packages (from requests->folium) (2022.6.15)\n"
          ]
        }
      ]
    },
    {
      "cell_type": "code",
      "source": [
        "import pandas as pd\n",
        "pf = pd.read_csv(\"./validation_pheno.csv\")\n",
        "\n",
        "pf"
      ],
      "metadata": {
        "colab": {
          "base_uri": "https://localhost:8080/",
          "height": 424
        },
        "id": "KcvesfjIUNKf",
        "outputId": "c18bd1b8-86b0-4f75-d71b-a707ac602c03"
      },
      "execution_count": 16,
      "outputs": [
        {
          "output_type": "execute_result",
          "data": {
            "text/plain": [
              "               ID  PHENO\n",
              "0     valdiation1      0\n",
              "1     valdiation2      1\n",
              "2     valdiation3      1\n",
              "3     valdiation4      1\n",
              "4     valdiation5      1\n",
              "..            ...    ...\n",
              "95   valdiation96      1\n",
              "96   valdiation97      1\n",
              "97   valdiation98      1\n",
              "98   valdiation99      1\n",
              "99  valdiation100      1\n",
              "\n",
              "[100 rows x 2 columns]"
            ],
            "text/html": [
              "\n",
              "  <div id=\"df-e4e6a97d-952e-46d4-8736-aa0212974e16\">\n",
              "    <div class=\"colab-df-container\">\n",
              "      <div>\n",
              "<style scoped>\n",
              "    .dataframe tbody tr th:only-of-type {\n",
              "        vertical-align: middle;\n",
              "    }\n",
              "\n",
              "    .dataframe tbody tr th {\n",
              "        vertical-align: top;\n",
              "    }\n",
              "\n",
              "    .dataframe thead th {\n",
              "        text-align: right;\n",
              "    }\n",
              "</style>\n",
              "<table border=\"1\" class=\"dataframe\">\n",
              "  <thead>\n",
              "    <tr style=\"text-align: right;\">\n",
              "      <th></th>\n",
              "      <th>ID</th>\n",
              "      <th>PHENO</th>\n",
              "    </tr>\n",
              "  </thead>\n",
              "  <tbody>\n",
              "    <tr>\n",
              "      <th>0</th>\n",
              "      <td>valdiation1</td>\n",
              "      <td>0</td>\n",
              "    </tr>\n",
              "    <tr>\n",
              "      <th>1</th>\n",
              "      <td>valdiation2</td>\n",
              "      <td>1</td>\n",
              "    </tr>\n",
              "    <tr>\n",
              "      <th>2</th>\n",
              "      <td>valdiation3</td>\n",
              "      <td>1</td>\n",
              "    </tr>\n",
              "    <tr>\n",
              "      <th>3</th>\n",
              "      <td>valdiation4</td>\n",
              "      <td>1</td>\n",
              "    </tr>\n",
              "    <tr>\n",
              "      <th>4</th>\n",
              "      <td>valdiation5</td>\n",
              "      <td>1</td>\n",
              "    </tr>\n",
              "    <tr>\n",
              "      <th>...</th>\n",
              "      <td>...</td>\n",
              "      <td>...</td>\n",
              "    </tr>\n",
              "    <tr>\n",
              "      <th>95</th>\n",
              "      <td>valdiation96</td>\n",
              "      <td>1</td>\n",
              "    </tr>\n",
              "    <tr>\n",
              "      <th>96</th>\n",
              "      <td>valdiation97</td>\n",
              "      <td>1</td>\n",
              "    </tr>\n",
              "    <tr>\n",
              "      <th>97</th>\n",
              "      <td>valdiation98</td>\n",
              "      <td>1</td>\n",
              "    </tr>\n",
              "    <tr>\n",
              "      <th>98</th>\n",
              "      <td>valdiation99</td>\n",
              "      <td>1</td>\n",
              "    </tr>\n",
              "    <tr>\n",
              "      <th>99</th>\n",
              "      <td>valdiation100</td>\n",
              "      <td>1</td>\n",
              "    </tr>\n",
              "  </tbody>\n",
              "</table>\n",
              "<p>100 rows × 2 columns</p>\n",
              "</div>\n",
              "      <button class=\"colab-df-convert\" onclick=\"convertToInteractive('df-e4e6a97d-952e-46d4-8736-aa0212974e16')\"\n",
              "              title=\"Convert this dataframe to an interactive table.\"\n",
              "              style=\"display:none;\">\n",
              "        \n",
              "  <svg xmlns=\"http://www.w3.org/2000/svg\" height=\"24px\"viewBox=\"0 0 24 24\"\n",
              "       width=\"24px\">\n",
              "    <path d=\"M0 0h24v24H0V0z\" fill=\"none\"/>\n",
              "    <path d=\"M18.56 5.44l.94 2.06.94-2.06 2.06-.94-2.06-.94-.94-2.06-.94 2.06-2.06.94zm-11 1L8.5 8.5l.94-2.06 2.06-.94-2.06-.94L8.5 2.5l-.94 2.06-2.06.94zm10 10l.94 2.06.94-2.06 2.06-.94-2.06-.94-.94-2.06-.94 2.06-2.06.94z\"/><path d=\"M17.41 7.96l-1.37-1.37c-.4-.4-.92-.59-1.43-.59-.52 0-1.04.2-1.43.59L10.3 9.45l-7.72 7.72c-.78.78-.78 2.05 0 2.83L4 21.41c.39.39.9.59 1.41.59.51 0 1.02-.2 1.41-.59l7.78-7.78 2.81-2.81c.8-.78.8-2.07 0-2.86zM5.41 20L4 18.59l7.72-7.72 1.47 1.35L5.41 20z\"/>\n",
              "  </svg>\n",
              "      </button>\n",
              "      \n",
              "  <style>\n",
              "    .colab-df-container {\n",
              "      display:flex;\n",
              "      flex-wrap:wrap;\n",
              "      gap: 12px;\n",
              "    }\n",
              "\n",
              "    .colab-df-convert {\n",
              "      background-color: #E8F0FE;\n",
              "      border: none;\n",
              "      border-radius: 50%;\n",
              "      cursor: pointer;\n",
              "      display: none;\n",
              "      fill: #1967D2;\n",
              "      height: 32px;\n",
              "      padding: 0 0 0 0;\n",
              "      width: 32px;\n",
              "    }\n",
              "\n",
              "    .colab-df-convert:hover {\n",
              "      background-color: #E2EBFA;\n",
              "      box-shadow: 0px 1px 2px rgba(60, 64, 67, 0.3), 0px 1px 3px 1px rgba(60, 64, 67, 0.15);\n",
              "      fill: #174EA6;\n",
              "    }\n",
              "\n",
              "    [theme=dark] .colab-df-convert {\n",
              "      background-color: #3B4455;\n",
              "      fill: #D2E3FC;\n",
              "    }\n",
              "\n",
              "    [theme=dark] .colab-df-convert:hover {\n",
              "      background-color: #434B5C;\n",
              "      box-shadow: 0px 1px 3px 1px rgba(0, 0, 0, 0.15);\n",
              "      filter: drop-shadow(0px 1px 2px rgba(0, 0, 0, 0.3));\n",
              "      fill: #FFFFFF;\n",
              "    }\n",
              "  </style>\n",
              "\n",
              "      <script>\n",
              "        const buttonEl =\n",
              "          document.querySelector('#df-e4e6a97d-952e-46d4-8736-aa0212974e16 button.colab-df-convert');\n",
              "        buttonEl.style.display =\n",
              "          google.colab.kernel.accessAllowed ? 'block' : 'none';\n",
              "\n",
              "        async function convertToInteractive(key) {\n",
              "          const element = document.querySelector('#df-e4e6a97d-952e-46d4-8736-aa0212974e16');\n",
              "          const dataTable =\n",
              "            await google.colab.kernel.invokeFunction('convertToInteractive',\n",
              "                                                     [key], {});\n",
              "          if (!dataTable) return;\n",
              "\n",
              "          const docLinkHtml = 'Like what you see? Visit the ' +\n",
              "            '<a target=\"_blank\" href=https://colab.research.google.com/notebooks/data_table.ipynb>data table notebook</a>'\n",
              "            + ' to learn more about interactive tables.';\n",
              "          element.innerHTML = '';\n",
              "          dataTable['output_type'] = 'display_data';\n",
              "          await google.colab.output.renderOutput(dataTable, element);\n",
              "          const docLink = document.createElement('div');\n",
              "          docLink.innerHTML = docLinkHtml;\n",
              "          element.appendChild(docLink);\n",
              "        }\n",
              "      </script>\n",
              "    </div>\n",
              "  </div>\n",
              "  "
            ]
          },
          "metadata": {},
          "execution_count": 16
        }
      ]
    },
    {
      "cell_type": "code",
      "metadata": {
        "id": "eASrIwvFbzju",
        "colab": {
          "base_uri": "https://localhost:8080/"
        },
        "outputId": "3f18af4d-b785-4909-f419-c3155dcdbf1b"
      },
      "source": [
        "# Munging\n",
        "\n",
        "%%bash\n",
        "genoml discrete supervised munge \\\n",
        "--prefix outputs/test_discrete_geno \\\n",
        "--geno ./validation \\\n",
        "--pheno ./validation_pheno.csv \\"
      ],
      "execution_count": 17,
      "outputs": [
        {
          "output_type": "stream",
          "name": "stdout",
          "text": [
            "\n",
            "\u001b[34m---> \u001b[0m\u001b[34mRunning genoml discrete supervised munge\u001b[0m\n",
            "\n",
            "\u001b[34m---> ---> \u001b[0m\u001b[34mDependency Check\u001b[0m\n",
            "\n",
            "\u001b[34m---> ---> ---> \u001b[0m\u001b[34mChecking plink\u001b[0m\n",
            "\u001b[32m---> ---> \u001b[0m\u001b[32mDependency Check\u001b[0m: \u001b[32m[Done]\u001b[0m\n",
            "\n",
            "\u001b[34m---> ---> \u001b[0m\u001b[34mDependency Check\u001b[0m\n",
            "\n",
            "\u001b[34m---> ---> ---> \u001b[0m\u001b[34mChecking plink\u001b[0m\n",
            "\u001b[32m---> ---> \u001b[0m\u001b[32mDependency Check\u001b[0m: \u001b[32m[Done]\u001b[0m\n",
            "\n",
            "Here is some basic info on the command you are about to run.\n",
            "Python version info...\n",
            "3.7.13 (default, Apr 24 2022, 01:04:09) \n",
            "[GCC 7.5.0]\n",
            "CLI argument info...\n",
            "The output prefix for this run is outputs/test_discrete_geno and will be appended to later runs of GenoML.\n",
            "Working with genotype data? ./validation\n",
            "Do you want GenoML to prune your SNPs for you? no\n",
            "The pruning threshold you've chosen is 0.5\n",
            "Working with additional predictors? None\n",
            "Where is your phenotype file? ./validation_pheno.csv\n",
            "Any use for an external set of GWAS summary stats? None\n",
            "If you plan on using external GWAS summary stats for SNP filtering, we'll only keep SNPs at what P value? 0.001\n",
            "How strong is your VIF filter? 0\n",
            "How many iterations of VIF filtering are you doing? 0\n",
            "The imputation method you picked is using the column median to fill in any remaining NAs.\n",
            "Will you be adjusting additional features using UMAP dimensionality reduction? no\n",
            "Give credit where credit is due, for this stage of analysis we use code from the great contributors to python packages: os, sys, argparse, numpy, pandas, joblib, math and time. We also use PLINK v1.9 from https://www.cog-genomics.org/plink/1.9/.\n",
            "\n",
            "No additional features as predictors? No problem, we'll stick to genotypes.\n",
            "So you don't want to filter on P values from external GWAS? No worries, we don't usually either (if the dataset is large enough).\n",
            "Exporting genotype data\n",
            "\u001b[31m---> \u001b[0mRunning genoml discrete supervised munge: \u001b[31m[Failed]\u001b[0m\n",
            "\n"
          ]
        },
        {
          "output_type": "stream",
          "name": "stderr",
          "text": [
            "/usr/local/lib/python3.7/dist-packages/statsmodels/tools/_testing.py:19: FutureWarning: pandas.util.testing is deprecated. Use the functions in the public API at pandas.testing instead.\n",
            "  import pandas.util.testing as tm\n",
            "Traceback (most recent call last):\n",
            "  File \"/usr/local/lib/python3.7/dist-packages/genoml/__main__.py\", line 393, in handle_endpoints\n",
            "    endpoint(*args)\n",
            "  File \"/usr/local/lib/python3.7/dist-packages/genoml/cli/munging.py\", line 75, in main\n",
            "    df = munger.plink_inputs()\n",
            "  File \"/usr/local/lib/python3.7/dist-packages/genoml/preprocessing/munging.py\", line 86, in plink_inputs\n",
            "    pheno_df.to_hdf(outfile_h5, key='pheno', mode='w')\n",
            "  File \"/usr/local/lib/python3.7/dist-packages/pandas/core/generic.py\", line 2718, in to_hdf\n",
            "    encoding=encoding,\n",
            "  File \"/usr/local/lib/python3.7/dist-packages/pandas/io/pytables.py\", line 312, in to_hdf\n",
            "    path_or_buf, mode=mode, complevel=complevel, complib=complib\n",
            "  File \"/usr/local/lib/python3.7/dist-packages/pandas/io/pytables.py\", line 591, in __init__\n",
            "    self.open(mode=mode, **kwargs)\n",
            "  File \"/usr/local/lib/python3.7/dist-packages/pandas/io/pytables.py\", line 740, in open\n",
            "    self._handle = tables.open_file(self._path, self._mode, **kwargs)\n",
            "  File \"/usr/local/lib/python3.7/dist-packages/tables/file.py\", line 300, in open_file\n",
            "    return File(filename, mode, title, root_uep, filters, **kwargs)\n",
            "  File \"/usr/local/lib/python3.7/dist-packages/tables/file.py\", line 750, in __init__\n",
            "    self._g_new(filename, mode, **params)\n",
            "  File \"tables/hdf5extension.pyx\", line 368, in tables.hdf5extension.File._g_new\n",
            "  File \"/usr/local/lib/python3.7/dist-packages/tables/utils.py\", line 157, in check_file_access\n",
            "    raise OSError(f\"``{path.parent}`` does not exist\")\n",
            "OSError: ``/content/drive/.shortcut-targets-by-id/1F5fTcawP0iL01MT0TFU3ROZUPkYB31Pu/example_data/discrete/outputs`` does not exist\n"
          ]
        }
      ]
    },
    {
      "cell_type": "code",
      "metadata": {
        "id": "IJJZg94FeHBA"
      },
      "source": [
        "# Training - running into some errors throughout this notebook\n",
        "%%bash\n",
        "genoml discrete supervised train \\\n",
        "--prefix outputs/test_discrete_geno"
      ],
      "execution_count": null,
      "outputs": []
    },
    {
      "cell_type": "code",
      "metadata": {
        "id": "-tX3tmYVeLR0"
      },
      "source": [
        "# Tuning\n",
        "%%bash\n",
        "genoml discrete supervised tune \\\n",
        "--prefix outputs/test_discrete_geno"
      ],
      "execution_count": null,
      "outputs": []
    },
    {
      "cell_type": "markdown",
      "source": [
        "# New Section"
      ],
      "metadata": {
        "id": "XvR72L49g5d-"
      }
    },
    {
      "cell_type": "code",
      "source": [
        "# Harmonize\n",
        "%%bash\n",
        "genoml harmonize \\\n",
        "--test_geno_prefix ./discrete/validation \\\n",
        "--test_prefix outputs/validation_test_discrete_geno \\\n",
        "--ref_model_prefix outputs/test_discrete_geno \\\n",
        "--training_snps_alleles outputs/test_discrete_geno.variants_and_alleles.tab"
      ],
      "metadata": {
        "id": "dwoQa-1LzhzL"
      },
      "execution_count": null,
      "outputs": []
    },
    {
      "cell_type": "code",
      "source": [
        "#Munge Harmonized Dataset\n",
        "%%bash\n",
        "genoml discrete supervised munge \\\n",
        "--prefix outputs/validation_test_discrete_geno \\\n",
        "--geno outputs/validation_test_discrete_geno.refSNPs_andAlleles \\\n",
        "--pheno ./discrete/validation_pheno.csv \\\n",
        "--addit ./discrete/validation_addit.csv \\\n",
        "--ref_cols_harmonize outputs/validation_test_discrete_geno.refColsHarmonize_toKeep.txt"
      ],
      "metadata": {
        "id": "hKGfhpyz09yH"
      },
      "execution_count": null,
      "outputs": []
    },
    {
      "cell_type": "code",
      "source": [
        "# Retrain\n",
        "%%bash\n",
        "genoml discrete supervised train \\\n",
        "--prefix outputs/test_discrete_geno \\\n",
        "--matching_columns outputs/validation_test_discrete_geno.finalHarmonizedCols_toKeep.txt"
      ],
      "metadata": {
        "id": "ht9J3uq62XNS"
      },
      "execution_count": null,
      "outputs": []
    },
    {
      "cell_type": "code",
      "source": [
        "# Test\n",
        "%%bash\n",
        "genoml discrete supervised test \\\n",
        "--prefix outputs/validation_test_discrete_geno \\\n",
        "--test_prefix outputs/validation_test_discrete_geno \\\n",
        "--ref_model_prefix outputs/test_discrete_geno.trainedModel"
      ],
      "metadata": {
        "id": "uq7frU7e2tsW"
      },
      "execution_count": null,
      "outputs": []
    }
  ]
}