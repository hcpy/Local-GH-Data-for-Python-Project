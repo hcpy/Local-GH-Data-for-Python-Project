{
  "nbformat": 4,
  "nbformat_minor": 0,
  "metadata": {
    "colab": {
      "name": "Copy of Hyun_unit_1_notebook_1 linux [Team Python].ipynb",
      "provenance": [],
      "collapsed_sections": [
        "2aYrQJ3sqeyY",
        "Z1Ma26-wrLhL",
        "HK1bZqF5sBSC",
        "5nUnT7QHsox6",
        "NT_iFkB-MWan",
        "m3N5THK1MXFG",
        "ffYKCCsiMXbc"
      ],
      "include_colab_link": true
    },
    "kernelspec": {
      "name": "python3",
      "display_name": "Python 3"
    }
  },
  "cells": [
    {
      "cell_type": "markdown",
      "metadata": {
        "id": "view-in-github",
        "colab_type": "text"
      },
      "source": [
        "<a href=\"https://colab.research.google.com/github/hcpy/Local-GH-Data-for-Python-Project/blob/main/Copy_of_Hyun_unit_1_notebook_1_linux_%5BTeam_Python%5D.ipynb\" target=\"_parent\"><img src=\"https://colab.research.google.com/assets/colab-badge.svg\" alt=\"Open In Colab\"/></a>"
      ]
    },
    {
      "cell_type": "markdown",
      "metadata": {
        "id": "lwuTCUVlJeY6"
      },
      "source": [
        "# Unit 1 - Instructional DEMO 1: Basic linux commands in a python environment\n",
        " - **Focus:** Basic linux commands, a bash script and some basic python syntax examples. \n",
        " - **Author(s):** Sara B-C.\n",
        " - **Date Notebook Last Modified:** 08.09.2020\n",
        " - **Quick Description:** Use this notebook for your first adventure in programming. In the beginning, just hit play at each cell and watch things work. Once you are done, you can download the finished results. \n",
        "\n",
        "---\n",
        "## Code outline\n",
        "  0. Set up file stream.\n",
        "  1. \"Hello world, welcome to linux\".\n",
        "  2. Move, copy and delete files.   \n",
        "  3. Check out the first few lines and the last few lines of a file. \n",
        "  4. \"I'd like to see a specific column of the file\".\n",
        "  5. Can we smash two files together and count some lines?\n",
        "  6. Filtering rows with `grep`.\n",
        "  7. Sort it out.\n",
        "\n",
        "---\n",
        "## Additional notes\n",
        "*   In notebooks, basic linux commands begin with a '! '.\n",
        "*   The only thing that is really tricky so far will be starting google file stream to access other files on your drive."
      ]
    },
    {
      "cell_type": "markdown",
      "metadata": {
        "id": "XuUnubnFH9xZ"
      },
      "source": [
        "## 0. Lets set up filestream access\n",
        "Follow the directions on screen as you run the code cell below and then you can access the data stored on your 'My Drive'. For many of you, this is the first python code you will ever execute knowingly, as most google infrastructure is python based (another reason why the language is growing)!"
      ]
    },
    {
      "cell_type": "code",
      "metadata": {
        "id": "D2qRSmw3GUNA",
        "colab": {
          "base_uri": "https://localhost:8080/"
        },
        "outputId": "d9f18073-1c32-44a4-dff0-8e0df22fbcbe"
      },
      "source": [
        "import os\n",
        "from google.colab import drive\n",
        "drive.mount('/content/drive/')\n",
        "os.chdir(\"/content/drive/MyDrive/Python course backup/example_data\")"
      ],
      "execution_count": 5,
      "outputs": [
        {
          "output_type": "stream",
          "name": "stdout",
          "text": [
            "Drive already mounted at /content/drive/; to attempt to forcibly remount, call drive.mount(\"/content/drive/\", force_remount=True).\n"
          ]
        }
      ]
    },
    {
      "cell_type": "markdown",
      "metadata": {
        "id": "mITVzECaO2j6"
      },
      "source": [
        "Above you should now see the output \"Mounted at /content/drive/\". This means your storage is now connected to your notebook and its runtime. We'll cover what the above code means once you have learned some more python."
      ]
    },
    {
      "cell_type": "code",
      "source": [
        "from google.colab import drive\n",
        "drive.mount('/content/drive')"
      ],
      "metadata": {
        "colab": {
          "base_uri": "https://localhost:8080/"
        },
        "id": "lKpKjMWjpf_s",
        "outputId": "19a952c4-c7b3-4dbf-cb4d-dc6123a2f73d"
      },
      "execution_count": 6,
      "outputs": [
        {
          "output_type": "stream",
          "name": "stdout",
          "text": [
            "Drive already mounted at /content/drive; to attempt to forcibly remount, call drive.mount(\"/content/drive\", force_remount=True).\n"
          ]
        }
      ]
    },
    {
      "cell_type": "markdown",
      "metadata": {
        "id": "K9dJkfNVPHs1"
      },
      "source": [
        "## Exploring directories\n",
        "\n",
        "Here we'll explore some directories you have just mounted.  \n",
        "\n",
        "Remember, all linux shell code needs a `! ` prefix to run in notebooks.  Also remember that a `#` at the beginning of a line of code denotes a comment.\n",
        "\n",
        "`pwd` tells you the directory you are currently working in.  \n",
        "\n",
        "`ls` lets you know what files exist, **lets play around with that for a second**."
      ]
    },
    {
      "cell_type": "code",
      "metadata": {
        "id": "eypHyScrO24J",
        "colab": {
          "base_uri": "https://localhost:8080/"
        },
        "outputId": "a360a16b-51e8-4efa-ebae-16840aefb200"
      },
      "source": [
        "# What directory are you in?\n",
        "! pwd\n",
        "\n",
        "# What files are there?\n",
        "! ls\n",
        "\n",
        "# Check out some of the example data and see a list of how big it is, its permissions, who made it and when it was last modified. Also note the \\ preceding the space.\n",
        "! ls -lsth /content/MyDrive/FAES_BIOF309/example_data/discrete"
      ],
      "execution_count": 2,
      "outputs": [
        {
          "output_type": "stream",
          "name": "stdout",
          "text": [
            "/content\n",
            "drive  sample_data\n",
            "ls: cannot access '/content/MyDrive/FAES_BIOF309/example_data/discrete': No such file or directory\n"
          ]
        }
      ]
    },
    {
      "cell_type": "markdown",
      "metadata": {
        "id": "GD8TX9ZoUxd5"
      },
      "source": [
        "## 1. \"Hello world!\" the first time you and your computer chat.\n",
        "We'll make a simple print to screen command using `echo`. Note, you'll see your first error below!"
      ]
    },
    {
      "cell_type": "code",
      "metadata": {
        "id": "RHliNCrvVAkc",
        "colab": {
          "base_uri": "https://localhost:8080/",
          "height": 133
        },
        "outputId": "b467d4a4-6cfc-43d6-d491-1edc67aa8fa2"
      },
      "source": [
        "# If you just type `Hello world` the computer will think you are trying to run a command called `Hello` that has the `world!` option specificed.\n",
        "Hello world!"
      ],
      "execution_count": null,
      "outputs": [
        {
          "output_type": "error",
          "ename": "SyntaxError",
          "evalue": "ignored",
          "traceback": [
            "\u001b[0;36m  File \u001b[0;32m\"<ipython-input-7-6f2f02e8e608>\"\u001b[0;36m, line \u001b[0;32m2\u001b[0m\n\u001b[0;31m    Hello world!\u001b[0m\n\u001b[0m              ^\u001b[0m\n\u001b[0;31mSyntaxError\u001b[0m\u001b[0;31m:\u001b[0m invalid syntax\n"
          ]
        }
      ]
    },
    {
      "cell_type": "code",
      "metadata": {
        "id": "6GPSrjHIVSpu",
        "colab": {
          "base_uri": "https://localhost:8080/"
        },
        "outputId": "d176da37-4903-4065-d556-206b3d4e45e4"
      },
      "source": [
        "# Let's do this right and print it to the screen.\n",
        "! echo \"Hello world!\""
      ],
      "execution_count": null,
      "outputs": [
        {
          "output_type": "stream",
          "name": "stdout",
          "text": [
            "Hello world!\n"
          ]
        }
      ]
    },
    {
      "cell_type": "markdown",
      "metadata": {
        "id": "cIO-6lW3aMhn"
      },
      "source": [
        "## 2. Copy, move, rename and delete files.\n",
        "Lets talk about some file management. We'll also play with directory structures."
      ]
    },
    {
      "cell_type": "markdown",
      "metadata": {
        "id": "toxNFX4nfNMY"
      },
      "source": [
        "Lets make directory to play with using `mkdir`."
      ]
    },
    {
      "cell_type": "code",
      "metadata": {
        "id": "jnT8f_uefYCK",
        "colab": {
          "base_uri": "https://localhost:8080/"
        },
        "outputId": "15a47633-df60-4213-920d-1dd2bb6dd8a1"
      },
      "source": [
        "! mkdir /content/drive/My\\ Drive/FAES_BIOF309/temp/"
      ],
      "execution_count": 3,
      "outputs": [
        {
          "output_type": "stream",
          "name": "stdout",
          "text": [
            "mkdir: cannot create directory ‘/content/drive/My Drive/FAES_BIOF309/temp/’: No such file or directory\n"
          ]
        }
      ]
    },
    {
      "cell_type": "markdown",
      "metadata": {
        "id": "KhV66J5rhMal"
      },
      "source": [
        "Lets go to the `temp` folder"
      ]
    },
    {
      "cell_type": "code",
      "metadata": {
        "id": "bIWdSUhShIeg"
      },
      "source": [
        "! cd temp"
      ],
      "execution_count": null,
      "outputs": []
    },
    {
      "cell_type": "markdown",
      "metadata": {
        "id": "qIykUdjQhuTT"
      },
      "source": [
        "Lets leave the directory"
      ]
    },
    {
      "cell_type": "code",
      "metadata": {
        "id": "ZZ-wpEVYhs2j"
      },
      "source": [
        "! cd .."
      ],
      "execution_count": null,
      "outputs": []
    },
    {
      "cell_type": "markdown",
      "metadata": {
        "id": "kpO-MmYwgOGL"
      },
      "source": [
        "Make a copy in the new directory with `cp`."
      ]
    },
    {
      "cell_type": "code",
      "metadata": {
        "id": "taUOnaYZdLEu"
      },
      "source": [
        "! cp /content/drive/My\\ Drive/FAES_BIOF309/example_data/discrete/example_GWAS.csv /content/drive/My\\ Drive/FAES_BIOF309/temp/"
      ],
      "execution_count": null,
      "outputs": []
    },
    {
      "cell_type": "markdown",
      "metadata": {
        "id": "h4vtlEpGgT2D"
      },
      "source": [
        "Rename the file using `mv`, also note that you can move files using mv... just leave off the file name for the last half of the options. The second line of code conforms the name is now 'GWAS.csv'."
      ]
    },
    {
      "cell_type": "code",
      "metadata": {
        "id": "ofxWjyAxgNqy",
        "colab": {
          "base_uri": "https://localhost:8080/"
        },
        "outputId": "5f487714-9480-4ab4-d3df-ad16827851eb"
      },
      "source": [
        "! mv /content/drive/My\\ Drive/FAES_BIOF309/temp/example_GWAS.csv /content/drive/My\\ Drive/FAES_BIOF309/temp/GWAS.csv \n",
        "! ls /content/drive/My\\ Drive/FAES_BIOF309/temp/"
      ],
      "execution_count": null,
      "outputs": [
        {
          "output_type": "stream",
          "name": "stdout",
          "text": [
            "GWAS.csv  TrimmedDataSet.csv.gsheet\n"
          ]
        }
      ]
    },
    {
      "cell_type": "markdown",
      "metadata": {
        "id": "r3xtk1cWhkNh"
      },
      "source": [
        "Wait, I don't like that file that we just renamed, lets delete it with `rm`! Then check if it is there again with `ls`."
      ]
    },
    {
      "cell_type": "code",
      "metadata": {
        "id": "Lgwxf24Chq-L",
        "colab": {
          "base_uri": "https://localhost:8080/"
        },
        "outputId": "cdb6f990-146a-45c7-c4c5-932c1e3b4d95"
      },
      "source": [
        "! rm /content/drive/My\\ Drive/FAES_BIOF309/temp/GWAS.csv \n",
        "! ls /content/drive/My\\ Drive/FAES_BIOF309/temp/"
      ],
      "execution_count": null,
      "outputs": [
        {
          "output_type": "stream",
          "name": "stdout",
          "text": [
            "TrimmedDataSet.csv.gsheet\n"
          ]
        }
      ]
    },
    {
      "cell_type": "markdown",
      "metadata": {
        "id": "00rRPf9qh4Wm"
      },
      "source": [
        "Okay, lets get rid of the entire directory using `rm -r`. THIS IS THE MOST DANGEROUS COMMAND!"
      ]
    },
    {
      "cell_type": "code",
      "metadata": {
        "id": "n2wuUHNMiBTg"
      },
      "source": [
        "  ! rm -r /content/drive/My\\ Drive/FAES_BIOF309/"
      ],
      "execution_count": null,
      "outputs": []
    },
    {
      "cell_type": "markdown",
      "metadata": {
        "id": "m1oPBncgiIBJ"
      },
      "source": [
        "Is the directory still there? If everything worked, the `ls` below should be empty."
      ]
    },
    {
      "cell_type": "code",
      "metadata": {
        "id": "LSla9e1viPho",
        "colab": {
          "base_uri": "https://localhost:8080/"
        },
        "outputId": "e935cb30-d9d6-48a6-9406-39ca844df85a"
      },
      "source": [
        "! ls /content/drive/My\\ Drive/FAES_BIOF309/"
      ],
      "execution_count": null,
      "outputs": [
        {
          "output_type": "stream",
          "name": "stdout",
          "text": [
            "shell-init: error retrieving current directory: getcwd: cannot access parent directories: No such file or directory\n",
            "ls: cannot access '/content/drive/My Drive/FAES_BIOF309/': No such file or directory\n"
          ]
        }
      ]
    },
    {
      "cell_type": "markdown",
      "metadata": {
        "id": "OGvuB-s1IL-P"
      },
      "source": [
        "What if we just want to list files with a certain extension like `*.bim`?"
      ]
    },
    {
      "cell_type": "code",
      "metadata": {
        "id": "7narwx2_IR9v",
        "colab": {
          "base_uri": "https://localhost:8080/"
        },
        "outputId": "04bb82c0-46e0-4c49-8955-860e58153643"
      },
      "source": [
        "! ls /content/drive/My\\ Drive/FAES_BIOF309/example_data/discrete/*.bim"
      ],
      "execution_count": null,
      "outputs": [
        {
          "output_type": "stream",
          "name": "stdout",
          "text": [
            "shell-init: error retrieving current directory: getcwd: cannot access parent directories: No such file or directory\n",
            "ls: cannot access '/content/drive/My Drive/FAES_BIOF309/example_data/discrete/*.bim': No such file or directory\n"
          ]
        }
      ]
    },
    {
      "cell_type": "markdown",
      "metadata": {
        "id": "POhPV15zi9ZO"
      },
      "source": [
        "## 3. Check out the first few lines and the last few lines of a file.\n",
        "This is probably one of the most common things you will do before more detailed data explorations. Easy way to see what is in a huge file without opening it... or to see what is at the end!"
      ]
    },
    {
      "cell_type": "markdown",
      "metadata": {
        "id": "GT1XNFArjM1q"
      },
      "source": [
        "Lets look at the top of the GWAS file from earlier using `head`. This command does the top few lines. It's partner `tail` does the last few lines."
      ]
    },
    {
      "cell_type": "code",
      "metadata": {
        "id": "S87iYItTjMeS",
        "colab": {
          "base_uri": "https://localhost:8080/"
        },
        "outputId": "9491aa58-9aa9-4d3d-c899-1d78cf21b6e8"
      },
      "source": [
        "! head /content/drive/My\\ Drive/FAES_BIOF309/example_data/discrete/example_GWAS.csv"
      ],
      "execution_count": null,
      "outputs": [
        {
          "output_type": "stream",
          "name": "stdout",
          "text": [
            "shell-init: error retrieving current directory: getcwd: cannot access parent directories: No such file or directory\n",
            "head: cannot open '/content/drive/My Drive/FAES_BIOF309/example_data/discrete/example_GWAS.csv' for reading: No such file or directory\n"
          ]
        }
      ]
    },
    {
      "cell_type": "markdown",
      "metadata": {
        "id": "FeYYqqcEj9Eu"
      },
      "source": [
        "Cool, a tab delimited file with a header, the first column is called \"SNP\"."
      ]
    },
    {
      "cell_type": "code",
      "metadata": {
        "id": "7gAigzrekD62",
        "colab": {
          "base_uri": "https://localhost:8080/"
        },
        "outputId": "f4a5b7d4-ec91-4595-af67-5ece0ec44484"
      },
      "source": [
        "! tail /content/drive/My\\ Drive/FAES_BIOF309/example_data/discrete/example_GWAS.csv"
      ],
      "execution_count": null,
      "outputs": [
        {
          "output_type": "stream",
          "name": "stdout",
          "text": [
            "shell-init: error retrieving current directory: getcwd: cannot access parent directories: No such file or directory\n",
            "tail: cannot open '/content/drive/My Drive/FAES_BIOF309/example_data/discrete/example_GWAS.csv' for reading: No such file or directory\n"
          ]
        }
      ]
    },
    {
      "cell_type": "markdown",
      "metadata": {
        "id": "JCZ1RMiWkW_3"
      },
      "source": [
        "## 4. \"I'd like to see a specific column of the file\".\n",
        "Linux shell has some great tools for working with delimited text files, particularly tabular data in columns."
      ]
    },
    {
      "cell_type": "markdown",
      "metadata": {
        "id": "pYCwHGkRkk-B"
      },
      "source": [
        "Lets make a file that is only the first column of the GWAS file. `-f` means column 1 in a file delimited `-d` by a comma. Then we check the top few lines of the file to confirm it worked. This can also be done with the more complicated `awk` command, which is almost a language itself for text and tabular data manipulation."
      ]
    },
    {
      "cell_type": "code",
      "metadata": {
        "id": "mwGA2Gbekj-D",
        "colab": {
          "base_uri": "https://localhost:8080/"
        },
        "outputId": "69e548c1-c865-46c1-cd34-2369ed834cbb"
      },
      "source": [
        "! cut -f 1 -d ',' /content/drive/My\\ Drive/FAES_BIOF309/example_data/discrete/example_GWAS.csv > column1_cut.txt\n",
        "! head column1_cut.txt"
      ],
      "execution_count": null,
      "outputs": [
        {
          "output_type": "stream",
          "name": "stdout",
          "text": [
            "shell-init: error retrieving current directory: getcwd: cannot access parent directories: No such file or directory\n",
            "/bin/bash: column1_cut.txt: No such file or directory\n",
            "shell-init: error retrieving current directory: getcwd: cannot access parent directories: No such file or directory\n",
            "head: cannot open 'column1_cut.txt' for reading: No such file or directory\n"
          ]
        }
      ]
    },
    {
      "cell_type": "markdown",
      "metadata": {
        "id": "eXP5dXZ3lrp9"
      },
      "source": [
        "Now why not use the mighty stream editor `sed` to change all occurances of the prefix \"snp\" to \"snipped\". Then lets use `head` to see how it worked."
      ]
    },
    {
      "cell_type": "code",
      "metadata": {
        "id": "0HsBCcfSmS88",
        "colab": {
          "base_uri": "https://localhost:8080/"
        },
        "outputId": "dd41171c-7e57-4984-9491-894758ce6262"
      },
      "source": [
        "! sed 's/snp/snipped/g' column1_cut.txt > column1_sed.txt\n",
        "! head column1_sed.txt"
      ],
      "execution_count": null,
      "outputs": [
        {
          "output_type": "stream",
          "name": "stdout",
          "text": [
            "shell-init: error retrieving current directory: getcwd: cannot access parent directories: No such file or directory\n",
            "/bin/bash: column1_sed.txt: No such file or directory\n",
            "shell-init: error retrieving current directory: getcwd: cannot access parent directories: No such file or directory\n",
            "head: cannot open 'column1_sed.txt' for reading: No such file or directory\n"
          ]
        }
      ]
    },
    {
      "cell_type": "markdown",
      "metadata": {
        "id": "JUpCFx0EIzqc"
      },
      "source": [
        "This can also be done with `awk`, a command which is almost a programming language in and of itself. Using the code below we can print the first and last columns of the GWAS file and convert the commas to spaces. "
      ]
    },
    {
      "cell_type": "code",
      "metadata": {
        "id": "AQsHFer_I8RV",
        "colab": {
          "base_uri": "https://localhost:8080/"
        },
        "outputId": "4a656304-6cb4-418d-8022-af3944a55246"
      },
      "source": [
        "! awk -F ',' '{print $1\" \"$7}' /content/drive/My\\ Drive/FAES_BIOF309/example_data/discrete/example_GWAS.csv"
      ],
      "execution_count": null,
      "outputs": [
        {
          "output_type": "stream",
          "name": "stdout",
          "text": [
            "shell-init: error retrieving current directory: getcwd: cannot access parent directories: No such file or directory\n",
            "awk: cannot open /content/drive/My Drive/FAES_BIOF309/example_data/discrete/example_GWAS.csv (No such file or directory)\n"
          ]
        }
      ]
    },
    {
      "cell_type": "markdown",
      "metadata": {
        "id": "dk_AdyrqnhO8"
      },
      "source": [
        "##   5. Can we smash two files together and count some lines?\n",
        "Remember we can smash files together horizontally and vertically."
      ]
    },
    {
      "cell_type": "markdown",
      "metadata": {
        "id": "W51XmCLRnpAm"
      },
      "source": [
        "We can `cat` to merge vertically."
      ]
    },
    {
      "cell_type": "code",
      "metadata": {
        "id": "LDXWIAylnvJz",
        "colab": {
          "base_uri": "https://localhost:8080/"
        },
        "outputId": "d1b134ed-f38b-4c3d-c2cd-c3ddce4214a4"
      },
      "source": [
        "! cat column1_cut.txt column1_sed.txt > column1_cat.txt"
      ],
      "execution_count": null,
      "outputs": [
        {
          "output_type": "stream",
          "name": "stdout",
          "text": [
            "shell-init: error retrieving current directory: getcwd: cannot access parent directories: No such file or directory\n",
            "/bin/bash: column1_cat.txt: No such file or directory\n"
          ]
        }
      ]
    },
    {
      "cell_type": "markdown",
      "metadata": {
        "id": "DmmQT7gWoDdK"
      },
      "source": [
        "Check the `head` and `tail` to confirm success."
      ]
    },
    {
      "cell_type": "code",
      "metadata": {
        "id": "1wUl4kpNoJqJ",
        "colab": {
          "base_uri": "https://localhost:8080/"
        },
        "outputId": "6da66cad-ff4b-4603-9089-2a07b8c6013b"
      },
      "source": [
        "! head column1_cat.txt\n",
        "! tail column1_cat.txt"
      ],
      "execution_count": null,
      "outputs": [
        {
          "output_type": "stream",
          "name": "stdout",
          "text": [
            "shell-init: error retrieving current directory: getcwd: cannot access parent directories: No such file or directory\n",
            "head: cannot open 'column1_cat.txt' for reading: No such file or directory\n",
            "shell-init: error retrieving current directory: getcwd: cannot access parent directories: No such file or directory\n",
            "tail: cannot open 'column1_cat.txt' for reading: No such file or directory\n"
          ]
        }
      ]
    },
    {
      "cell_type": "markdown",
      "metadata": {
        "id": "bXjLzOMjof1N"
      },
      "source": [
        "To merge files easily along the vertical axis (y) we use `paste`."
      ]
    },
    {
      "cell_type": "code",
      "metadata": {
        "id": "FbwuIL1Uorrl",
        "colab": {
          "base_uri": "https://localhost:8080/"
        },
        "outputId": "c8676bd1-da66-48f3-fcba-8b928782bdb1"
      },
      "source": [
        "! paste column1_cut.txt column1_sed.txt > column1_paste.txt"
      ],
      "execution_count": null,
      "outputs": [
        {
          "output_type": "stream",
          "name": "stdout",
          "text": [
            "shell-init: error retrieving current directory: getcwd: cannot access parent directories: No such file or directory\n",
            "/bin/bash: column1_paste.txt: No such file or directory\n"
          ]
        }
      ]
    },
    {
      "cell_type": "markdown",
      "metadata": {
        "id": "D98PFonfox2_"
      },
      "source": [
        "Check the head and tail to confirm success.\n",
        "\n"
      ]
    },
    {
      "cell_type": "code",
      "metadata": {
        "id": "6QCUlo24o0Av",
        "colab": {
          "base_uri": "https://localhost:8080/"
        },
        "outputId": "2cf6533f-c9a1-40ae-efff-9a946cecbae8"
      },
      "source": [
        "! head column1_paste.txt\n",
        "! tail column1_paste.txt"
      ],
      "execution_count": null,
      "outputs": [
        {
          "output_type": "stream",
          "name": "stdout",
          "text": [
            "shell-init: error retrieving current directory: getcwd: cannot access parent directories: No such file or directory\n",
            "head: cannot open 'column1_paste.txt' for reading: No such file or directory\n",
            "shell-init: error retrieving current directory: getcwd: cannot access parent directories: No such file or directory\n",
            "tail: cannot open 'column1_paste.txt' for reading: No such file or directory\n"
          ]
        }
      ]
    },
    {
      "cell_type": "markdown",
      "metadata": {
        "id": "saDrbNhuo_mA"
      },
      "source": [
        "How many lines are in each of these files using `wc -l`?"
      ]
    },
    {
      "cell_type": "code",
      "metadata": {
        "id": "FTpOO2H-pF-t",
        "colab": {
          "base_uri": "https://localhost:8080/"
        },
        "outputId": "56999cff-80be-4f74-b3e3-07b722fd2931"
      },
      "source": [
        "! wc -l column1_paste.txt column1_cat.txt"
      ],
      "execution_count": null,
      "outputs": [
        {
          "output_type": "stream",
          "name": "stdout",
          "text": [
            "shell-init: error retrieving current directory: getcwd: cannot access parent directories: No such file or directory\n",
            "wc: column1_paste.txt: No such file or directory\n",
            "wc: column1_cat.txt: No such file or directory\n",
            "0 total\n"
          ]
        }
      ]
    },
    {
      "cell_type": "markdown",
      "metadata": {
        "id": "k_CjE9ogKnD3"
      },
      "source": [
        "## 6. Filtering lines with `grep` (inclusion and exclusion)."
      ]
    },
    {
      "cell_type": "code",
      "metadata": {
        "id": "akMTAt0jLN2R",
        "colab": {
          "base_uri": "https://localhost:8080/"
        },
        "outputId": "f2f5a6cc-6031-4f13-8769-0f1caa3b621d"
      },
      "source": [
        "# Remove any variant in the GWAS file that isn't in scientific notation by filtering out lines that do not contain \"E-\".\n",
        "! grep \"E-\" /content/drive/My\\ Drive/FAES_BIOF309/example_data/discrete/example_GWAS.csv "
      ],
      "execution_count": null,
      "outputs": [
        {
          "output_type": "stream",
          "name": "stdout",
          "text": [
            "grep: /content/drive/My Drive/FAES_BIOF309/example_data/discrete/example_GWAS.csv: No such file or directory\n"
          ]
        }
      ]
    },
    {
      "cell_type": "code",
      "metadata": {
        "id": "FZPa9WpPL4ga",
        "colab": {
          "base_uri": "https://localhost:8080/"
        },
        "outputId": "3fd30c20-3a11-4508-a52b-13eb73f6a272"
      },
      "source": [
        "# Lets do the opposite and now exclude those lines by simply adding the `-v` option.\n",
        "! grep -v \"E-\" /content/drive/My\\ Drive/FAES_BIOF309/example_data/discrete/example_GWAS.csv "
      ],
      "execution_count": null,
      "outputs": [
        {
          "output_type": "stream",
          "name": "stdout",
          "text": [
            "grep: /content/drive/My Drive/FAES_BIOF309/example_data/discrete/example_GWAS.csv: No such file or directory\n"
          ]
        }
      ]
    },
    {
      "cell_type": "markdown",
      "metadata": {
        "id": "RvZ1wUpoNnZ-"
      },
      "source": [
        "## 7. Sort the GWAS file by p-value and show the top few lines.\n",
        "Second-to-last column is p-value and we are interested in smallest to largest.\n",
        "`| head` is a pipe, you can add `|` to chain commands together. "
      ]
    },
    {
      "cell_type": "code",
      "metadata": {
        "id": "i7smJIMsN0r_",
        "colab": {
          "base_uri": "https://localhost:8080/"
        },
        "outputId": "d4d548cb-d957-424b-a645-8d733be17b81"
      },
      "source": [
        "! sort --field-separator=',' -k 7,7 /content/drive/My\\ Drive/FAES_BIOF309/example_data/discrete/example_GWAS.csv | head"
      ],
      "execution_count": null,
      "outputs": [
        {
          "output_type": "stream",
          "name": "stdout",
          "text": [
            "sort: cannot read: '/content/drive/My Drive/FAES_BIOF309/example_data/discrete/example_GWAS.csv': No such file or directory\n"
          ]
        }
      ]
    },
    {
      "cell_type": "markdown",
      "metadata": {
        "id": "p_oU-yokpSTX"
      },
      "source": [
        "**Makes sense, now on to some exercises ...**"
      ]
    },
    {
      "cell_type": "markdown",
      "metadata": {
        "id": "GvJ8ZwG7pn0K"
      },
      "source": [
        "# Unit 1: Assignment # 1\n",
        "***Come here to prove your knowledge.***\n",
        "\n",
        "Text cells will indicate a task.  \n",
        "Write your commands in the empty code cells below them."
      ]
    },
    {
      "cell_type": "markdown",
      "metadata": {
        "id": "wxbBn9dRqUzJ"
      },
      "source": [
        "## 1. Print a positive message to the screen, something nice."
      ]
    },
    {
      "cell_type": "code",
      "metadata": {
        "id": "ELzciBM8qVKJ",
        "colab": {
          "base_uri": "https://localhost:8080/"
        },
        "outputId": "e34b61de-ba64-4929-d3a6-7d1f71ffbc63"
      },
      "source": [
        "! echo \"Life is beautiful\""
      ],
      "execution_count": null,
      "outputs": [
        {
          "output_type": "stream",
          "name": "stdout",
          "text": [
            "shell-init: error retrieving current directory: getcwd: cannot access parent directories: No such file or directory\n",
            "Life is beautiful\n"
          ]
        }
      ]
    },
    {
      "cell_type": "markdown",
      "metadata": {
        "id": "2aYrQJ3sqeyY"
      },
      "source": [
        "## 2. What files are in `/content/drive/My\\ Drive/FAES_BIOF309/example_data/discrete` and how large are these files?"
      ]
    },
    {
      "cell_type": "code",
      "metadata": {
        "id": "9IqnLYX9q1_f",
        "colab": {
          "base_uri": "https://localhost:8080/"
        },
        "outputId": "61f7a521-961d-4736-d736-a30710b15848"
      },
      "source": [
        "! ls -1sth  /content/drive/MyDrive/Python course backup  "
      ],
      "execution_count": 9,
      "outputs": [
        {
          "output_type": "stream",
          "name": "stdout",
          "text": [
            "ls: cannot access '/content/drive/MyDrive/Python': No such file or directory\n",
            "ls: cannot access 'course': No such file or directory\n",
            "ls: cannot access 'backup': No such file or directory\n"
          ]
        }
      ]
    },
    {
      "cell_type": "markdown",
      "metadata": {
        "id": "8jmiJDlcq2wa"
      },
      "source": [
        "## 3. Show the top and bottom lines of any file CSV in the directory you just looked at above."
      ]
    },
    {
      "cell_type": "code",
      "metadata": {
        "id": "FOBJ2pQdrJu-",
        "colab": {
          "base_uri": "https://localhost:8080/"
        },
        "outputId": "5e67cd23-64fe-4786-eaa3-eae6915be278"
      },
      "source": [
        "! head /content/drive/MyDrive/Python course backup/example_data/discrete/training_addit.csv"
      ],
      "execution_count": 10,
      "outputs": [
        {
          "output_type": "stream",
          "name": "stdout",
          "text": [
            "head: cannot open '/content/drive/MyDrive/Python' for reading: No such file or directory\n",
            "head: cannot open 'course' for reading: No such file or directory\n",
            "head: cannot open 'backup/example_data/discrete/training_addit.csv' for reading: No such file or directory\n"
          ]
        }
      ]
    },
    {
      "cell_type": "markdown",
      "metadata": {
        "id": "Z1Ma26-wrLhL"
      },
      "source": [
        "## 4. In the file `/content/drive/My\\Drive/FAES_BIOF309/example_data/discrete/training_pheno.csv', show me the top few lines of the last column only. "
      ]
    },
    {
      "cell_type": "code",
      "metadata": {
        "id": "rNgJSh9PsAp0",
        "colab": {
          "base_uri": "https://localhost:8080/"
        },
        "outputId": "4eaa72c6-f0c6-442c-d449-15b8941da412"
      },
      "source": [
        "! cut -f 1 -d ',' /content/drive/MyDrive/FAES_BIOF309/example_data (1)/discrete/training_pheno.csv\n",
        "! head column1_cut.txt"
      ],
      "execution_count": null,
      "outputs": [
        {
          "output_type": "stream",
          "name": "stdout",
          "text": [
            "shell-init: error retrieving current directory: getcwd: cannot access parent directories: No such file or directory\n",
            "/bin/bash: -c: line 0: syntax error near unexpected token `('\n",
            "/bin/bash: -c: line 0: ` cut -f 1 -d ',' /content/drive/MyDrive/FAES_BIOF309/example_data (1)/discrete/training_pheno.csv'\n",
            "shell-init: error retrieving current directory: getcwd: cannot access parent directories: No such file or directory\n",
            "head: cannot open 'column1_cut.txt' for reading: No such file or directory\n"
          ]
        }
      ]
    },
    {
      "cell_type": "markdown",
      "metadata": {
        "id": "HK1bZqF5sBSC"
      },
      "source": [
        "## 5. There are 2 files called `*.bim` in the directory referenced in the cell above. Use `paste` to merge them and show the top and bottom of the files. "
      ]
    },
    {
      "cell_type": "code",
      "metadata": {
        "id": "r8u8qObJsoc1"
      },
      "source": [
        ""
      ],
      "execution_count": null,
      "outputs": []
    },
    {
      "cell_type": "markdown",
      "metadata": {
        "id": "5nUnT7QHsox6"
      },
      "source": [
        "## 6. Clean up any useless files we generated in the current directory during our exercises, these begin with \"column1\". Use `ls` to confirm."
      ]
    },
    {
      "cell_type": "code",
      "metadata": {
        "id": "t3PMnYiEtRrk"
      },
      "source": [
        ""
      ],
      "execution_count": null,
      "outputs": []
    },
    {
      "cell_type": "code",
      "metadata": {
        "id": "TxjxGRGWU2CJ"
      },
      "source": [
        ""
      ],
      "execution_count": null,
      "outputs": []
    },
    {
      "cell_type": "markdown",
      "metadata": {
        "id": "v0NnDxMoMUr0"
      },
      "source": [
        "## 7. Sort one of the `*.bim` files by the 4th column (numerically) and show the top few lines."
      ]
    },
    {
      "cell_type": "code",
      "metadata": {
        "id": "l_VTWdHVMT81"
      },
      "source": [
        ""
      ],
      "execution_count": null,
      "outputs": []
    },
    {
      "cell_type": "markdown",
      "metadata": {
        "id": "NT_iFkB-MWan"
      },
      "source": [
        "## 8. Filter some lines from a file using `grep`."
      ]
    },
    {
      "cell_type": "code",
      "metadata": {
        "id": "TThV3EfpMWvB"
      },
      "source": [
        ""
      ],
      "execution_count": null,
      "outputs": []
    },
    {
      "cell_type": "markdown",
      "metadata": {
        "id": "m3N5THK1MXFG"
      },
      "source": [
        "## 9. Pipe two commands together using `|`."
      ]
    },
    {
      "cell_type": "code",
      "metadata": {
        "id": "n3m-RLXkMXQA"
      },
      "source": [
        ""
      ],
      "execution_count": null,
      "outputs": []
    },
    {
      "cell_type": "markdown",
      "metadata": {
        "id": "ffYKCCsiMXbc"
      },
      "source": [
        "## 10. Write an equivalent `awk` and `cut` command. Two commands with near identical results."
      ]
    },
    {
      "cell_type": "code",
      "metadata": {
        "id": "HAx_qI5OMXru",
        "outputId": "5400ac04-65e1-4fd8-bdb9-9fd97063f612",
        "colab": {
          "base_uri": "https://localhost:8080/"
        }
      },
      "source": [
        "! awk -F ',' '{print $1\" \"$7}' /content/drive/My\\ Drive/FAES_BIOF309/example_data/discrete/example_GWAS.csv"
      ],
      "execution_count": 4,
      "outputs": [
        {
          "output_type": "stream",
          "name": "stdout",
          "text": [
            "awk: cannot open /content/drive/My Drive/FAES_BIOF309/example_data/discrete/example_GWAS.csv (No such file or directory)\n"
          ]
        }
      ]
    },
    {
      "cell_type": "markdown",
      "metadata": {
        "id": "IXN9yr_LtSYT"
      },
      "source": [
        "# Thanks, see you in the next unit!"
      ]
    }
  ]
}